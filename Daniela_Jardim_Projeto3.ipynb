{
  "nbformat": 4,
  "nbformat_minor": 0,
  "metadata": {
    "colab": {
      "provenance": [],
      "include_colab_link": true
    },
    "kernelspec": {
      "name": "python3",
      "display_name": "Python 3"
    },
    "language_info": {
      "name": "python"
    }
  },
  "cells": [
    {
      "cell_type": "markdown",
      "metadata": {
        "id": "view-in-github",
        "colab_type": "text"
      },
      "source": [
        "<a href=\"https://colab.research.google.com/github/Dani-jardim/python_pretalab/blob/main/Daniela_Jardim_Projeto3.ipynb\" target=\"_parent\"><img src=\"https://colab.research.google.com/assets/colab-badge.svg\" alt=\"Open In Colab\"/></a>"
      ]
    },
    {
      "cell_type": "markdown",
      "source": [
        "# PROJETO 3: BIBLIOTECAS PYTHON PARA ANÁLISE DE DADOS"
      ],
      "metadata": {
        "id": "-YX79Qx5Ph1Z"
      }
    },
    {
      "cell_type": "markdown",
      "source": [
        "## Objetivos"
      ],
      "metadata": {
        "id": "Ljzn2TSBRtHY"
      }
    },
    {
      "cell_type": "markdown",
      "source": [
        " 1. *Introduzir as principais bibliotecas de Python para análise de dados:*\n",
        " Explorar bibliotecas amplamente utilizadas, como Pandas, NumPy e Matplotlib, e suas aplicações no tratamento de dados.\n",
        "\n",
        "2. *Demonstrar o uso prático das bibliotecas para análise de dados:* Aplicar essas ferramentas em processos de manipulação, visualização e análise de dados reais.\n",
        "\n",
        "3. *Praticar com dados da PNAD Contínua de 2024 (2º semestre):* Usar os dados da Pesquisa Nacional por Amostra de Domicílios (PNAD) Contínua, que investiga aspectos socioeconômicos da população brasileira, como educação, trabalho, e habitação, para simular análises de políticas públicas e entender o impacto de diferentes variáveis.\n",
        "\n",
        "4. *Aplicar métodos avançados de análise com bibliotecas Python:* Implementar técnicas mais sofisticadas de análise para extrair insights profundos dos dados e explorar agrupamentos,função lambda, tendências e médias."
      ],
      "metadata": {
        "id": "nM9nxh6OR0oX"
      }
    },
    {
      "cell_type": "markdown",
      "source": [
        "## Cenário"
      ],
      "metadata": {
        "id": "qzZ_OePQRxDL"
      }
    },
    {
      "cell_type": "markdown",
      "source": [
        "PNAD CONTINUA DE 2024 - 2 TRIMESTRE (ABR-MAIO-JUN)\n",
        "\n",
        "Dados Brasil:  Com todos os estados\n",
        "\n",
        "Dados Educação: A base de dados tem apenas dados demográficos e perguntas sobre educação.\n",
        "\n",
        "Filtros iniciais:\n",
        "\n",
        "1. Idade entre 18 e 90 anos"
      ],
      "metadata": {
        "id": "AFXiDozoRw3k"
      }
    },
    {
      "cell_type": "markdown",
      "source": [
        " - **OBJETIVO**\n",
        "\n",
        "Entender como está o comportamento dos millenials brasileiros, também conhecida como geração Y, quando o cenário é educação."
      ],
      "metadata": {
        "id": "x-BE58jrXPP8"
      }
    },
    {
      "cell_type": "markdown",
      "source": [],
      "metadata": {
        "id": "zJMSwwIkX3iB"
      }
    },
    {
      "cell_type": "markdown",
      "source": [
        "### O que você precisa fazer no Projeto 3"
      ],
      "metadata": {
        "id": "6TqPs8XoYJ1Y"
      }
    },
    {
      "cell_type": "markdown",
      "source": [
        "  - **Etapa 1**\n",
        "\n",
        "1. Carregar os arquivos 'PNAD24_EDUCACAO.csv', 'dicionario_colunas' com pandas"
      ],
      "metadata": {
        "id": "0b6nx0qAYLgs"
      }
    },
    {
      "cell_type": "markdown",
      "source": [
        " - **ETAPA 2 Tratamento e Limpeza de Dados**\n",
        "\n",
        " 1. Filtrar os dados para idade entre 18 e 35 anos - faixa etaria da geração Y\n",
        " 2. tratar os valores das colunas conforme o dicionario de dados:\n",
        "\n",
        "    sexo,\n",
        "    idade,\n",
        "    raça,\n",
        "    sabe_ler_escrever\n",
        "\n",
        " 3. transformar a coluna idade em faixa etaria conforme o intervalo: 18-23, 24-29 e 30-35."
      ],
      "metadata": {
        "id": "qwZWcuejYxN8"
      }
    },
    {
      "cell_type": "markdown",
      "source": [
        " - **ETAPA 3: ANÁLISE**\n",
        "\n",
        " 1.  Qual volume de pessoas que sabem ler e escrever?\n",
        "   - Faça uma contagem na coluna e mostre o resultado como um gráfico de barras do matplotlib\n",
        "\n",
        "  \n",
        "\n",
        "2.  Como é a distribuição Brasil da geração Y pesquisada?\n",
        "\n",
        "  - Agrupe a coluna sexo,raca, faixa_etaria,sigla_uf e sabe_ler_escrever fazendo a contagem desse agrupamento, salve em um dataframe o resultado.\n",
        "\n",
        "\n",
        "3. Filtre o dataframe do ponto 2 para apenas os que lê e escreve, salve o resultado em novo dataframe.\n",
        "\n",
        "4. Como é o comportamento de homens brancos e mulheres negras no  Brasil da geração Y pesquisada na faixa etária 18-23 que lê e escreve?\n",
        "\n",
        " - Faça um gráfico de barras horizontais para cada gênero filtrado pela raça de cada gênero, em que o eixo y é a sigla dos estados e o eixo x  o volume\n",
        "\n",
        " #dica: para filtrar o dataframe e fazer gráfico vc pode usar o método:\n",
        "\n",
        " df[((df_novo['coluna1'] == valor_filtro) & (df['coluna2'] == valor_filtro) & (df['coluna'] == valor_filtro))].plot(kind='barh', x='coluna1', y='contagem')\n",
        "\n",
        "\n",
        " 5. Escreva uma conclusão do insights que encontrou no ponto 4 (OPCIONAL)"
      ],
      "metadata": {
        "id": "2f9QPKlLalVB"
      }
    },
    {
      "cell_type": "markdown",
      "source": [
        "# Montando o google Drive"
      ],
      "metadata": {
        "id": "Y5HY_0yZsqDl"
      }
    },
    {
      "cell_type": "code",
      "execution_count": null,
      "metadata": {
        "id": "FxMAsupDA7WF",
        "colab": {
          "base_uri": "https://localhost:8080/"
        },
        "outputId": "32215ac9-7a23-4631-b0b9-489d1d64e64a"
      },
      "outputs": [
        {
          "output_type": "stream",
          "name": "stdout",
          "text": [
            "Drive already mounted at /content/drive; to attempt to forcibly remount, call drive.mount(\"/content/drive\", force_remount=True).\n"
          ]
        }
      ],
      "source": [
        "from google.colab import drive\n",
        "drive.mount('/content/drive')"
      ]
    },
    {
      "cell_type": "code",
      "source": [
        "%cd /content/drive/MyDrive/pretaLab/projeto03"
      ],
      "metadata": {
        "colab": {
          "base_uri": "https://localhost:8080/"
        },
        "id": "AecubLRbs3c8",
        "outputId": "0e278344-1ddf-4549-ba8c-64013627797f"
      },
      "execution_count": null,
      "outputs": [
        {
          "output_type": "stream",
          "name": "stdout",
          "text": [
            "/content/drive/MyDrive/pretaLab/projeto03\n"
          ]
        }
      ]
    },
    {
      "cell_type": "code",
      "source": [
        "import os\n",
        "print(os.getcwd())"
      ],
      "metadata": {
        "colab": {
          "base_uri": "https://localhost:8080/"
        },
        "id": "8mpNZYUQs6sk",
        "outputId": "e3023a03-93e6-48f8-e4f5-c6f81ce8ca94"
      },
      "execution_count": null,
      "outputs": [
        {
          "output_type": "stream",
          "name": "stdout",
          "text": [
            "/content/drive/MyDrive/pretaLab/projeto03\n"
          ]
        }
      ]
    },
    {
      "cell_type": "code",
      "source": [
        "!ls"
      ],
      "metadata": {
        "colab": {
          "base_uri": "https://localhost:8080/"
        },
        "id": "TrkEbyNws9UP",
        "outputId": "89013b8c-726d-4888-b33b-8bdacad08002"
      },
      "execution_count": null,
      "outputs": [
        {
          "output_type": "stream",
          "name": "stdout",
          "text": [
            "Daniela_Jardim_Projeto3.ipynb  dicionario_colunas.xlsx\tdicionario_dados.xlsx\n",
            "dicionario_colunas.csv\t       dicionario_dados.csv\tPNAD24_EDUCACAO.csv\n"
          ]
        }
      ]
    },
    {
      "cell_type": "code",
      "source": [
        "# Carregando os arquivos 'PNAD24_EDUCACAO.csv' com pandas\n",
        "import pandas as pd\n",
        "\n",
        "def carregar_dados_csv_PNAD24(arquivo_csv):\n",
        "    df_csv = pd.read_csv(arquivo_csv, delimiter=',')\n",
        "\n",
        "    return df_csv\n",
        "\n",
        "df_csv = carregar_dados_csv_PNAD24('PNAD24_EDUCACAO.csv')\n"
      ],
      "metadata": {
        "id": "obtGqtSWu2xl"
      },
      "execution_count": null,
      "outputs": []
    },
    {
      "cell_type": "code",
      "source": [
        "# Carregando os arquivos 'dicionario_colunas' com pandas\n",
        "\n",
        "def carregar_dados_dicionario_excel( arquivo_excel):\n",
        "    df_excel = pd.read_excel(arquivo_excel, engine='openpyxl')\n",
        "\n",
        "    return df_excel\n",
        "\n",
        "df_dicionario_excel = carregar_dados_dicionario_excel('dicionario_colunas.xlsx')"
      ],
      "metadata": {
        "id": "uo8HK3g8ue3b"
      },
      "execution_count": null,
      "outputs": []
    },
    {
      "cell_type": "code",
      "source": [
        "# Printar dicionario\n",
        "print(df_dicionario_excel.head)"
      ],
      "metadata": {
        "colab": {
          "base_uri": "https://localhost:8080/"
        },
        "collapsed": true,
        "id": "V1782XRE0J1Z",
        "outputId": "a428923c-2630-4304-da65-37ea41ff4881"
      },
      "execution_count": null,
      "outputs": [
        {
          "output_type": "stream",
          "name": "stdout",
          "text": [
            "<bound method NDFrame.head of    nome_coluna_codigo                                    coluna_pergunta  \\\n",
            "0                 ano                                                Ano   \n",
            "1           trimestre                                          Trimestre   \n",
            "2            sigla_uf                      Sigla da Unidade da Federação   \n",
            "3           id_pessoa                             ID Pessoa Entrevistada   \n",
            "4               V2007                                               Sexo   \n",
            "5               V2009             Idade do morador na data de referência   \n",
            "6               V2010                                        Cor ou raça   \n",
            "7               V3001                           ... sabe ler e escrever?   \n",
            "8               V3002                              ... frequenta escola?   \n",
            "9              V3002A                    A escola que ... frequenta é de   \n",
            "10              V3003                  Qual é o curso que ... frequenta?   \n",
            "11             V3003A                  Qual é o curso que ... frequenta?   \n",
            "12              V3004       A duração deste curso que ... frequenta é de   \n",
            "13              V3005            Este curso que ... frequenta é seriado?   \n",
            "14             V3005A       Esse curso que ... frequenta é organizado em   \n",
            "15              V3006     Qual é o ano/série/semestre que ... frequenta?   \n",
            "16             V3006A  Qual é a etapa do ensino fundamental que ... f...   \n",
            "17              V3007    ... já concluiu algum outro curso de graduação?   \n",
            "18              V3008               Anteriormente ... frequentou escola?   \n",
            "19              V3009  Qual foi o curso mais elevado que ... frequent...   \n",
            "20             V3009A  Qual foi o curso mais elevado que ... frequent...   \n",
            "21              V3010  A duração deste curso que ... frequentou anter...   \n",
            "22              V3011  Este curso que ... frequentou anteriormente er...   \n",
            "23             V3011A  Esse curso que ... frequentou anteriormente er...   \n",
            "24              V3012  ... Concluiu com aprovação, pelo menos a prime...   \n",
            "25              V3013  Qual foi o último ano/série/semestre que ... c...   \n",
            "26             V3013A  Qual foi a etapa de ensino fundamental que ......   \n",
            "27             V3013B  ... Concluiu os anos iniciais deste curso que ...   \n",
            "28              V3014  ... Concluiu este curso que frequentou anterio...   \n",
            "\n",
            "               coluna__perguntas_abrev  \n",
            "0                                  ano  \n",
            "1                            trimestre  \n",
            "2                             sigla_uf  \n",
            "3                            id_pessoa  \n",
            "4                                 sexo  \n",
            "5                                idade  \n",
            "6                                 raca  \n",
            "7                    sabe_ler_escrever  \n",
            "8                     frequenta_escola  \n",
            "9                tipo_escola_frequenta  \n",
            "10                     curso_frequenta  \n",
            "11                   curso_frequenta_A  \n",
            "12             duracao_curso_frequenta  \n",
            "13                       curso_seriado  \n",
            "14                   organizacao_curso  \n",
            "15            serie_semestre_frequenta  \n",
            "16              etapa_ensino_frequenta  \n",
            "17            concluiu_outra_graduacao  \n",
            "18     frequentou_escola_anteriormente  \n",
            "19   cursou_mais_elevado_anteriormente  \n",
            "20  cursou_mais_elevado_anteriormenteA  \n",
            "21         duracao_curso_anteriormente  \n",
            "22         curso_seriado_anteriormente  \n",
            "23     organizacao_curso_anteriormente  \n",
            "24    concluiu_primeira_serie_anterior  \n",
            "25     ultima_serie_concluida_anterior  \n",
            "26   etapa_ensino_frequentado_anterior  \n",
            "27     concluiu_anos_iniciais_anterior  \n",
            "28        concluiu_curso_anteriormente  >\n"
          ]
        }
      ]
    },
    {
      "cell_type": "code",
      "source": [
        "#Printar a coluna V2009\n",
        "print(df_dicionario_excel.columns)"
      ],
      "metadata": {
        "colab": {
          "base_uri": "https://localhost:8080/"
        },
        "id": "tHzTM-Q93h0B",
        "outputId": "19b17db4-d980-42d0-a545-bde859e2fe83"
      },
      "execution_count": null,
      "outputs": [
        {
          "output_type": "stream",
          "name": "stdout",
          "text": [
            "Index(['nome_coluna_codigo', 'coluna_pergunta', 'coluna__perguntas_abrev'], dtype='object')\n"
          ]
        }
      ]
    },
    {
      "cell_type": "code",
      "source": [
        "# Printar\n",
        "print(df_csv.columns)"
      ],
      "metadata": {
        "colab": {
          "base_uri": "https://localhost:8080/"
        },
        "collapsed": true,
        "id": "U4uh7hDlz7So",
        "outputId": "663858b7-e775-45a2-c5ad-bf1d950af005"
      },
      "execution_count": null,
      "outputs": [
        {
          "output_type": "stream",
          "name": "stdout",
          "text": [
            "Index(['ano', 'trimestre', 'sigla_uf', 'sigla_uf_nome', 'id_pessoa', 'V2007',\n",
            "       'V2009', 'V2010', 'V3001', 'V3002', 'V3002A', 'V3003', 'V3003A',\n",
            "       'V3004', 'V3005', 'V3005A', 'V3006', 'V3006A', 'V3007', 'V3008',\n",
            "       'V3009', 'V3009A', 'V3010', 'V3011', 'V3011A', 'V3012', 'V3013',\n",
            "       'V3013A', 'V3013B', 'V3014'],\n",
            "      dtype='object')\n"
          ]
        }
      ]
    },
    {
      "cell_type": "markdown",
      "source": [
        "#Filtrar Dados"
      ],
      "metadata": {
        "id": "wn2S30Ir0xjn"
      }
    },
    {
      "cell_type": "code",
      "source": [
        "# Remover linhas onde a coluna de idade (V2009) tenha valores nulos\n",
        "df_csv = df_csv.dropna(subset=['V2009'])"
      ],
      "metadata": {
        "id": "PrUhMbo31JY6"
      },
      "execution_count": null,
      "outputs": []
    },
    {
      "cell_type": "code",
      "source": [
        "# Filtrar os dados para idade entre 18 e 35 anos\n",
        "df_filtrado_csv = df_csv[(df_csv['V2009'] >= 18) & (df_csv['V2009'] <= 35)]\n"
      ],
      "metadata": {
        "collapsed": true,
        "id": "zyu4E42KuydT"
      },
      "execution_count": null,
      "outputs": []
    },
    {
      "cell_type": "code",
      "source": [
        "# Printar dados filtrados\n",
        "print(df_filtrado_csv)"
      ],
      "metadata": {
        "colab": {
          "base_uri": "https://localhost:8080/"
        },
        "collapsed": true,
        "id": "IOfprNuf54JE",
        "outputId": "93bf466a-e79d-4ee5-ff0a-de8c46571dc4"
      },
      "execution_count": null,
      "outputs": [
        {
          "output_type": "stream",
          "name": "stdout",
          "text": [
            "         ano  trimestre sigla_uf        sigla_uf_nome        id_pessoa  \\\n",
            "0       2024          2       AP                Amapá  160000321011101   \n",
            "1       2024          2       AP                Amapá  160000321021101   \n",
            "2       2024          2       AP                Amapá  160000321021102   \n",
            "3       2024          2       AP                Amapá  160000321031104   \n",
            "5       2024          2       AP                Amapá  160000321031103   \n",
            "...      ...        ...      ...                  ...              ...   \n",
            "363960  2024          2       RN  Rio Grande do Norte  240086301071101   \n",
            "363961  2024          2       RN  Rio Grande do Norte  240086301071102   \n",
            "363964  2024          2       RN  Rio Grande do Norte  240086301091101   \n",
            "363967  2024          2       RN  Rio Grande do Norte  240086301121103   \n",
            "363972  2024          2       RN  Rio Grande do Norte  240086301131105   \n",
            "\n",
            "         V2007  V2009  V2010  V3001  V3002  ...  V3009  V3009A  V3010  V3011  \\\n",
            "0       Mulher     27      4      1      2  ...    NaN    10.0    NaN    NaN   \n",
            "1       Mulher     33      4      1      2  ...    NaN    10.0    NaN    NaN   \n",
            "2        Homem     27      4      1      2  ...    NaN     7.0    1.0    NaN   \n",
            "3       Mulher     27      1      1      2  ...    NaN    10.0    NaN    NaN   \n",
            "5        Homem     23      4      1      2  ...    NaN    10.0    NaN    NaN   \n",
            "...        ...    ...    ...    ...    ...  ...    ...     ...    ...    ...   \n",
            "363960   Homem     30      1      1      2  ...    NaN    12.0    NaN    NaN   \n",
            "363961  Mulher     35      1      1      2  ...    NaN    13.0    NaN    NaN   \n",
            "363964  Mulher     28      1      1      2  ...    NaN    10.0    NaN    NaN   \n",
            "363967  Mulher     31      4      1      2  ...    NaN    12.0    NaN    NaN   \n",
            "363972  Mulher     28      1      1      2  ...    NaN    10.0    NaN    NaN   \n",
            "\n",
            "        V3011A  V3012  V3013  V3013A  V3013B  V3014  \n",
            "0          NaN    1.0    3.0     NaN     NaN    1.0  \n",
            "1          NaN    1.0    3.0     NaN     NaN    1.0  \n",
            "2          NaN    1.0    7.0     NaN     NaN    2.0  \n",
            "3          NaN    1.0    3.0     NaN     NaN    1.0  \n",
            "5          NaN    1.0    3.0     NaN     NaN    1.0  \n",
            "...        ...    ...    ...     ...     ...    ...  \n",
            "363960     1.0    1.0   10.0     NaN     NaN    1.0  \n",
            "363961     NaN    NaN    NaN     NaN     NaN    1.0  \n",
            "363964     NaN    1.0    3.0     NaN     NaN    2.0  \n",
            "363967     1.0    1.0    6.0     NaN     NaN    1.0  \n",
            "363972     NaN    1.0    3.0     NaN     NaN    1.0  \n",
            "\n",
            "[117580 rows x 30 columns]\n"
          ]
        }
      ]
    },
    {
      "cell_type": "code",
      "source": [
        "# Printar a quantidade de pessoas na faixa etaria\n",
        "print(len(df_filtrado_csv))"
      ],
      "metadata": {
        "colab": {
          "base_uri": "https://localhost:8080/"
        },
        "id": "dE9_Jzyo6riL",
        "outputId": "0b81a5aa-e606-49dd-9582-529c81fae7ef"
      },
      "execution_count": null,
      "outputs": [
        {
          "output_type": "stream",
          "name": "stdout",
          "text": [
            "117580\n"
          ]
        }
      ]
    },
    {
      "cell_type": "markdown",
      "source": [
        "# MAPEAR: sexo, idade, raça, sabe_ler_escrever"
      ],
      "metadata": {
        "id": "kjgapiCa6cj7"
      }
    },
    {
      "cell_type": "code",
      "source": [
        "# Mapear as colunas conforme o dicionário de dados -  sexo, idade, raça, sabe_ler_escrever\n",
        "\n",
        "sexo_map = {\n",
        "    'Homem': 'Homem',\n",
        "    'Mulher': 'Mulher'\n",
        "}\n",
        "\n",
        "idade_map = {\n",
        "    1: '18-23',\n",
        "    2: '24-29',\n",
        "    3: '30-35'\n",
        "}\n",
        "\n",
        "raca_map = {\n",
        "    1: 'Branca',\n",
        "    2: 'Preta',\n",
        "    3: 'Amarela',\n",
        "    4: 'Parda',\n",
        "    5: 'Indígena',\n",
        "    9: 'Ignorado'\n",
        "}\n",
        "\n",
        "sabe_ler_escrever_map = {\n",
        "    1: 'Sim',\n",
        "    2: 'Não'\n",
        "}\n"
      ],
      "metadata": {
        "id": "2CgFoH5E6UcP"
      },
      "execution_count": null,
      "outputs": []
    },
    {
      "cell_type": "code",
      "source": [
        "# Printar mapeamento\n",
        "print(sexo_map)\n",
        "print(idade_map)\n",
        "print(raca_map)\n",
        "print(sabe_ler_escrever_map)"
      ],
      "metadata": {
        "colab": {
          "base_uri": "https://localhost:8080/"
        },
        "id": "d_rsAqGk8YgG",
        "outputId": "7b720c05-b898-4e21-8819-ae27ddf058cd"
      },
      "execution_count": null,
      "outputs": [
        {
          "output_type": "stream",
          "name": "stdout",
          "text": [
            "{'Homem': 'Homem', 'Mulher': 'Mulher'}\n",
            "{1: '18-23', 2: '24-29', 3: '30-35'}\n",
            "{1: 'Branca', 2: 'Preta', 3: 'Amarela', 4: 'Parda', 5: 'Indígena', 9: 'Ignorado'}\n",
            "{1: 'Sim', 2: 'Não'}\n"
          ]
        }
      ]
    },
    {
      "cell_type": "code",
      "source": [
        "# Alterar nome pelo nome do mapeamento\n",
        "df_filtrado_csv.loc[:,'Sexo'] = df_filtrado_csv['V2007'].map(sexo_map)\n",
        "df_filtrado_csv.loc[:,'Raça'] = df_filtrado_csv['V2010'].map(raca_map)\n",
        "df_filtrado_csv.loc[:, 'Sabe ler e escrever'] = df_filtrado_csv['V3001'].map(sabe_ler_escrever_map)\n"
      ],
      "metadata": {
        "colab": {
          "base_uri": "https://localhost:8080/"
        },
        "collapsed": true,
        "id": "TOl78Y0E7Nzx",
        "outputId": "e8ee8113-bab3-4032-8591-6093571d287c"
      },
      "execution_count": null,
      "outputs": [
        {
          "output_type": "stream",
          "name": "stderr",
          "text": [
            "<ipython-input-112-91d46dd06aea>:2: SettingWithCopyWarning: \n",
            "A value is trying to be set on a copy of a slice from a DataFrame.\n",
            "Try using .loc[row_indexer,col_indexer] = value instead\n",
            "\n",
            "See the caveats in the documentation: https://pandas.pydata.org/pandas-docs/stable/user_guide/indexing.html#returning-a-view-versus-a-copy\n",
            "  df_filtrado_csv.loc[:,'Sexo'] = df_filtrado_csv['V2007'].map(sexo_map)\n",
            "<ipython-input-112-91d46dd06aea>:3: SettingWithCopyWarning: \n",
            "A value is trying to be set on a copy of a slice from a DataFrame.\n",
            "Try using .loc[row_indexer,col_indexer] = value instead\n",
            "\n",
            "See the caveats in the documentation: https://pandas.pydata.org/pandas-docs/stable/user_guide/indexing.html#returning-a-view-versus-a-copy\n",
            "  df_filtrado_csv.loc[:,'Raça'] = df_filtrado_csv['V2010'].map(raca_map)\n",
            "<ipython-input-112-91d46dd06aea>:4: SettingWithCopyWarning: \n",
            "A value is trying to be set on a copy of a slice from a DataFrame.\n",
            "Try using .loc[row_indexer,col_indexer] = value instead\n",
            "\n",
            "See the caveats in the documentation: https://pandas.pydata.org/pandas-docs/stable/user_guide/indexing.html#returning-a-view-versus-a-copy\n",
            "  df_filtrado_csv.loc[:, 'Sabe ler e escrever'] = df_filtrado_csv['V3001'].map(sabe_ler_escrever_map)\n"
          ]
        }
      ]
    },
    {
      "cell_type": "code",
      "source": [
        "# Printar tabela com novos dados\n",
        "print(df_filtrado_csv)\n"
      ],
      "metadata": {
        "colab": {
          "base_uri": "https://localhost:8080/"
        },
        "collapsed": true,
        "id": "0fenav1S9hWJ",
        "outputId": "efe1d732-23c0-4860-9da6-262504f767fa"
      },
      "execution_count": null,
      "outputs": [
        {
          "output_type": "stream",
          "name": "stdout",
          "text": [
            "         ano  trimestre sigla_uf        sigla_uf_nome        id_pessoa  \\\n",
            "0       2024          2       AP                Amapá  160000321011101   \n",
            "1       2024          2       AP                Amapá  160000321021101   \n",
            "2       2024          2       AP                Amapá  160000321021102   \n",
            "3       2024          2       AP                Amapá  160000321031104   \n",
            "5       2024          2       AP                Amapá  160000321031103   \n",
            "...      ...        ...      ...                  ...              ...   \n",
            "363960  2024          2       RN  Rio Grande do Norte  240086301071101   \n",
            "363961  2024          2       RN  Rio Grande do Norte  240086301071102   \n",
            "363964  2024          2       RN  Rio Grande do Norte  240086301091101   \n",
            "363967  2024          2       RN  Rio Grande do Norte  240086301121103   \n",
            "363972  2024          2       RN  Rio Grande do Norte  240086301131105   \n",
            "\n",
            "         V2007  V2009  V2010  V3001  V3002  ...  V3011  V3011A  V3012  V3013  \\\n",
            "0       Mulher     27      4      1      2  ...    NaN     NaN    1.0    3.0   \n",
            "1       Mulher     33      4      1      2  ...    NaN     NaN    1.0    3.0   \n",
            "2        Homem     27      4      1      2  ...    NaN     NaN    1.0    7.0   \n",
            "3       Mulher     27      1      1      2  ...    NaN     NaN    1.0    3.0   \n",
            "5        Homem     23      4      1      2  ...    NaN     NaN    1.0    3.0   \n",
            "...        ...    ...    ...    ...    ...  ...    ...     ...    ...    ...   \n",
            "363960   Homem     30      1      1      2  ...    NaN     1.0    1.0   10.0   \n",
            "363961  Mulher     35      1      1      2  ...    NaN     NaN    NaN    NaN   \n",
            "363964  Mulher     28      1      1      2  ...    NaN     NaN    1.0    3.0   \n",
            "363967  Mulher     31      4      1      2  ...    NaN     1.0    1.0    6.0   \n",
            "363972  Mulher     28      1      1      2  ...    NaN     NaN    1.0    3.0   \n",
            "\n",
            "        V3013A  V3013B  V3014    Sexo    Raça  Sabe ler e escrever  \n",
            "0          NaN     NaN    1.0  Mulher   Parda                  Sim  \n",
            "1          NaN     NaN    1.0  Mulher   Parda                  Sim  \n",
            "2          NaN     NaN    2.0   Homem   Parda                  Sim  \n",
            "3          NaN     NaN    1.0  Mulher  Branca                  Sim  \n",
            "5          NaN     NaN    1.0   Homem   Parda                  Sim  \n",
            "...        ...     ...    ...     ...     ...                  ...  \n",
            "363960     NaN     NaN    1.0   Homem  Branca                  Sim  \n",
            "363961     NaN     NaN    1.0  Mulher  Branca                  Sim  \n",
            "363964     NaN     NaN    2.0  Mulher  Branca                  Sim  \n",
            "363967     NaN     NaN    1.0  Mulher   Parda                  Sim  \n",
            "363972     NaN     NaN    1.0  Mulher  Branca                  Sim  \n",
            "\n",
            "[117580 rows x 33 columns]\n"
          ]
        }
      ]
    },
    {
      "cell_type": "code",
      "source": [
        "# Printar nova tabela com dados selecionados: id_pessoa, sexo, raça, idade e sabe_ler_escrever\n",
        "print(df_filtrado_csv[['id_pessoa', 'Sexo', 'Raça', 'V2009', 'Sabe ler e escrever']])\n"
      ],
      "metadata": {
        "colab": {
          "base_uri": "https://localhost:8080/"
        },
        "collapsed": true,
        "id": "3Mir5oV09vS_",
        "outputId": "8973dede-2d46-48f4-9869-cf60f8b27abd"
      },
      "execution_count": null,
      "outputs": [
        {
          "output_type": "stream",
          "name": "stdout",
          "text": [
            "              id_pessoa    Sexo    Raça  V2009 Sabe ler e escrever\n",
            "0       160000321011101  Mulher   Parda     27                 Sim\n",
            "1       160000321021101  Mulher   Parda     33                 Sim\n",
            "2       160000321021102   Homem   Parda     27                 Sim\n",
            "3       160000321031104  Mulher  Branca     27                 Sim\n",
            "5       160000321031103   Homem   Parda     23                 Sim\n",
            "...                 ...     ...     ...    ...                 ...\n",
            "363960  240086301071101   Homem  Branca     30                 Sim\n",
            "363961  240086301071102  Mulher  Branca     35                 Sim\n",
            "363964  240086301091101  Mulher  Branca     28                 Sim\n",
            "363967  240086301121103  Mulher   Parda     31                 Sim\n",
            "363972  240086301131105  Mulher  Branca     28                 Sim\n",
            "\n",
            "[117580 rows x 5 columns]\n"
          ]
        }
      ]
    },
    {
      "cell_type": "code",
      "source": [
        "# Criar faixas etárias\n",
        "faixas_etarias = [17, 23, 29, 35]\n",
        "nomes_faixas = ['18-23', '24-29', '30-35']\n"
      ],
      "metadata": {
        "collapsed": true,
        "id": "8gs1LnPaA0H8"
      },
      "execution_count": null,
      "outputs": []
    },
    {
      "cell_type": "code",
      "source": [
        "# Criar uma nova coluna 'Faixa Etária'\n",
        "\n",
        "df_filtrado_csv.loc[:,'Faixa Etária'] = pd.cut(df_filtrado_csv.loc[:,'V2009'], bins=faixas_etarias, labels=nomes_faixas)"
      ],
      "metadata": {
        "id": "QIF5qA1MBMvt"
      },
      "execution_count": null,
      "outputs": []
    },
    {
      "cell_type": "code",
      "source": [
        "# Printar o DataFrame alterado\n",
        "print(df_filtrado_csv)"
      ],
      "metadata": {
        "colab": {
          "base_uri": "https://localhost:8080/"
        },
        "id": "oHe9zcAbBPNo",
        "outputId": "18a9a4dc-08dc-4c6e-86c7-fd16e12fa52c"
      },
      "execution_count": null,
      "outputs": [
        {
          "output_type": "stream",
          "name": "stdout",
          "text": [
            "         ano  trimestre sigla_uf        sigla_uf_nome        id_pessoa  \\\n",
            "0       2024          2       AP                Amapá  160000321011101   \n",
            "1       2024          2       AP                Amapá  160000321021101   \n",
            "2       2024          2       AP                Amapá  160000321021102   \n",
            "3       2024          2       AP                Amapá  160000321031104   \n",
            "5       2024          2       AP                Amapá  160000321031103   \n",
            "...      ...        ...      ...                  ...              ...   \n",
            "363960  2024          2       RN  Rio Grande do Norte  240086301071101   \n",
            "363961  2024          2       RN  Rio Grande do Norte  240086301071102   \n",
            "363964  2024          2       RN  Rio Grande do Norte  240086301091101   \n",
            "363967  2024          2       RN  Rio Grande do Norte  240086301121103   \n",
            "363972  2024          2       RN  Rio Grande do Norte  240086301131105   \n",
            "\n",
            "         V2007  V2009  V2010  V3001  V3002  ...  V3011A  V3012  V3013  V3013A  \\\n",
            "0       Mulher     27      4      1      2  ...     NaN    1.0    3.0     NaN   \n",
            "1       Mulher     33      4      1      2  ...     NaN    1.0    3.0     NaN   \n",
            "2        Homem     27      4      1      2  ...     NaN    1.0    7.0     NaN   \n",
            "3       Mulher     27      1      1      2  ...     NaN    1.0    3.0     NaN   \n",
            "5        Homem     23      4      1      2  ...     NaN    1.0    3.0     NaN   \n",
            "...        ...    ...    ...    ...    ...  ...     ...    ...    ...     ...   \n",
            "363960   Homem     30      1      1      2  ...     1.0    1.0   10.0     NaN   \n",
            "363961  Mulher     35      1      1      2  ...     NaN    NaN    NaN     NaN   \n",
            "363964  Mulher     28      1      1      2  ...     NaN    1.0    3.0     NaN   \n",
            "363967  Mulher     31      4      1      2  ...     1.0    1.0    6.0     NaN   \n",
            "363972  Mulher     28      1      1      2  ...     NaN    1.0    3.0     NaN   \n",
            "\n",
            "        V3013B  V3014    Sexo    Raça  Sabe ler e escrever  Faixa Etária  \n",
            "0          NaN    1.0  Mulher   Parda                  Sim         24-29  \n",
            "1          NaN    1.0  Mulher   Parda                  Sim         30-35  \n",
            "2          NaN    2.0   Homem   Parda                  Sim         24-29  \n",
            "3          NaN    1.0  Mulher  Branca                  Sim         24-29  \n",
            "5          NaN    1.0   Homem   Parda                  Sim         18-23  \n",
            "...        ...    ...     ...     ...                  ...           ...  \n",
            "363960     NaN    1.0   Homem  Branca                  Sim         30-35  \n",
            "363961     NaN    1.0  Mulher  Branca                  Sim         30-35  \n",
            "363964     NaN    2.0  Mulher  Branca                  Sim         24-29  \n",
            "363967     NaN    1.0  Mulher   Parda                  Sim         30-35  \n",
            "363972     NaN    1.0  Mulher  Branca                  Sim         24-29  \n",
            "\n",
            "[117580 rows x 34 columns]\n"
          ]
        }
      ]
    },
    {
      "cell_type": "markdown",
      "source": [
        "#Análise"
      ],
      "metadata": {
        "id": "ycAJX5r1ATOV"
      }
    },
    {
      "cell_type": "code",
      "source": [
        "#importar matplotlib.pyplot para graficos\n",
        "import matplotlib.pyplot as plt"
      ],
      "metadata": {
        "id": "YTZfFoouBfps"
      },
      "execution_count": null,
      "outputs": []
    },
    {
      "cell_type": "code",
      "source": [
        "# Contar todas as pessoas que sabem ler e escrever\n",
        "contagem_sabe_ler_escrever = df_filtrado_csv['Sabe ler e escrever'].value_counts()\n",
        "print(contagem_sabe_ler_escrever)"
      ],
      "metadata": {
        "colab": {
          "base_uri": "https://localhost:8080/"
        },
        "id": "3biYEYdWASgw",
        "outputId": "ea333dd9-c004-4e5d-e44a-20adda120a64"
      },
      "execution_count": null,
      "outputs": [
        {
          "output_type": "stream",
          "name": "stdout",
          "text": [
            "Sabe ler e escrever\n",
            "Sim    116065\n",
            "Não      1515\n",
            "Name: count, dtype: int64\n"
          ]
        }
      ]
    },
    {
      "cell_type": "code",
      "source": [
        "# Contagem na coluna e mostre o resultado como um gráfico de barras do matplotlib\n",
        "plt.figure(figsize=(8, 6))\n",
        "plt.bar(contagem_sabe_ler_escrever.index, contagem_sabe_ler_escrever.values)\n",
        "plt.xlabel('Sabe ler e escrever')\n",
        "plt.ylabel('Contagem')\n",
        "plt.title('Contagem de Sabe ler e escrever')\n",
        "plt.show()"
      ],
      "metadata": {
        "colab": {
          "base_uri": "https://localhost:8080/",
          "height": 564
        },
        "id": "2WMazfzyAY2t",
        "outputId": "2c8b8d5f-7e9d-490a-c057-cd586e03a3e3"
      },
      "execution_count": null,
      "outputs": [
        {
          "output_type": "display_data",
          "data": {
            "text/plain": [
              "<Figure size 800x600 with 1 Axes>"
            ],
            "image/png": "[encoded data removed]"
          },
          "metadata": {}
        }
      ]
    },
    {
      "cell_type": "code",
      "source": [
        "# Como é a distribuição Brasil da geração Y pesquisada?\n",
        "# Agrupar as colunas sexo,raca, faixa_etaria,sigla_uf e sabe_ler_escrever e contar\n",
        "\n",
        "agrupamento = df_filtrado_csv.groupby(['Sexo', 'Raça', 'Faixa Etária', 'sigla_uf', 'Sabe ler e escrever']).size().reset_index(name='Contagem')\n",
        "print(agrupamento)\n"
      ],
      "metadata": {
        "colab": {
          "base_uri": "https://localhost:8080/"
        },
        "id": "-rjaSuKxAeog",
        "outputId": "aa7ae085-4e03-42d5-d730-caaf60b856e5"
      },
      "execution_count": null,
      "outputs": [
        {
          "output_type": "stream",
          "name": "stdout",
          "text": [
            "        Sexo     Raça Faixa Etária sigla_uf Sabe ler e escrever  Contagem\n",
            "0      Homem  Amarela        18-23       AC                 Não         0\n",
            "1      Homem  Amarela        18-23       AC                 Sim         0\n",
            "2      Homem  Amarela        18-23       AL                 Não         0\n",
            "3      Homem  Amarela        18-23       AL                 Sim         5\n",
            "4      Homem  Amarela        18-23       AM                 Não         0\n",
            "...      ...      ...          ...      ...                 ...       ...\n",
            "1939  Mulher    Preta        30-35       SE                 Sim        41\n",
            "1940  Mulher    Preta        30-35       SP                 Não         2\n",
            "1941  Mulher    Preta        30-35       SP                 Sim       126\n",
            "1942  Mulher    Preta        30-35       TO                 Não         0\n",
            "1943  Mulher    Preta        30-35       TO                 Sim        30\n",
            "\n",
            "[1944 rows x 6 columns]\n"
          ]
        },
        {
          "output_type": "stream",
          "name": "stderr",
          "text": [
            "<ipython-input-127-196339c4cc1c>:4: FutureWarning: The default of observed=False is deprecated and will be changed to True in a future version of pandas. Pass observed=False to retain current behavior or observed=True to adopt the future default and silence this warning.\n",
            "  agrupamento = df_filtrado_csv.groupby(['Sexo', 'Raça', 'Faixa Etária', 'sigla_uf', 'Sabe ler e escrever']).size().reset_index(name='Contagem')\n"
          ]
        }
      ]
    },
    {
      "cell_type": "code",
      "source": [
        "# Filtre o dataframe do ponto 2 para apenas os que lê e escreve, salve o resultado em novo dataframe.\n",
        "df_novo_sabem_ler_escrever = agrupamento[agrupamento['Sabe ler e escrever'] == 'Sim']\n",
        "print(df_novo_sabem_ler_escrever)"
      ],
      "metadata": {
        "colab": {
          "base_uri": "https://localhost:8080/"
        },
        "id": "0FPAbi4LAmEL",
        "outputId": "b3b0a400-4c1c-4451-d90b-462070940353"
      },
      "execution_count": null,
      "outputs": [
        {
          "output_type": "stream",
          "name": "stdout",
          "text": [
            "        Sexo     Raça Faixa Etária sigla_uf Sabe ler e escrever  Contagem\n",
            "1      Homem  Amarela        18-23       AC                 Sim         0\n",
            "3      Homem  Amarela        18-23       AL                 Sim         5\n",
            "5      Homem  Amarela        18-23       AM                 Sim         1\n",
            "7      Homem  Amarela        18-23       AP                 Sim         0\n",
            "9      Homem  Amarela        18-23       BA                 Sim         1\n",
            "...      ...      ...          ...      ...                 ...       ...\n",
            "1935  Mulher    Preta        30-35       RS                 Sim        57\n",
            "1937  Mulher    Preta        30-35       SC                 Sim        60\n",
            "1939  Mulher    Preta        30-35       SE                 Sim        41\n",
            "1941  Mulher    Preta        30-35       SP                 Sim       126\n",
            "1943  Mulher    Preta        30-35       TO                 Sim        30\n",
            "\n",
            "[972 rows x 6 columns]\n"
          ]
        }
      ]
    },
    {
      "cell_type": "code",
      "source": [
        "# Salvar o resultado em um arquivo CSV, se necessário\n",
        "df_novo_sabem_ler_escrever.to_csv('df_novo_sabem_ler_escrever.csv', index=False)\n"
      ],
      "metadata": {
        "id": "jZX4ajvLAopE"
      },
      "execution_count": null,
      "outputs": []
    },
    {
      "cell_type": "code",
      "source": [
        "# Printar o resultado de sabem ler\n",
        "print(df_novo_sabem_ler_escrever)"
      ],
      "metadata": {
        "colab": {
          "base_uri": "https://localhost:8080/"
        },
        "id": "LjZwhF0DEV6B",
        "outputId": "030395b5-e11b-4225-def5-359d1c3d7936"
      },
      "execution_count": null,
      "outputs": [
        {
          "output_type": "stream",
          "name": "stdout",
          "text": [
            "        Sexo     Raça Faixa Etária sigla_uf Sabe ler e escrever  Contagem\n",
            "1      Homem  Amarela        18-23       AC                 Sim         0\n",
            "3      Homem  Amarela        18-23       AL                 Sim         5\n",
            "5      Homem  Amarela        18-23       AM                 Sim         1\n",
            "7      Homem  Amarela        18-23       AP                 Sim         0\n",
            "9      Homem  Amarela        18-23       BA                 Sim         1\n",
            "...      ...      ...          ...      ...                 ...       ...\n",
            "1935  Mulher    Preta        30-35       RS                 Sim        57\n",
            "1937  Mulher    Preta        30-35       SC                 Sim        60\n",
            "1939  Mulher    Preta        30-35       SE                 Sim        41\n",
            "1941  Mulher    Preta        30-35       SP                 Sim       126\n",
            "1943  Mulher    Preta        30-35       TO                 Sim        30\n",
            "\n",
            "[972 rows x 6 columns]\n"
          ]
        }
      ]
    },
    {
      "cell_type": "code",
      "source": [
        "# Filtrar quantos homens brancos de 18-23 sabem ler\n",
        "\n",
        "df_homem_brancos_sabem_ler_escrever = df_novo_sabem_ler_escrever [\n",
        "    (df_novo_sabem_ler_escrever['Sabe ler e escrever'] == 'Sim')&\n",
        "    (df_novo_sabem_ler_escrever['Sexo'] == 'Homem') &\n",
        "    (df_novo_sabem_ler_escrever['Raça'] == 'Branca')&\n",
        "    (df_novo_sabem_ler_escrever['Faixa Etária'] == '18-23')\n",
        "]\n",
        "\n",
        "print(df_homem_brancos_sabem_ler_escrever)"
      ],
      "metadata": {
        "colab": {
          "base_uri": "https://localhost:8080/"
        },
        "id": "fwR6n2-gEGPF",
        "outputId": "df10671c-4427-4e04-d456-057231e14bce"
      },
      "execution_count": null,
      "outputs": [
        {
          "output_type": "stream",
          "name": "stdout",
          "text": [
            "      Sexo    Raça Faixa Etária sigla_uf Sabe ler e escrever  Contagem\n",
            "163  Homem  Branca        18-23       AC                 Sim        91\n",
            "165  Homem  Branca        18-23       AL                 Sim       233\n",
            "167  Homem  Branca        18-23       AM                 Sim       115\n",
            "169  Homem  Branca        18-23       AP                 Sim        54\n",
            "171  Homem  Branca        18-23       BA                 Sim       151\n",
            "173  Homem  Branca        18-23       CE                 Sim       204\n",
            "175  Homem  Branca        18-23       DF                 Sim       114\n",
            "177  Homem  Branca        18-23       ES                 Sim       200\n",
            "179  Homem  Branca        18-23       GO                 Sim       209\n",
            "181  Homem  Branca        18-23       MA                 Sim       252\n",
            "183  Homem  Branca        18-23       MG                 Sim       473\n",
            "185  Homem  Branca        18-23       MS                 Sim       153\n",
            "187  Homem  Branca        18-23       MT                 Sim       138\n",
            "189  Homem  Branca        18-23       PA                 Sim       173\n",
            "191  Homem  Branca        18-23       PB                 Sim       174\n",
            "193  Homem  Branca        18-23       PE                 Sim       230\n",
            "195  Homem  Branca        18-23       PI                 Sim        80\n",
            "197  Homem  Branca        18-23       PR                 Sim       613\n",
            "199  Homem  Branca        18-23       RJ                 Sim       437\n",
            "201  Homem  Branca        18-23       RN                 Sim       161\n",
            "203  Homem  Branca        18-23       RO                 Sim        94\n",
            "205  Homem  Branca        18-23       RR                 Sim        50\n",
            "207  Homem  Branca        18-23       RS                 Sim       610\n",
            "209  Homem  Branca        18-23       SC                 Sim       851\n",
            "211  Homem  Branca        18-23       SE                 Sim        96\n",
            "213  Homem  Branca        18-23       SP                 Sim       758\n",
            "215  Homem  Branca        18-23       TO                 Sim        60\n"
          ]
        }
      ]
    },
    {
      "cell_type": "code",
      "source": [
        "# Filtrar quantos mulheres negras de 18-23 sabem ler\n",
        "df_mulheres_negras_sabem_ler_escrever = df_novo_sabem_ler_escrever [\n",
        "    (df_novo_sabem_ler_escrever['Sabe ler e escrever'] == 'Sim')&\n",
        "    (df_novo_sabem_ler_escrever['Sexo'] == 'Mulher') &\n",
        "    (df_novo_sabem_ler_escrever['Raça'] == 'Preta')&\n",
        "    (df_novo_sabem_ler_escrever['Faixa Etária'] == '18-23')\n",
        "]\n",
        "\n",
        "print(df_mulheres_negras_sabem_ler_escrever)\n"
      ],
      "metadata": {
        "colab": {
          "base_uri": "https://localhost:8080/"
        },
        "id": "gBOHkazjGKT9",
        "outputId": "7b9ae2b9-ade0-4f2c-915f-af29541b6124"
      },
      "execution_count": null,
      "outputs": [
        {
          "output_type": "stream",
          "name": "stdout",
          "text": [
            "        Sexo   Raça Faixa Etária sigla_uf Sabe ler e escrever  Contagem\n",
            "1783  Mulher  Preta        18-23       AC                 Sim        29\n",
            "1785  Mulher  Preta        18-23       AL                 Sim        79\n",
            "1787  Mulher  Preta        18-23       AM                 Sim        24\n",
            "1789  Mulher  Preta        18-23       AP                 Sim        24\n",
            "1791  Mulher  Preta        18-23       BA                 Sim       234\n",
            "1793  Mulher  Preta        18-23       CE                 Sim        31\n",
            "1795  Mulher  Preta        18-23       DF                 Sim        48\n",
            "1797  Mulher  Preta        18-23       ES                 Sim        82\n",
            "1799  Mulher  Preta        18-23       GO                 Sim        58\n",
            "1801  Mulher  Preta        18-23       MA                 Sim       159\n",
            "1803  Mulher  Preta        18-23       MG                 Sim       189\n",
            "1805  Mulher  Preta        18-23       MS                 Sim        25\n",
            "1807  Mulher  Preta        18-23       MT                 Sim        55\n",
            "1809  Mulher  Preta        18-23       PA                 Sim        78\n",
            "1811  Mulher  Preta        18-23       PB                 Sim        33\n",
            "1813  Mulher  Preta        18-23       PE                 Sim        53\n",
            "1815  Mulher  Preta        18-23       PI                 Sim        56\n",
            "1817  Mulher  Preta        18-23       PR                 Sim        34\n",
            "1819  Mulher  Preta        18-23       RJ                 Sim       209\n",
            "1821  Mulher  Preta        18-23       RN                 Sim        39\n",
            "1823  Mulher  Preta        18-23       RO                 Sim        24\n",
            "1825  Mulher  Preta        18-23       RR                 Sim        13\n",
            "1827  Mulher  Preta        18-23       RS                 Sim        62\n",
            "1829  Mulher  Preta        18-23       SC                 Sim        35\n",
            "1831  Mulher  Preta        18-23       SE                 Sim        35\n",
            "1833  Mulher  Preta        18-23       SP                 Sim       103\n",
            "1835  Mulher  Preta        18-23       TO                 Sim        33\n"
          ]
        }
      ]
    },
    {
      "cell_type": "markdown",
      "source": [
        "#Gerando resultados em graficos"
      ],
      "metadata": {
        "id": "HBk-MRk-G68V"
      }
    },
    {
      "cell_type": "code",
      "source": [
        "# Gerar um grafico com o resultado de homens brancos de 18-23 que anos sabem ler\n",
        "plt.figure(figsize=(8, 6))\n",
        "plt.barh(df_homem_brancos_sabem_ler_escrever['sigla_uf'], df_homem_brancos_sabem_ler_escrever['Contagem'])\n",
        "plt.xlabel('Contagem')\n",
        "plt.ylabel('UF')\n",
        "plt.title('Mulheres Negras de 18-23 que sabem ler')\n",
        "plt.show()\n",
        "\n"
      ],
      "metadata": {
        "colab": {
          "base_uri": "https://localhost:8080/",
          "height": 564
        },
        "id": "a-EcQgdZGkFH",
        "outputId": "f67bfe84-b799-436d-97b0-99b49826d41c"
      },
      "execution_count": null,
      "outputs": [
        {
          "output_type": "display_data",
          "data": {
            "text/plain": [
              "<Figure size 800x600 with 1 Axes>"
            ],
            "image/png": "[encoded data removed]"
          },
          "metadata": {}
        }
      ]
    },
    {
      "cell_type": "code",
      "source": [
        "#Gerar um grafico com barras horizontais com o resultado de mulheres negras 18-23 anos que sabem ler\n",
        "plt.figure(figsize=(8, 6))\n",
        "plt.barh(df_mulheres_negras_sabem_ler_escrever['sigla_uf'], df_mulheres_negras_sabem_ler_escrever['Contagem'])\n",
        "plt.xlabel('Contagem')\n",
        "plt.ylabel('UF')\n",
        "plt.title('Mulheres Negras de 18-23 que sabem ler')\n",
        "plt.show()\n",
        "\n"
      ],
      "metadata": {
        "colab": {
          "base_uri": "https://localhost:8080/",
          "height": 564
        },
        "id": "QtZC_l5UGnbk",
        "outputId": "e905fe6b-b7c7-4bcb-aa6a-858a2968833a"
      },
      "execution_count": null,
      "outputs": [
        {
          "output_type": "display_data",
          "data": {
            "text/plain": [
              "<Figure size 800x600 with 1 Axes>"
            ],
            "image/png": "[encoded data removed]"
          },
          "metadata": {}
        }
      ]
    }
  ]
}