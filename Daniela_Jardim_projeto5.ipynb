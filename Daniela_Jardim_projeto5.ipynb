{
  "nbformat": 4,
  "nbformat_minor": 0,
  "metadata": {
    "colab": {
      "provenance": [],
      "include_colab_link": true
    },
    "kernelspec": {
      "name": "python3",
      "display_name": "Python 3"
    },
    "language_info": {
      "name": "python"
    }
  },
  "cells": [
    {
      "cell_type": "markdown",
      "metadata": {
        "id": "view-in-github",
        "colab_type": "text"
      },
      "source": [
        "<a href=\"https://colab.research.google.com/github/Dani-jardim/python_pretalab/blob/main/Daniela_Jardim_projeto5.ipynb\" target=\"_parent\"><img src=\"https://colab.research.google.com/assets/colab-badge.svg\" alt=\"Open In Colab\"/></a>"
      ]
    },
    {
      "cell_type": "markdown",
      "source": [
        "# Projeto Final de Análise de Dados com Python - Avaliação de Conhecimentos\n"
      ],
      "metadata": {
        "id": "4kklWnOSJYy8"
      }
    },
    {
      "cell_type": "markdown",
      "source": [
        "## Introdução ao Projeto:"
      ],
      "metadata": {
        "id": "j9bSPh3bJtwg"
      }
    },
    {
      "cell_type": "markdown",
      "source": [
        "Neste projeto final, vocês irão utilizar o banco de dados da NBA (Basketball) disponível no Kaggle para realizar uma análise completa, incluindo ETL (Extração, Transformação e Carregamento de dados), manipulação de banco de dados, consulta e cruzamento em SQL, análise estatística, e a construção de insights a partir dos dados.\n",
        "\n",
        "O objetivo é aplicar o que foi aprendido ao longo do curso sobre manipulação de arquivos e bancos de dados, análise de dados com Python, além de desenvolver um pensamento crítico e analítico para a tomada de decisões com base nos dados."
      ],
      "metadata": {
        "id": "vpGR0p5TJvVQ"
      }
    },
    {
      "cell_type": "markdown",
      "source": [
        "## Resumo dos Dados:"
      ],
      "metadata": {
        "id": "7vXjJMvBJ-c8"
      }
    },
    {
      "cell_type": "markdown",
      "source": [
        "\n",
        "O banco de dados contém diversas tabelas relacionadas à NBA, permitindo realizar uma análise detalhada sobre jogadores, times, estatísticas de jogos e muito mais. Abaixo, uma visão geral das tabelas e suas colunas principais:\n",
        "\n",
        "1. Tabela 'Players':\n",
        "\n",
        "Player_ID: Identificação única de cada jogador.\n",
        "\n",
        "Player_Name: Nome do jogador.\n",
        "\n",
        "Team: Equipe em que o jogador atua.\n",
        "\n",
        "Position: Posição em que o jogador joga.\n",
        "\n",
        "Height: Altura do jogador.\n",
        "\n",
        "Birth_Date: Data de nascimento do jogador.\n",
        "\n",
        "\n",
        "2. Tabela 'Teams':\n",
        "\n",
        "Team_ID: Identificação única de cada time.\n",
        "\n",
        "Team_Name: Nome da equipe.\n",
        "\n",
        "City: Cidade em que o time está localizado.\n",
        "\n",
        "Arena: Nome da arena onde a equipe joga seus jogos em\n",
        "casa.\n",
        "\n",
        "3. Tabela 'Games':\n",
        "\n",
        "Game_ID: Identificação única de cada jogo.\n",
        "\n",
        "Home_Team_ID: ID do time da casa.\n",
        "\n",
        "Away_Team_ID: ID do time visitante.\n",
        "\n",
        "Date: Data do jogo.\n",
        "\n",
        "Home_Score: Pontuação do time da casa.\n",
        "\n",
        "Away_Score: Pontuação do time visitante.\n",
        "\n",
        "4. Tabela 'Game_Stats':\n",
        "\n",
        "Game_ID: Identificação do jogo.\n",
        "\n",
        "Player_ID: ID do jogador que participou do jogo.\n",
        "\n",
        "Points: Pontos marcados pelo jogador.\n",
        "\n",
        "Rebounds: Rebotes realizados pelo jogador.\n",
        "\n",
        "Assists: Assistências realizadas pelo jogador"
      ],
      "metadata": {
        "id": "L_Wwcf_UKBmQ"
      }
    },
    {
      "cell_type": "markdown",
      "source": [
        "## O você precisa fazer/entregar:"
      ],
      "metadata": {
        "id": "0Ave_bPvP_Mi"
      }
    },
    {
      "cell_type": "markdown",
      "source": [
        "1. ETL - Construindo o Fluxo de Dados:\n",
        "\n",
        "Manipulação de Banco de Dados: Conecte ao banco de dados SQLite sobre a NBA disponível no Kaggle. Verifique as tabelas existentes no banco e entenda a estrutura dos dados."
      ],
      "metadata": {
        "id": "Ba39-49LQFq5"
      }
    },
    {
      "cell_type": "markdown",
      "source": [
        "2. Consulta e Cruzamentos em SQL:\n",
        "\n",
        "Utilize SQL para realizar cruzamentos entre as tabelas. Relacione as tabelas Players, Teams, e Game_Stats para descobrir o desempenho de jogadores em jogos específicos e suas respectivas equipes."
      ],
      "metadata": {
        "id": "X6P4eTbCQiId"
      }
    },
    {
      "cell_type": "markdown",
      "source": [
        "3. Extração para DataFrame Pandas:\n",
        "\n",
        "Extraia os dados processados do SQL para um DataFrame em pandas e faça o tratamento necessário, como lidar com valores faltantes e formatação correta de colunas."
      ],
      "metadata": {
        "id": "vu4qGSsqQrPk"
      }
    },
    {
      "cell_type": "markdown",
      "source": [
        "4. Limpeza e Tratamento:\n",
        "\n",
        "Verifique os dados extraídos em busca de inconsistências, como valores ausentes, tipos de dados incorretos ou duplicatas. Realize o tratamento adequado para garantir uma análise precisa."
      ],
      "metadata": {
        "id": "MT9opePCQH81"
      }
    },
    {
      "cell_type": "markdown",
      "source": [
        "5. Análise Estatística e Visualizações:\n",
        "\n",
        "- Manipulação dos Dados\n",
        "\n",
        "Vamos explorar formas avançadas de manipular os dados usando apply, lambda, cut e groupby para extrair insights. Estas operações são fundamentais para um entendimento mais profundo das variáveis, bem como para a preparação de dados para análises estatísticas.\n",
        "\n",
        " 1. Calcular a pontuação por jogador usando a função apply e uma função lambda:\n",
        "\n",
        " 2. Agrupar os dados por time e calcular a média de pontuação, rebotes e assistências usando groupby:\n",
        "\n",
        " 3. Classificar jogadores com base na pontuação usando cut e criar categorias de performance:\n",
        "\n",
        "\n",
        "  - Estatísticas Descritivas\n",
        "\n",
        "Após a manipulação inicial dos dados, os alunos devem calcular as principais estatísticas descritivas para variáveis de interesse, como pontuação, rebotes e assistências:\n",
        "\n",
        " 1. Média, Mediana, Desvio Padrão e Quartis\n",
        "\n",
        "- Probabilidade e Amostragem\n",
        "\n",
        "Aqui, os alunos devem calcular a probabilidade de eventos específicos ocorrerem, como a probabilidade de um time ganhar ou um jogador alcançar uma pontuação acima de um determinado valor.\n",
        "\n",
        "1. Probabilidade de um jogador marcar mais de 20 pontos;\n",
        "\n",
        "2. Criar amostras de 30% dos dados para realizar análises estatísticas posteriores.\n",
        "\n",
        "- Testes de Hipóteses\n",
        "\n",
        "Agora, vocês devem realizar testes de hipóteses. Suponha que queremos testar se a média de pontos dos jogadores em casa é diferente da média de pontos dos jogadores em jogos fora de casa. Para isso, utilizaremos o Teste T."
      ],
      "metadata": {
        "id": "jy7hXv0jQ664"
      }
    },
    {
      "cell_type": "markdown",
      "source": [
        "6. Visualizações dos Dados\n",
        "\n",
        "As visualizações são uma parte crucial da análise de dados, pois ajudam a apresentar os resultados de forma clara e compreensível.\n",
        "\n",
        "1. Boxplot da Pontuação por Categoria de Jogador\n",
        "2. Distribuição de Idade dos Jogadores com histograma\n",
        "3. Gráfico de Barras mostrando a Relação entre Pontuação e Rebotes por Time"
      ],
      "metadata": {
        "id": "Ttg7vIFaSSv4"
      }
    },
    {
      "cell_type": "markdown",
      "source": [
        "7. Conclusão da Análise\n",
        "\n",
        "Construa uma conclusão que resuma os achados na análise."
      ],
      "metadata": {
        "id": "jJNnREd6Sf8f"
      }
    },
    {
      "cell_type": "markdown",
      "source": [
        "#Montando o google Drive\n"
      ],
      "metadata": {
        "id": "2xx_VE6HiZk7"
      }
    },
    {
      "cell_type": "code",
      "source": [
        "# Conectando google\n",
        "from google.colab import drive\n",
        "drive.mount('/content/drive')"
      ],
      "metadata": {
        "id": "Hx3b3T3yS1jC",
        "colab": {
          "base_uri": "https://localhost:8080/"
        },
        "outputId": "e8621765-e285-4e19-bbed-9ae901df1ce4"
      },
      "execution_count": 1,
      "outputs": [
        {
          "output_type": "stream",
          "name": "stdout",
          "text": [
            "Mounted at /content/drive\n"
          ]
        }
      ]
    },
    {
      "cell_type": "code",
      "source": [
        "%cd /content/drive/MyDrive/pretaLab/projeto05"
      ],
      "metadata": {
        "id": "tc85To39ikhr",
        "colab": {
          "base_uri": "https://localhost:8080/"
        },
        "outputId": "feb0e705-e8ba-4f43-fc7c-2d28d93f5f55"
      },
      "execution_count": 2,
      "outputs": [
        {
          "output_type": "stream",
          "name": "stdout",
          "text": [
            "/content/drive/MyDrive/pretaLab/projeto05\n"
          ]
        }
      ]
    },
    {
      "cell_type": "code",
      "source": [
        "import os\n",
        "print(os.getcwd())"
      ],
      "metadata": {
        "id": "l3qHnVVyioep",
        "colab": {
          "base_uri": "https://localhost:8080/"
        },
        "outputId": "8a7cee3f-73c8-4a97-9c82-c2d9181e412d"
      },
      "execution_count": 3,
      "outputs": [
        {
          "output_type": "stream",
          "name": "stdout",
          "text": [
            "/content/drive/MyDrive/pretaLab/projeto05\n"
          ]
        }
      ]
    },
    {
      "cell_type": "code",
      "source": [
        "!ls"
      ],
      "metadata": {
        "id": "HSLyU9_Yio1w"
      },
      "execution_count": 4,
      "outputs": []
    },
    {
      "cell_type": "markdown",
      "source": [
        "# ETL - Construindo o Fluxo de Dados"
      ],
      "metadata": {
        "id": "bg63XZBYpCVf"
      }
    },
    {
      "cell_type": "markdown",
      "source": [
        "importando Bibliotecas"
      ],
      "metadata": {
        "id": "DO34Y3pOum4e"
      }
    },
    {
      "cell_type": "code",
      "source": [
        "import kagglehub\n",
        "import pandas as pd\n",
        "import numpy as np\n",
        "import matplotlib.pyplot as plt\n",
        "import seaborn as sns\n",
        "from scipy import stats"
      ],
      "metadata": {
        "id": "ejjLZAoxumbz"
      },
      "execution_count": 5,
      "outputs": []
    },
    {
      "cell_type": "code",
      "source": [
        "# Conecte ao banco de dados SQLite sobre a NBA disponível no Kaggle\n",
        "import kagglehub\n",
        "\n",
        "# Download latest version\n",
        "path = kagglehub.dataset_download(\"wyattowalsh/basketball\")\n",
        "\n",
        "print(\"Path to dataset files:\", path)"
      ],
      "metadata": {
        "colab": {
          "base_uri": "https://localhost:8080/"
        },
        "id": "QXCBhq5WpP1D",
        "outputId": "5c40f628-cc1e-4a58-c996-148162fbc678"
      },
      "execution_count": 6,
      "outputs": [
        {
          "output_type": "stream",
          "name": "stdout",
          "text": [
            "Downloading from https://www.kaggle.com/api/v1/datasets/download/wyattowalsh/basketball?dataset_version_number=231...\n"
          ]
        },
        {
          "output_type": "stream",
          "name": "stderr",
          "text": [
            "100%|██████████| 697M/697M [00:27<00:00, 26.4MB/s]"
          ]
        },
        {
          "output_type": "stream",
          "name": "stdout",
          "text": [
            "Extracting files...\n"
          ]
        },
        {
          "output_type": "stream",
          "name": "stderr",
          "text": [
            "\n"
          ]
        },
        {
          "output_type": "stream",
          "name": "stdout",
          "text": [
            "Path to dataset files: /root/.cache/kagglehub/datasets/wyattowalsh/basketball/versions/231\n"
          ]
        }
      ]
    },
    {
      "cell_type": "code",
      "source": [
        "/root/.cache/kagglehub/datasets/wyattowalsh/basketball/versions/231"
      ],
      "metadata": {
        "colab": {
          "base_uri": "https://localhost:8080/",
          "height": 108
        },
        "collapsed": true,
        "id": "jVat1pTAveEP",
        "outputId": "12a4a130-dd91-461d-b1a3-42a77af4e7f0"
      },
      "execution_count": null,
      "outputs": [
        {
          "output_type": "error",
          "ename": "SyntaxError",
          "evalue": "invalid syntax (<ipython-input-7-773a1c0fd3b2>, line 1)",
          "traceback": [
            "\u001b[0;36m  File \u001b[0;32m\"<ipython-input-7-773a1c0fd3b2>\"\u001b[0;36m, line \u001b[0;32m1\u001b[0m\n\u001b[0;31m    root/.cache/kagglehub/datasets/wyattowalsh/basketball/versions/231()\u001b[0m\n\u001b[0m         ^\u001b[0m\n\u001b[0;31mSyntaxError\u001b[0m\u001b[0;31m:\u001b[0m invalid syntax\n"
          ]
        }
      ]
    },
    {
      "cell_type": "code",
      "source": [
        "import sqlite3\n",
        "import os"
      ],
      "metadata": {
        "id": "gH6K9rKNxw2m"
      },
      "execution_count": 7,
      "outputs": []
    },
    {
      "cell_type": "code",
      "source": [
        "# Caminho do banco de dados baixado\n",
        "db_path = os.path.join(path, \"nba.sqlite\")\n",
        "\n",
        "# Conectar ao banco de dados\n",
        "conn_original = sqlite3.connect(db_path)\n",
        "cursor_original = conn_original.cursor()\n"
      ],
      "metadata": {
        "id": "l3h6EDsXw8fr"
      },
      "execution_count": 8,
      "outputs": []
    },
    {
      "cell_type": "code",
      "source": [
        "# Verificar as tabelas no banco de dados\n",
        "cursor_original.execute(\"SELECT name FROM sqlite_master WHERE type='table';\")\n",
        "tables = cursor_original.fetchall()\n",
        "print(\"Tabelas no banco de dados:\")\n",
        "for table in tables:\n",
        "    print(table[0])"
      ],
      "metadata": {
        "colab": {
          "base_uri": "https://localhost:8080/"
        },
        "id": "hmlYQGStx_xw",
        "outputId": "96732936-ae7d-4f35-80d0-dfe4249d3fae"
      },
      "execution_count": 9,
      "outputs": [
        {
          "output_type": "stream",
          "name": "stdout",
          "text": [
            "Tabelas no banco de dados:\n",
            "game\n",
            "game_summary\n",
            "other_stats\n",
            "officials\n",
            "inactive_players\n",
            "game_info\n",
            "line_score\n",
            "play_by_play\n",
            "player\n",
            "team\n",
            "common_player_info\n",
            "team_details\n",
            "team_history\n",
            "draft_combine_stats\n",
            "draft_history\n",
            "team_info_common\n"
          ]
        }
      ]
    },
    {
      "cell_type": "markdown",
      "source": [
        "# Consulta e Cruzamentos em SQL\n"
      ],
      "metadata": {
        "id": "YoswazbZpWca"
      }
    },
    {
      "cell_type": "markdown",
      "source": [
        "Para a tabela Players : Vocês terão que combinar, fazer um join, entre as tabelas player e commom_player_info . Com essas tabelas combinadas, vocês irão obter as informações dos jogadores como nome,equipe, posição,altura,data de nascimento.\n",
        "\n",
        "Para a tabela Teams: Vocês terão que combinar, fazer um join, entre as tabelas team e team_details . Com essas tabelas combinadas, vocês irão obter informações sobre os times, suas cidades e arenas.\n",
        "\n",
        "Para a tabela Gamer:Vocês irão usar a tabela game, e vai criar uma tabela só com as informações que querem usar como game_id, id do time da casa, id do time visitantes, data do jogo, pontuação de ambos os times.\n",
        "\n",
        "Para a tabela Game_Stats: Vocês irão cruzar a tabela, fazer um join , play_by_play com a line_score  e other_stats. Com essa combinação obterão as informações de game_id,p ontos,rebounds, assistências.\n",
        "\n",
        "Depois de criar cada tabela, crie um banco de dados, adicione as tabelas e em seguida faça o cruzamento delas. O resultado final é uma base grande e que tenhas dados de jogadores, times e estatística, isto é,\n",
        "um dataframe com as colunas\n",
        "em que cada linha é um jogador por jogo e time com suas pontuações rebotes e assistências que aqui será as colunas Turnovers. Nos tratamentos terão que limpar o dado, pois terão duplicados e coisinhas a mais. CASO O CRUZAMENTO VIA SQL ESTEJA DANDO MUITOS PROBLEMAS, FAÇA VIA PANDAS COM MERGE\n"
      ],
      "metadata": {
        "id": "NvyX2fhHEhBz"
      }
    },
    {
      "cell_type": "code",
      "source": [
        "# Relacione as tabelas Players, Teams, e Game_Stats\n",
        "\n",
        "cursor_original.execute(\"PRAGMA table_info('player')\")\n",
        "print(cursor_original.fetchall())\n",
        "\n",
        "cursor_original.execute(\"PRAGMA table_info('team')\")\n",
        "print(cursor_original.fetchall())\n",
        "\n",
        "cursor_original.execute(\"PRAGMA table_info('other_stats')\")\n",
        "print(cursor_original.fetchall())\n",
        "\n"
      ],
      "metadata": {
        "colab": {
          "base_uri": "https://localhost:8080/"
        },
        "id": "PMY-yOxOpcUh",
        "outputId": "560ff7a4-3fbe-4cfa-8b40-b8b278fcd7e0"
      },
      "execution_count": 10,
      "outputs": [
        {
          "output_type": "stream",
          "name": "stdout",
          "text": [
            "[(0, 'id', 'TEXT', 0, None, 0), (1, 'full_name', 'TEXT', 0, None, 0), (2, 'first_name', 'TEXT', 0, None, 0), (3, 'last_name', 'TEXT', 0, None, 0), (4, 'is_active', 'INTEGER', 0, None, 0)]\n",
            "[(0, 'id', 'TEXT', 0, None, 0), (1, 'full_name', 'TEXT', 0, None, 0), (2, 'abbreviation', 'TEXT', 0, None, 0), (3, 'nickname', 'TEXT', 0, None, 0), (4, 'city', 'TEXT', 0, None, 0), (5, 'state', 'TEXT', 0, None, 0), (6, 'year_founded', 'REAL', 0, None, 0)]\n",
            "[(0, 'game_id', 'TEXT', 0, None, 0), (1, 'league_id', 'TEXT', 0, None, 0), (2, 'team_id_home', 'TEXT', 0, None, 0), (3, 'team_abbreviation_home', 'TEXT', 0, None, 0), (4, 'team_city_home', 'TEXT', 0, None, 0), (5, 'pts_paint_home', 'INTEGER', 0, None, 0), (6, 'pts_2nd_chance_home', 'INTEGER', 0, None, 0), (7, 'pts_fb_home', 'INTEGER', 0, None, 0), (8, 'largest_lead_home', 'INTEGER', 0, None, 0), (9, 'lead_changes', 'INTEGER', 0, None, 0), (10, 'times_tied', 'INTEGER', 0, None, 0), (11, 'team_turnovers_home', 'INTEGER', 0, None, 0), (12, 'total_turnovers_home', 'INTEGER', 0, None, 0), (13, 'team_rebounds_home', 'INTEGER', 0, None, 0), (14, 'pts_off_to_home', 'INTEGER', 0, None, 0), (15, 'team_id_away', 'TEXT', 0, None, 0), (16, 'team_abbreviation_away', 'TEXT', 0, None, 0), (17, 'team_city_away', 'TEXT', 0, None, 0), (18, 'pts_paint_away', 'INTEGER', 0, None, 0), (19, 'pts_2nd_chance_away', 'INTEGER', 0, None, 0), (20, 'pts_fb_away', 'INTEGER', 0, None, 0), (21, 'largest_lead_away', 'INTEGER', 0, None, 0), (22, 'team_turnovers_away', 'INTEGER', 0, None, 0), (23, 'total_turnovers_away', 'INTEGER', 0, None, 0), (24, 'team_rebounds_away', 'INTEGER', 0, None, 0), (25, 'pts_off_to_away', 'INTEGER', 0, None, 0)]\n"
          ]
        }
      ]
    },
    {
      "cell_type": "code",
      "source": [
        "# Criando a tabela Players\n",
        "cursor_original.execute('''\n",
        "CREATE TABLE IF NOT EXISTS Players (\n",
        "    Player_ID INTEGER PRIMARY KEY AUTOINCREMENT,\n",
        "    Player_Name TEXT NOT NULL,\n",
        "    Team TEXT NOT NULL,\n",
        "    Position TEXT,\n",
        "    Height TEXT,\n",
        "    Birth_Date TEXT\n",
        ")\n",
        "''')"
      ],
      "metadata": {
        "colab": {
          "base_uri": "https://localhost:8080/"
        },
        "id": "eWXtb7yT2omf",
        "outputId": "bf1b78e0-fe2d-4bb4-c4a4-b3e7f6da67cb"
      },
      "execution_count": 11,
      "outputs": [
        {
          "output_type": "execute_result",
          "data": {
            "text/plain": [
              "<sqlite3.Cursor at 0x781712c0aac0>"
            ]
          },
          "metadata": {},
          "execution_count": 11
        }
      ]
    },
    {
      "cell_type": "code",
      "source": [
        "#Criando a tabela Teams\n",
        "cursor_original.execute('''\n",
        "CREATE TABLE IF NOT EXISTS Teams (\n",
        "    Team_ID INTEGER PRIMARY KEY AUTOINCREMENT,\n",
        "    Team_Name TEXT NOT NULL,\n",
        "    City TEXT NOT NULL,\n",
        "    Arena TEXT\n",
        ")\n",
        "''')"
      ],
      "metadata": {
        "colab": {
          "base_uri": "https://localhost:8080/"
        },
        "id": "FOG61D7EJISc",
        "outputId": "4302a7c0-90e9-4d41-d27c-bfdaa62c57fb"
      },
      "execution_count": 12,
      "outputs": [
        {
          "output_type": "execute_result",
          "data": {
            "text/plain": [
              "<sqlite3.Cursor at 0x781712c0aac0>"
            ]
          },
          "metadata": {},
          "execution_count": 12
        }
      ]
    },
    {
      "cell_type": "code",
      "source": [
        "# Criando a tabela Games\n",
        "cursor_original.execute('''\n",
        "CREATE TABLE IF NOT EXISTS Games (\n",
        "    Game_ID INTEGER PRIMARY KEY AUTOINCREMENT,\n",
        "    Home_Team_ID INTEGER,\n",
        "    Away_Team_ID INTEGER,\n",
        "    Date TEXT,\n",
        "    Home_Score INTEGER,\n",
        "    Away_Score INTEGER,\n",
        "    FOREIGN KEY (Home_Team_ID) REFERENCES Teams (Team_ID),\n",
        "    FOREIGN KEY (Away_Team_ID) REFERENCES Teams (Team_ID)\n",
        ")\n",
        "''')"
      ],
      "metadata": {
        "colab": {
          "base_uri": "https://localhost:8080/"
        },
        "id": "1ZXyywd-JNvd",
        "outputId": "6dd7356a-1b29-4ddf-ea54-09ea69fff9f0"
      },
      "execution_count": 13,
      "outputs": [
        {
          "output_type": "execute_result",
          "data": {
            "text/plain": [
              "<sqlite3.Cursor at 0x781712c0aac0>"
            ]
          },
          "metadata": {},
          "execution_count": 13
        }
      ]
    },
    {
      "cell_type": "code",
      "source": [
        "#Criando a tabela Game_Stats\n",
        "cursor_original.execute('''\n",
        "CREATE TABLE IF NOT EXISTS Game_Stats (\n",
        "      Game_ID INTEGER NOT NULL,\n",
        "      Player_ID INTEGER NOT NULL,\n",
        "      Points INTEGER NOT NULL,\n",
        "      Rebounds INTEGER NOT NULL,\n",
        "      Assists INTEGER NOT NULL,\n",
        "      FOREIGN KEY (Game_ID) REFERENCES Games(Game_ID),\n",
        "      FOREIGN KEY (Player_ID) REFERENCES Players(Player_ID),\n",
        "      PRIMARY KEY (Game_ID, Player_ID)\n",
        "      )\n",
        "''')\n"
      ],
      "metadata": {
        "colab": {
          "base_uri": "https://localhost:8080/"
        },
        "id": "2Vq3-XbSJbcI",
        "outputId": "f803d772-9729-4feb-f927-c72b59350fbd"
      },
      "execution_count": 14,
      "outputs": [
        {
          "output_type": "execute_result",
          "data": {
            "text/plain": [
              "<sqlite3.Cursor at 0x781712c0aac0>"
            ]
          },
          "metadata": {},
          "execution_count": 14
        }
      ]
    },
    {
      "cell_type": "markdown",
      "source": [
        "# Extração para DataFrame Pandas"
      ],
      "metadata": {
        "id": "ur7zRaF5pkDS"
      }
    },
    {
      "cell_type": "code",
      "source": [
        "query_player = '''\n",
        "  SELECT\n",
        "  * FROM player'''\n",
        "\n",
        "query_team = '''\n",
        "  SELECT\n",
        "  * FROM team'''\n",
        "\n",
        "query_game = '''\n",
        "  SELECT\n",
        "  * FROM game'''\n",
        "\n",
        "query_other_stats = '''\n",
        "  SELECT\n",
        "  * FROM other_stats'''"
      ],
      "metadata": {
        "id": "8pTYrsAM6_0k"
      },
      "execution_count": 15,
      "outputs": []
    },
    {
      "cell_type": "code",
      "source": [
        "df_player = pd.read_sql_query(query_player, conn_original)\n",
        "df_team = pd.read_sql_query(query_team, conn_original)\n",
        "df_game = pd.read_sql_query(query_game, conn_original)\n",
        "df_other_stats = pd.read_sql_query(query_other_stats, conn_original)"
      ],
      "metadata": {
        "id": "paAXi0PNDEdA"
      },
      "execution_count": 16,
      "outputs": []
    },
    {
      "cell_type": "code",
      "source": [
        "df_player.info()"
      ],
      "metadata": {
        "colab": {
          "base_uri": "https://localhost:8080/"
        },
        "collapsed": true,
        "id": "7vAy1cdrDYTG",
        "outputId": "179ead82-dee5-4002-fc65-ddcc31de4695"
      },
      "execution_count": 17,
      "outputs": [
        {
          "output_type": "stream",
          "name": "stdout",
          "text": [
            "<class 'pandas.core.frame.DataFrame'>\n",
            "RangeIndex: 4815 entries, 0 to 4814\n",
            "Data columns (total 5 columns):\n",
            " #   Column      Non-Null Count  Dtype \n",
            "---  ------      --------------  ----- \n",
            " 0   id          4815 non-null   object\n",
            " 1   full_name   4815 non-null   object\n",
            " 2   first_name  4815 non-null   object\n",
            " 3   last_name   4815 non-null   object\n",
            " 4   is_active   4815 non-null   int64 \n",
            "dtypes: int64(1), object(4)\n",
            "memory usage: 188.2+ KB\n"
          ]
        }
      ]
    },
    {
      "cell_type": "code",
      "source": [
        "df_team.info()"
      ],
      "metadata": {
        "colab": {
          "base_uri": "https://localhost:8080/"
        },
        "collapsed": true,
        "id": "DN2wZHXKEDVo",
        "outputId": "425a8651-49d5-4f6d-862c-5b887f4f41ed"
      },
      "execution_count": 18,
      "outputs": [
        {
          "output_type": "stream",
          "name": "stdout",
          "text": [
            "<class 'pandas.core.frame.DataFrame'>\n",
            "RangeIndex: 30 entries, 0 to 29\n",
            "Data columns (total 7 columns):\n",
            " #   Column        Non-Null Count  Dtype  \n",
            "---  ------        --------------  -----  \n",
            " 0   id            30 non-null     object \n",
            " 1   full_name     30 non-null     object \n",
            " 2   abbreviation  30 non-null     object \n",
            " 3   nickname      30 non-null     object \n",
            " 4   city          30 non-null     object \n",
            " 5   state         30 non-null     object \n",
            " 6   year_founded  30 non-null     float64\n",
            "dtypes: float64(1), object(6)\n",
            "memory usage: 1.8+ KB\n"
          ]
        }
      ]
    },
    {
      "cell_type": "code",
      "source": [
        "df_other_stats.info()"
      ],
      "metadata": {
        "colab": {
          "base_uri": "https://localhost:8080/"
        },
        "collapsed": true,
        "id": "puzr8FcdEJyo",
        "outputId": "f39304c3-4e63-4e0e-a839-6fde202e6805"
      },
      "execution_count": 20,
      "outputs": [
        {
          "output_type": "stream",
          "name": "stdout",
          "text": [
            "<class 'pandas.core.frame.DataFrame'>\n",
            "RangeIndex: 28271 entries, 0 to 28270\n",
            "Data columns (total 26 columns):\n",
            " #   Column                  Non-Null Count  Dtype  \n",
            "---  ------                  --------------  -----  \n",
            " 0   game_id                 28271 non-null  object \n",
            " 1   league_id               28271 non-null  object \n",
            " 2   team_id_home            28271 non-null  object \n",
            " 3   team_abbreviation_home  28271 non-null  object \n",
            " 4   team_city_home          28271 non-null  object \n",
            " 5   pts_paint_home          28271 non-null  int64  \n",
            " 6   pts_2nd_chance_home     28271 non-null  int64  \n",
            " 7   pts_fb_home             28271 non-null  int64  \n",
            " 8   largest_lead_home       28271 non-null  int64  \n",
            " 9   lead_changes            28271 non-null  int64  \n",
            " 10  times_tied              28271 non-null  int64  \n",
            " 11  team_turnovers_home     28269 non-null  float64\n",
            " 12  total_turnovers_home    27955 non-null  float64\n",
            " 13  team_rebounds_home      26273 non-null  float64\n",
            " 14  pts_off_to_home         26148 non-null  float64\n",
            " 15  team_id_away            28271 non-null  object \n",
            " 16  team_abbreviation_away  28271 non-null  object \n",
            " 17  team_city_away          28271 non-null  object \n",
            " 18  pts_paint_away          28271 non-null  int64  \n",
            " 19  pts_2nd_chance_away     28271 non-null  int64  \n",
            " 20  pts_fb_away             28271 non-null  int64  \n",
            " 21  largest_lead_away       28271 non-null  int64  \n",
            " 22  team_turnovers_away     28269 non-null  float64\n",
            " 23  total_turnovers_away    27955 non-null  float64\n",
            " 24  team_rebounds_away      26273 non-null  float64\n",
            " 25  pts_off_to_away         26148 non-null  float64\n",
            "dtypes: float64(8), int64(10), object(8)\n",
            "memory usage: 5.6+ MB\n"
          ]
        }
      ]
    },
    {
      "cell_type": "code",
      "source": [
        "df_game.info()"
      ],
      "metadata": {
        "colab": {
          "base_uri": "https://localhost:8080/"
        },
        "collapsed": true,
        "id": "ge1Y2B5zKVc_",
        "outputId": "63fe87cd-fb8d-46ff-e574-92edc96aff9c"
      },
      "execution_count": 54,
      "outputs": [
        {
          "output_type": "stream",
          "name": "stdout",
          "text": [
            "<class 'pandas.core.frame.DataFrame'>\n",
            "RangeIndex: 65698 entries, 0 to 65697\n",
            "Data columns (total 55 columns):\n",
            " #   Column                  Non-Null Count  Dtype  \n",
            "---  ------                  --------------  -----  \n",
            " 0   season_id               65698 non-null  object \n",
            " 1   team_id_home            65698 non-null  object \n",
            " 2   team_abbreviation_home  65698 non-null  object \n",
            " 3   team_name_home          65698 non-null  object \n",
            " 4   game_id                 65698 non-null  object \n",
            " 5   game_date               65698 non-null  object \n",
            " 6   matchup_home            65698 non-null  object \n",
            " 7   wl_home                 65696 non-null  object \n",
            " 8   min                     65698 non-null  int64  \n",
            " 9   fgm_home                65685 non-null  float64\n",
            " 10  fga_home                50251 non-null  float64\n",
            " 11  fg_pct_home             50208 non-null  float64\n",
            " 12  fg3m_home               52480 non-null  float64\n",
            " 13  fg3a_home               47015 non-null  float64\n",
            " 14  fg3_pct_home            46624 non-null  float64\n",
            " 15  ftm_home                65682 non-null  float64\n",
            " 16  fta_home                62694 non-null  float64\n",
            " 17  ft_pct_home             62689 non-null  float64\n",
            " 18  oreb_home               46762 non-null  float64\n",
            " 19  dreb_home               46699 non-null  float64\n",
            " 20  reb_home                49969 non-null  float64\n",
            " 21  ast_home                49893 non-null  float64\n",
            " 22  stl_home                46849 non-null  float64\n",
            " 23  blk_home                47072 non-null  float64\n",
            " 24  tov_home                47014 non-null  float64\n",
            " 25  pf_home                 62842 non-null  float64\n",
            " 26  pts_home                65698 non-null  float64\n",
            " 27  plus_minus_home         65698 non-null  int64  \n",
            " 28  video_available_home    65698 non-null  int64  \n",
            " 29  team_id_away            65698 non-null  object \n",
            " 30  team_abbreviation_away  65698 non-null  object \n",
            " 31  team_name_away          65698 non-null  object \n",
            " 32  matchup_away            65698 non-null  object \n",
            " 33  wl_away                 65696 non-null  object \n",
            " 34  fgm_away                65685 non-null  float64\n",
            " 35  fga_away                50251 non-null  float64\n",
            " 36  fg_pct_away             50209 non-null  float64\n",
            " 37  fg3m_away               52480 non-null  float64\n",
            " 38  fg3a_away               47015 non-null  float64\n",
            " 39  fg3_pct_away            46736 non-null  float64\n",
            " 40  ftm_away                65685 non-null  float64\n",
            " 41  fta_away                62694 non-null  float64\n",
            " 42  ft_pct_away             62692 non-null  float64\n",
            " 43  oreb_away               46762 non-null  float64\n",
            " 44  dreb_away               46700 non-null  float64\n",
            " 45  reb_away                49973 non-null  float64\n",
            " 46  ast_away                49897 non-null  float64\n",
            " 47  stl_away                46849 non-null  float64\n",
            " 48  blk_away                47073 non-null  float64\n",
            " 49  tov_away                47013 non-null  float64\n",
            " 50  pf_away                 62847 non-null  float64\n",
            " 51  pts_away                65698 non-null  float64\n",
            " 52  plus_minus_away         65698 non-null  int64  \n",
            " 53  video_available_away    65698 non-null  int64  \n",
            " 54  season_type             65698 non-null  object \n",
            "dtypes: float64(36), int64(5), object(14)\n",
            "memory usage: 27.6+ MB\n"
          ]
        }
      ]
    },
    {
      "cell_type": "code",
      "source": [
        "df_other_stats.info()"
      ],
      "metadata": {
        "colab": {
          "base_uri": "https://localhost:8080/"
        },
        "id": "pf_nZRrqKtUx",
        "outputId": "922fa1ee-becb-4009-b6c8-bd43f21dfdfd"
      },
      "execution_count": 49,
      "outputs": [
        {
          "output_type": "stream",
          "name": "stdout",
          "text": [
            "<class 'pandas.core.frame.DataFrame'>\n",
            "RangeIndex: 28271 entries, 0 to 28270\n",
            "Data columns (total 26 columns):\n",
            " #   Column                  Non-Null Count  Dtype  \n",
            "---  ------                  --------------  -----  \n",
            " 0   game_id                 28271 non-null  object \n",
            " 1   league_id               28271 non-null  object \n",
            " 2   team_id_home            28271 non-null  object \n",
            " 3   team_abbreviation_home  28271 non-null  object \n",
            " 4   team_city_home          28271 non-null  object \n",
            " 5   pts_paint_home          28271 non-null  int64  \n",
            " 6   pts_2nd_chance_home     28271 non-null  int64  \n",
            " 7   pts_fb_home             28271 non-null  int64  \n",
            " 8   largest_lead_home       28271 non-null  int64  \n",
            " 9   lead_changes            28271 non-null  int64  \n",
            " 10  times_tied              28271 non-null  int64  \n",
            " 11  team_turnovers_home     28269 non-null  float64\n",
            " 12  total_turnovers_home    27955 non-null  float64\n",
            " 13  team_rebounds_home      26273 non-null  float64\n",
            " 14  pts_off_to_home         26148 non-null  float64\n",
            " 15  team_id_away            28271 non-null  object \n",
            " 16  team_abbreviation_away  28271 non-null  object \n",
            " 17  team_city_away          28271 non-null  object \n",
            " 18  pts_paint_away          28271 non-null  int64  \n",
            " 19  pts_2nd_chance_away     28271 non-null  int64  \n",
            " 20  pts_fb_away             28271 non-null  int64  \n",
            " 21  largest_lead_away       28271 non-null  int64  \n",
            " 22  team_turnovers_away     28269 non-null  float64\n",
            " 23  total_turnovers_away    27955 non-null  float64\n",
            " 24  team_rebounds_away      26273 non-null  float64\n",
            " 25  pts_off_to_away         26148 non-null  float64\n",
            "dtypes: float64(8), int64(10), object(8)\n",
            "memory usage: 5.6+ MB\n"
          ]
        }
      ]
    },
    {
      "cell_type": "code",
      "source": [
        "df = pd.merge(df_player, df_team, on='id')\n",
        "df = pd.merge(df, df_game, left_on='id', right_on='game_id')\n",
        "df = pd.merge(df, df_other_stats, left_on='id', right_on='game_id')\n",
        "df.head()"
      ],
      "metadata": {
        "id": "TaWcrmPsDmTf",
        "colab": {
          "base_uri": "https://localhost:8080/",
          "height": 99
        },
        "outputId": "1ce0d8da-732b-4e4e-e8cd-9a0cf726c5b3"
      },
      "execution_count": 50,
      "outputs": [
        {
          "output_type": "execute_result",
          "data": {
            "text/plain": [
              "Empty DataFrame\n",
              "Columns: [id, full_name_x, first_name, last_name, is_active, full_name_y, abbreviation, nickname, city, state, year_founded, season_id, team_id_home_x, team_abbreviation_home_x, team_name_home, game_id_x, game_date, matchup_home, wl_home, min, fgm_home, fga_home, fg_pct_home, fg3m_home, fg3a_home, fg3_pct_home, ftm_home, fta_home, ft_pct_home, oreb_home, dreb_home, reb_home, ast_home, stl_home, blk_home, tov_home, pf_home, pts_home, plus_minus_home, video_available_home, team_id_away_x, team_abbreviation_away_x, team_name_away, matchup_away, wl_away, fgm_away, fga_away, fg_pct_away, fg3m_away, fg3a_away, fg3_pct_away, ftm_away, fta_away, ft_pct_away, oreb_away, dreb_away, reb_away, ast_away, stl_away, blk_away, tov_away, pf_away, pts_away, plus_minus_away, video_available_away, season_type, game_id_y, league_id, team_id_home_y, team_abbreviation_home_y, team_city_home, pts_paint_home, pts_2nd_chance_home, pts_fb_home, largest_lead_home, lead_changes, times_tied, team_turnovers_home, total_turnovers_home, team_rebounds_home, pts_off_to_home, team_id_away_y, team_abbreviation_away_y, team_city_away, pts_paint_away, pts_2nd_chance_away, pts_fb_away, largest_lead_away, team_turnovers_away, total_turnovers_away, team_rebounds_away, pts_off_to_away]\n",
              "Index: []\n",
              "\n",
              "[0 rows x 92 columns]"
            ],
            "text/html": [
              "\n",
              "  <div id=\"df-f367469a-0a65-47d5-b2ec-64634fbfebdc\" class=\"colab-df-container\">\n",
              "    <div>\n",
              "<style scoped>\n",
              "    .dataframe tbody tr th:only-of-type {\n",
              "        vertical-align: middle;\n",
              "    }\n",
              "\n",
              "    .dataframe tbody tr th {\n",
              "        vertical-align: top;\n",
              "    }\n",
              "\n",
              "    .dataframe thead th {\n",
              "        text-align: right;\n",
              "    }\n",
              "</style>\n",
              "<table border=\"1\" class=\"dataframe\">\n",
              "  <thead>\n",
              "    <tr style=\"text-align: right;\">\n",
              "      <th></th>\n",
              "      <th>id</th>\n",
              "      <th>full_name_x</th>\n",
              "      <th>first_name</th>\n",
              "      <th>last_name</th>\n",
              "      <th>is_active</th>\n",
              "      <th>full_name_y</th>\n",
              "      <th>abbreviation</th>\n",
              "      <th>nickname</th>\n",
              "      <th>city</th>\n",
              "      <th>state</th>\n",
              "      <th>...</th>\n",
              "      <th>team_abbreviation_away_y</th>\n",
              "      <th>team_city_away</th>\n",
              "      <th>pts_paint_away</th>\n",
              "      <th>pts_2nd_chance_away</th>\n",
              "      <th>pts_fb_away</th>\n",
              "      <th>largest_lead_away</th>\n",
              "      <th>team_turnovers_away</th>\n",
              "      <th>total_turnovers_away</th>\n",
              "      <th>team_rebounds_away</th>\n",
              "      <th>pts_off_to_away</th>\n",
              "    </tr>\n",
              "  </thead>\n",
              "  <tbody>\n",
              "  </tbody>\n",
              "</table>\n",
              "<p>0 rows × 92 columns</p>\n",
              "</div>\n",
              "    <div class=\"colab-df-buttons\">\n",
              "\n",
              "  <div class=\"colab-df-container\">\n",
              "    <button class=\"colab-df-convert\" onclick=\"convertToInteractive('df-f367469a-0a65-47d5-b2ec-64634fbfebdc')\"\n",
              "            title=\"Convert this dataframe to an interactive table.\"\n",
              "            style=\"display:none;\">\n",
              "\n",
              "  <svg xmlns=\"http://www.w3.org/2000/svg\" height=\"24px\" viewBox=\"0 -960 960 960\">\n",
              "    <path d=\"M120-120v-720h720v720H120Zm60-500h600v-160H180v160Zm220 220h160v-160H400v160Zm0 220h160v-160H400v160ZM180-400h160v-160H180v160Zm440 0h160v-160H620v160ZM180-180h160v-160H180v160Zm440 0h160v-160H620v160Z\"/>\n",
              "  </svg>\n",
              "    </button>\n",
              "\n",
              "  <style>\n",
              "    .colab-df-container {\n",
              "      display:flex;\n",
              "      gap: 12px;\n",
              "    }\n",
              "\n",
              "    .colab-df-convert {\n",
              "      background-color: #E8F0FE;\n",
              "      border: none;\n",
              "      border-radius: 50%;\n",
              "      cursor: pointer;\n",
              "      display: none;\n",
              "      fill: #1967D2;\n",
              "      height: 32px;\n",
              "      padding: 0 0 0 0;\n",
              "      width: 32px;\n",
              "    }\n",
              "\n",
              "    .colab-df-convert:hover {\n",
              "      background-color: #E2EBFA;\n",
              "      box-shadow: 0px 1px 2px rgba(60, 64, 67, 0.3), 0px 1px 3px 1px rgba(60, 64, 67, 0.15);\n",
              "      fill: #174EA6;\n",
              "    }\n",
              "\n",
              "    .colab-df-buttons div {\n",
              "      margin-bottom: 4px;\n",
              "    }\n",
              "\n",
              "    [theme=dark] .colab-df-convert {\n",
              "      background-color: #3B4455;\n",
              "      fill: #D2E3FC;\n",
              "    }\n",
              "\n",
              "    [theme=dark] .colab-df-convert:hover {\n",
              "      background-color: #434B5C;\n",
              "      box-shadow: 0px 1px 3px 1px rgba(0, 0, 0, 0.15);\n",
              "      filter: drop-shadow(0px 1px 2px rgba(0, 0, 0, 0.3));\n",
              "      fill: #FFFFFF;\n",
              "    }\n",
              "  </style>\n",
              "\n",
              "    <script>\n",
              "      const buttonEl =\n",
              "        document.querySelector('#df-f367469a-0a65-47d5-b2ec-64634fbfebdc button.colab-df-convert');\n",
              "      buttonEl.style.display =\n",
              "        google.colab.kernel.accessAllowed ? 'block' : 'none';\n",
              "\n",
              "      async function convertToInteractive(key) {\n",
              "        const element = document.querySelector('#df-f367469a-0a65-47d5-b2ec-64634fbfebdc');\n",
              "        const dataTable =\n",
              "          await google.colab.kernel.invokeFunction('convertToInteractive',\n",
              "                                                    [key], {});\n",
              "        if (!dataTable) return;\n",
              "\n",
              "        const docLinkHtml = 'Like what you see? Visit the ' +\n",
              "          '<a target=\"_blank\" href=https://colab.research.google.com/notebooks/data_table.ipynb>data table notebook</a>'\n",
              "          + ' to learn more about interactive tables.';\n",
              "        element.innerHTML = '';\n",
              "        dataTable['output_type'] = 'display_data';\n",
              "        await google.colab.output.renderOutput(dataTable, element);\n",
              "        const docLink = document.createElement('div');\n",
              "        docLink.innerHTML = docLinkHtml;\n",
              "        element.appendChild(docLink);\n",
              "      }\n",
              "    </script>\n",
              "  </div>\n",
              "\n",
              "\n",
              "    </div>\n",
              "  </div>\n"
            ],
            "application/vnd.google.colaboratory.intrinsic+json": {
              "type": "dataframe",
              "variable_name": "df"
            }
          },
          "metadata": {},
          "execution_count": 50
        }
      ]
    },
    {
      "cell_type": "code",
      "source": [],
      "metadata": {
        "id": "GsAHSFYaK0i9"
      },
      "execution_count": null,
      "outputs": []
    },
    {
      "cell_type": "code",
      "source": [
        "# Extraia os dados processados do SQL para um DataFrame\n",
        "#df_answers_games = pd.read_sql_query(\"SELECT * FROM Players, Teams, Games, Game_Stats \",  conn_original)\n",
        "#df_answers_games.head()\n"
      ],
      "metadata": {
        "colab": {
          "base_uri": "https://localhost:8080/",
          "height": 99
        },
        "id": "anOXE_gJpjk_",
        "outputId": "4e417f33-27f8-4298-fe98-209030bf0dcc"
      },
      "execution_count": null,
      "outputs": [
        {
          "output_type": "execute_result",
          "data": {
            "text/plain": [
              "Empty DataFrame\n",
              "Columns: [Player_ID, Player_Name, Team, Position, Height, Birth_Date, Team_ID, Team_Name, City, Arena, Game_ID, Home_Team_ID, Away_Team_ID, Date, Home_Score, Away_Score, Game_ID, Player_ID, Points, Rebounds, Assists]\n",
              "Index: []\n",
              "\n",
              "[0 rows x 21 columns]"
            ],
            "text/html": [
              "\n",
              "  <div id=\"df-8a10b89b-dc0e-48e4-9c45-13c102df1f49\" class=\"colab-df-container\">\n",
              "    <div>\n",
              "<style scoped>\n",
              "    .dataframe tbody tr th:only-of-type {\n",
              "        vertical-align: middle;\n",
              "    }\n",
              "\n",
              "    .dataframe tbody tr th {\n",
              "        vertical-align: top;\n",
              "    }\n",
              "\n",
              "    .dataframe thead th {\n",
              "        text-align: right;\n",
              "    }\n",
              "</style>\n",
              "<table border=\"1\" class=\"dataframe\">\n",
              "  <thead>\n",
              "    <tr style=\"text-align: right;\">\n",
              "      <th></th>\n",
              "      <th>Player_ID</th>\n",
              "      <th>Player_Name</th>\n",
              "      <th>Team</th>\n",
              "      <th>Position</th>\n",
              "      <th>Height</th>\n",
              "      <th>Birth_Date</th>\n",
              "      <th>Team_ID</th>\n",
              "      <th>Team_Name</th>\n",
              "      <th>City</th>\n",
              "      <th>Arena</th>\n",
              "      <th>...</th>\n",
              "      <th>Home_Team_ID</th>\n",
              "      <th>Away_Team_ID</th>\n",
              "      <th>Date</th>\n",
              "      <th>Home_Score</th>\n",
              "      <th>Away_Score</th>\n",
              "      <th>Game_ID</th>\n",
              "      <th>Player_ID</th>\n",
              "      <th>Points</th>\n",
              "      <th>Rebounds</th>\n",
              "      <th>Assists</th>\n",
              "    </tr>\n",
              "  </thead>\n",
              "  <tbody>\n",
              "  </tbody>\n",
              "</table>\n",
              "<p>0 rows × 21 columns</p>\n",
              "</div>\n",
              "    <div class=\"colab-df-buttons\">\n",
              "\n",
              "  <div class=\"colab-df-container\">\n",
              "    <button class=\"colab-df-convert\" onclick=\"convertToInteractive('df-8a10b89b-dc0e-48e4-9c45-13c102df1f49')\"\n",
              "            title=\"Convert this dataframe to an interactive table.\"\n",
              "            style=\"display:none;\">\n",
              "\n",
              "  <svg xmlns=\"http://www.w3.org/2000/svg\" height=\"24px\" viewBox=\"0 -960 960 960\">\n",
              "    <path d=\"M120-120v-720h720v720H120Zm60-500h600v-160H180v160Zm220 220h160v-160H400v160Zm0 220h160v-160H400v160ZM180-400h160v-160H180v160Zm440 0h160v-160H620v160ZM180-180h160v-160H180v160Zm440 0h160v-160H620v160Z\"/>\n",
              "  </svg>\n",
              "    </button>\n",
              "\n",
              "  <style>\n",
              "    .colab-df-container {\n",
              "      display:flex;\n",
              "      gap: 12px;\n",
              "    }\n",
              "\n",
              "    .colab-df-convert {\n",
              "      background-color: #E8F0FE;\n",
              "      border: none;\n",
              "      border-radius: 50%;\n",
              "      cursor: pointer;\n",
              "      display: none;\n",
              "      fill: #1967D2;\n",
              "      height: 32px;\n",
              "      padding: 0 0 0 0;\n",
              "      width: 32px;\n",
              "    }\n",
              "\n",
              "    .colab-df-convert:hover {\n",
              "      background-color: #E2EBFA;\n",
              "      box-shadow: 0px 1px 2px rgba(60, 64, 67, 0.3), 0px 1px 3px 1px rgba(60, 64, 67, 0.15);\n",
              "      fill: #174EA6;\n",
              "    }\n",
              "\n",
              "    .colab-df-buttons div {\n",
              "      margin-bottom: 4px;\n",
              "    }\n",
              "\n",
              "    [theme=dark] .colab-df-convert {\n",
              "      background-color: #3B4455;\n",
              "      fill: #D2E3FC;\n",
              "    }\n",
              "\n",
              "    [theme=dark] .colab-df-convert:hover {\n",
              "      background-color: #434B5C;\n",
              "      box-shadow: 0px 1px 3px 1px rgba(0, 0, 0, 0.15);\n",
              "      filter: drop-shadow(0px 1px 2px rgba(0, 0, 0, 0.3));\n",
              "      fill: #FFFFFF;\n",
              "    }\n",
              "  </style>\n",
              "\n",
              "    <script>\n",
              "      const buttonEl =\n",
              "        document.querySelector('#df-8a10b89b-dc0e-48e4-9c45-13c102df1f49 button.colab-df-convert');\n",
              "      buttonEl.style.display =\n",
              "        google.colab.kernel.accessAllowed ? 'block' : 'none';\n",
              "\n",
              "      async function convertToInteractive(key) {\n",
              "        const element = document.querySelector('#df-8a10b89b-dc0e-48e4-9c45-13c102df1f49');\n",
              "        const dataTable =\n",
              "          await google.colab.kernel.invokeFunction('convertToInteractive',\n",
              "                                                    [key], {});\n",
              "        if (!dataTable) return;\n",
              "\n",
              "        const docLinkHtml = 'Like what you see? Visit the ' +\n",
              "          '<a target=\"_blank\" href=https://colab.research.google.com/notebooks/data_table.ipynb>data table notebook</a>'\n",
              "          + ' to learn more about interactive tables.';\n",
              "        element.innerHTML = '';\n",
              "        dataTable['output_type'] = 'display_data';\n",
              "        await google.colab.output.renderOutput(dataTable, element);\n",
              "        const docLink = document.createElement('div');\n",
              "        docLink.innerHTML = docLinkHtml;\n",
              "        element.appendChild(docLink);\n",
              "      }\n",
              "    </script>\n",
              "  </div>\n",
              "\n",
              "\n",
              "    </div>\n",
              "  </div>\n"
            ],
            "application/vnd.google.colaboratory.intrinsic+json": {
              "type": "dataframe",
              "variable_name": "df_answers_games"
            }
          },
          "metadata": {},
          "execution_count": 35
        }
      ]
    },
    {
      "cell_type": "code",
      "source": [
        "# faça o tratamento necessário, como lidar com valores faltantes e formatação correta de colunas."
      ],
      "metadata": {
        "id": "A6R6m1hDpxMn"
      },
      "execution_count": null,
      "outputs": []
    },
    {
      "cell_type": "markdown",
      "source": [
        "# Limpeza e Tratamento"
      ],
      "metadata": {
        "id": "sYgshFijp5SK"
      }
    },
    {
      "cell_type": "code",
      "source": [
        "# Verifique os dados extraídos em busca de inconsistências.\n"
      ],
      "metadata": {
        "id": "mkv7-B7Jp_GC"
      },
      "execution_count": null,
      "outputs": []
    },
    {
      "cell_type": "code",
      "source": [
        "# Verificarvalores ausentes, tipos de dados incorretos ou duplicatas"
      ],
      "metadata": {
        "id": "Ga1Gym9lqCT4"
      },
      "execution_count": null,
      "outputs": []
    },
    {
      "cell_type": "markdown",
      "source": [
        "# Análise Estatística e Visualizações"
      ],
      "metadata": {
        "id": "qow3Hg5pqNWy"
      }
    },
    {
      "cell_type": "code",
      "source": [
        "#Calcular a pontuação por jogador usando a função apply e uma função lambda:"
      ],
      "metadata": {
        "id": "lvAEk4cnqTR4"
      },
      "execution_count": null,
      "outputs": []
    },
    {
      "cell_type": "code",
      "source": [
        "# Agrupar os dados por time e calcular a média de pontuação, rebotes e assistências usando groupby:"
      ],
      "metadata": {
        "id": "vgkXMVi0qWJM"
      },
      "execution_count": null,
      "outputs": []
    },
    {
      "cell_type": "code",
      "source": [
        "#Classificar jogadores com base na pontuação usando cut e criar categorias de performance:"
      ],
      "metadata": {
        "id": "qzUisMbaqXyB"
      },
      "execution_count": null,
      "outputs": []
    },
    {
      "cell_type": "markdown",
      "source": [
        "# Estatísticas Descritivas\n"
      ],
      "metadata": {
        "id": "ZjTI4bLOqhrP"
      }
    },
    {
      "cell_type": "code",
      "source": [
        "#Calcular média, mediana, desvio padrao e quartis de pontuaçao, rebotes e assistencias"
      ],
      "metadata": {
        "id": "HJmyYvWWqjid"
      },
      "execution_count": null,
      "outputs": []
    },
    {
      "cell_type": "code",
      "source": [
        "#Criar amostras de 30% dos dados para realizar análises estatísticas posteriores"
      ],
      "metadata": {
        "id": "IkWVYnhTr_7N"
      },
      "execution_count": null,
      "outputs": []
    },
    {
      "cell_type": "markdown",
      "source": [
        "Probabilidade e Amostragem"
      ],
      "metadata": {
        "id": "bRe5W-HcsKK-"
      }
    },
    {
      "cell_type": "code",
      "source": [
        "#Probabilidade de um jogador marcar mais de 20 pontos;"
      ],
      "metadata": {
        "id": "gGg6ZaFdsDcc"
      },
      "execution_count": null,
      "outputs": []
    },
    {
      "cell_type": "code",
      "source": [
        "#Calcular a probabilidade de um time ganhar ou um jogador alcançar uma pontuação acima de um determinado valor."
      ],
      "metadata": {
        "id": "ZNYTW6a0sHgG"
      },
      "execution_count": null,
      "outputs": []
    },
    {
      "cell_type": "markdown",
      "source": [
        "Testes de Hipóteses"
      ],
      "metadata": {
        "id": "jAB206qMsUAp"
      }
    },
    {
      "cell_type": "code",
      "source": [
        "#Testar se a média de pontos dos jogadores em casa é diferente da média de pontos dos jogadores em jogos fora de casa, TESTE T"
      ],
      "metadata": {
        "id": "OKRrMZ85sV6Z"
      },
      "execution_count": null,
      "outputs": []
    },
    {
      "cell_type": "markdown",
      "source": [
        "#Visualizações dos Dados"
      ],
      "metadata": {
        "id": "5o6NEG7fspf5"
      }
    },
    {
      "cell_type": "code",
      "source": [
        "#Boxplot da Pontuação por Categoria de Jogador"
      ],
      "metadata": {
        "id": "vnhrxUnDsq1c"
      },
      "execution_count": null,
      "outputs": []
    },
    {
      "cell_type": "code",
      "source": [
        "#Distribuição de Idade dos Jogadores com histograma"
      ],
      "metadata": {
        "id": "Wds4j--gsttC"
      },
      "execution_count": null,
      "outputs": []
    },
    {
      "cell_type": "code",
      "source": [
        "#Gráfico de Barras mostrando a Relação entre Pontuação e Rebotes por Time"
      ],
      "metadata": {
        "id": "Uhh5IE8SszZf"
      },
      "execution_count": null,
      "outputs": []
    },
    {
      "cell_type": "markdown",
      "source": [
        "#Conclusão da Análise"
      ],
      "metadata": {
        "id": "br8IPyN7s2pF"
      }
    },
    {
      "cell_type": "code",
      "source": [
        "#Construa uma conclusão que resuma os achados na análise."
      ],
      "metadata": {
        "id": "vcqEZaVErClI"
      },
      "execution_count": null,
      "outputs": []
    }
  ]
}