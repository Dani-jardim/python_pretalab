{
  "nbformat": 4,
  "nbformat_minor": 0,
  "metadata": {
    "colab": {
      "provenance": [],
      "include_colab_link": true
    },
    "kernelspec": {
      "name": "python3",
      "display_name": "Python 3"
    },
    "language_info": {
      "name": "python"
    }
  },
  "cells": [
    {
      "cell_type": "markdown",
      "metadata": {
        "id": "view-in-github",
        "colab_type": "text"
      },
      "source": [
        "<a href=\"https://colab.research.google.com/github/Dani-jardim/python_pretalab/blob/main/Daniela_Jardim_Projeto4.ipynb\" target=\"_parent\"><img src=\"https://colab.research.google.com/assets/colab-badge.svg\" alt=\"Open In Colab\"/></a>"
      ]
    },
    {
      "cell_type": "markdown",
      "source": [
        "# Projeto 4: Estatística com Python - Probabilidade, Amostragem e Testes de Hipóteses"
      ],
      "metadata": {
        "id": "stQHX0JePOtK"
      }
    },
    {
      "cell_type": "markdown",
      "source": [
        "## Objetivo do Projeto:"
      ],
      "metadata": {
        "id": "VMrB8NGsPTNI"
      }
    },
    {
      "cell_type": "markdown",
      "source": [
        "O objetivo deste projeto é aplicar os conceitos aprendidos sobre Estatística Descritiva, Probabilidade, Amostragem e Testes de Hipóteses.\n",
        "\n",
        "O projeto irá avaliar a compreensão dos tópicos abordados e como conseguem aplicar as ferramentas estatísticas para realizar uma análise real usando dados."
      ],
      "metadata": {
        "id": "PinJyyWzPW_4"
      }
    },
    {
      "cell_type": "markdown",
      "source": [
        "## Cenário:"
      ],
      "metadata": {
        "id": "xImC8IXCPoNq"
      }
    },
    {
      "cell_type": "markdown",
      "source": [
        "A base de dados para esse projeto será a \"Telco Customer Churn\",disponível no Kaggle,  que contém dados sobre a rotatividade de clientes de uma empresa de telecomunicações.\n",
        "\n",
        "A análise desse dataset é interessante, pois permite explorar a jornada do cliente, entender o comportamento daqueles que deixam a empresa e realizar testes de hipóteses para identificar os fatores que influenciam essa decisão.\n",
        "\n",
        "link do dataset -[ Telco Customer Churn](\n",
        "  https://www.kaggle.com/datasets/alfathterry/telco-customer-churn-11-1-3)"
      ],
      "metadata": {
        "id": "XbwttRNnPqxs"
      }
    },
    {
      "cell_type": "markdown",
      "source": [
        "### Conceitos Básicos de Estatística em Python - Estatística Descritiva"
      ],
      "metadata": {
        "id": "3Av2CcSzQve-"
      }
    },
    {
      "cell_type": "markdown",
      "source": [
        "Nesta primeira etapa, você irá realizar uma análise descritiva dos dados. Escolha algumas colunas que representam variáveis importantes para o negócio *(por exemplo, churn, tenure, monthly charges)* e responda às seguintes perguntas:\n",
        "\n",
        "***Distribuição dos dados:***\n",
        "\n",
        "1. Qual é a média, mediana, moda e desvio padrão do tempo de permanência (tenure) dos clientes?\n",
        "\n",
        "***Análise de dispersão:***\n",
        "\n",
        "2. Quais são os quartis e percentis do valor das cobranças mensais (monthly charges) e das taxas de rescisão (churn)?\n",
        "\n",
        "\n",
        "***Visualização:***\n",
        "\n",
        "3. Utilize gráficos como histograma e boxplot para visualizar a distribuição dos dados."
      ],
      "metadata": {
        "id": "zIdrXoQQQ0Hy"
      }
    },
    {
      "cell_type": "markdown",
      "source": [
        "### Probabilidade, Amostragem e Testes de Hipóteses"
      ],
      "metadata": {
        "id": "NZ33mmYkRLAv"
      }
    },
    {
      "cell_type": "markdown",
      "source": [
        "Agora que você já realizou uma análise descritiva, vamos nos aprofundar em probabilidade, amostragem e testes de hipóteses.\n",
        "\n",
        "***Amostragem:***\n",
        "\n",
        "1. Escolha uma amostra aleatória de 30% dos dados.\n",
        "\n",
        "Tipos de Amostragem: Utilize amostragem aleatória simples e estratificada para escolher as amostras, explicando as diferenças entre elas.\n",
        "\n",
        "***Probabilidade:***\n",
        "\n",
        "2. Calcule a probabilidade de um cliente encerrar o serviço (churn) com base em características como tempo de permanência (tenure) e cobranças mensais (monthly charges).\n",
        "\n",
        "***Testes de Hipóteses:***\n",
        "\n",
        "1. Escolha duas variáveis relevantes (por exemplo, churn e tipo de contrato) e formule uma hipótese nula (H0) e uma hipótese alternativa (H1).\n",
        "\n",
        "2. Realize um Teste T ou ANOVA para verificar se há diferença significativa nas cobranças mensais entre clientes que cancelam o serviço e aqueles que não cancelam.\n",
        "\n",
        "3. Analise o valor-p e interprete os resultados."
      ],
      "metadata": {
        "id": "QNDZWaxMRZ5B"
      }
    },
    {
      "cell_type": "markdown",
      "source": [
        "## O que entregar:"
      ],
      "metadata": {
        "id": "JhGzg8a0Rt6P"
      }
    },
    {
      "cell_type": "markdown",
      "source": [
        "1. Um notebook com a análise completa.\n",
        "\n",
        "2. A análise descritiva dos dados.\n",
        "\n",
        "3. A aplicação da amostragem e cálculo de probabilidade.\n",
        "\n",
        "4. O resultado dos testes de hipóteses com a interpretação crítica."
      ],
      "metadata": {
        "id": "FAhxTYCCRvv2"
      }
    },
    {
      "cell_type": "markdown",
      "source": [
        "#Montando o google Drive"
      ],
      "metadata": {
        "id": "b4qcTKFK4oM6"
      }
    },
    {
      "cell_type": "code",
      "source": [
        "#Montando o google Drive\n",
        "from google.colab import drive\n",
        "drive.mount('/content/drive')\n"
      ],
      "metadata": {
        "id": "dh-yv9i-QvEn",
        "colab": {
          "base_uri": "https://localhost:8080/"
        },
        "outputId": "be90028f-daac-4f13-f84a-82ce77380c7b"
      },
      "execution_count": null,
      "outputs": [
        {
          "output_type": "stream",
          "name": "stdout",
          "text": [
            "Mounted at /content/drive\n"
          ]
        }
      ]
    },
    {
      "cell_type": "code",
      "source": [
        "%cd /content/drive/MyDrive/pretaLab/projeto04"
      ],
      "metadata": {
        "colab": {
          "base_uri": "https://localhost:8080/"
        },
        "id": "ZUCdigIv4xLM",
        "outputId": "a87aae79-7a22-4c87-f5ef-cf5d3a2fc4d7"
      },
      "execution_count": null,
      "outputs": [
        {
          "output_type": "stream",
          "name": "stdout",
          "text": [
            "/content/drive/MyDrive/pretaLab/projeto04\n"
          ]
        }
      ]
    },
    {
      "cell_type": "code",
      "source": [
        "import os\n",
        "print(os.getcwd())"
      ],
      "metadata": {
        "colab": {
          "base_uri": "https://localhost:8080/"
        },
        "id": "muom_Qzm5H_V",
        "outputId": "6693cd49-09a8-47c6-b318-d862db7711bb"
      },
      "execution_count": null,
      "outputs": [
        {
          "output_type": "stream",
          "name": "stdout",
          "text": [
            "/content/drive/MyDrive/pretaLab/projeto04\n"
          ]
        }
      ]
    },
    {
      "cell_type": "code",
      "source": [
        "!ls"
      ],
      "metadata": {
        "colab": {
          "base_uri": "https://localhost:8080/"
        },
        "id": "7ZCN8JZ34zd4",
        "outputId": "9dcceea7-7bb4-4d9e-d1d1-3c2df57079fb"
      },
      "execution_count": null,
      "outputs": [
        {
          "output_type": "stream",
          "name": "stdout",
          "text": [
            "Daniela_Jardim_Projeto4.ipynb\n"
          ]
        }
      ]
    },
    {
      "cell_type": "markdown",
      "source": [
        "#Iniciando o projeto"
      ],
      "metadata": {
        "id": "AIQlTARX5tMQ"
      }
    },
    {
      "cell_type": "code",
      "source": [
        "#importar bibliotecas\n",
        "import pandas as pd\n",
        "import numpy as np\n",
        "import matplotlib.pyplot as plt\n",
        "import seaborn as sns\n",
        "import scipy.stats as stats"
      ],
      "metadata": {
        "id": "umMztk996m9B"
      },
      "execution_count": null,
      "outputs": []
    },
    {
      "cell_type": "code",
      "source": [
        "#Importar a base de dados \"Telco Customer Churn\" disponível no Kaggle\n",
        "import kagglehub\n",
        "\n",
        "# Download latest version\n",
        "path = kagglehub.dataset_download(\"alfathterry/telco-customer-churn-11-1-3\")\n",
        "\n",
        "print(\"Path to dataset files:\", path)"
      ],
      "metadata": {
        "colab": {
          "base_uri": "https://localhost:8080/"
        },
        "id": "KKlUYOrC5xY0",
        "outputId": "3d7b6be5-d143-4768-d6e9-2345f68f8570"
      },
      "execution_count": null,
      "outputs": [
        {
          "output_type": "stream",
          "name": "stdout",
          "text": [
            "Downloading from https://www.kaggle.com/api/v1/datasets/download/alfathterry/telco-customer-churn-11-1-3?dataset_version_number=1...\n"
          ]
        },
        {
          "output_type": "stream",
          "name": "stderr",
          "text": [
            "100%|██████████| 513k/513k [00:00<00:00, 73.2MB/s]"
          ]
        },
        {
          "output_type": "stream",
          "name": "stdout",
          "text": [
            "Extracting files...\n",
            "Path to dataset files: /root/.cache/kagglehub/datasets/alfathterry/telco-customer-churn-11-1-3/versions/1\n"
          ]
        },
        {
          "output_type": "stream",
          "name": "stderr",
          "text": [
            "\n"
          ]
        }
      ]
    },
    {
      "cell_type": "code",
      "source": [
        "/root/.cache/kagglehub/datasets/alfathterry/telco-customer-churn-11-1-3/versions/1"
      ],
      "metadata": {
        "colab": {
          "base_uri": "https://localhost:8080/",
          "height": 108
        },
        "collapsed": true,
        "id": "Hgc4O0gw7KXI",
        "outputId": "582757c2-b5b3-4aa7-9fee-0ccf015fb9ad"
      },
      "execution_count": null,
      "outputs": [
        {
          "output_type": "error",
          "ename": "SyntaxError",
          "evalue": "invalid syntax (<ipython-input-27-cabd1da9292d>, line 1)",
          "traceback": [
            "\u001b[0;36m  File \u001b[0;32m\"<ipython-input-27-cabd1da9292d>\"\u001b[0;36m, line \u001b[0;32m1\u001b[0m\n\u001b[0;31m    root/.cache/kagglehub/datasets/alfathterry/telco-customer-churn-11-1-3/versions/1()\u001b[0m\n\u001b[0m         ^\u001b[0m\n\u001b[0;31mSyntaxError\u001b[0m\u001b[0;31m:\u001b[0m invalid syntax\n"
          ]
        }
      ]
    },
    {
      "cell_type": "code",
      "source": [
        "#Carregar os dados\n",
        "dados = pd.read_csv('/root/.cache/kagglehub/datasets/alfathterry/telco-customer-churn-11-1-3/versions/1/telco.csv')"
      ],
      "metadata": {
        "id": "Fqlzi_Iv7aqs"
      },
      "execution_count": null,
      "outputs": []
    },
    {
      "cell_type": "code",
      "source": [
        "# Visualizar os primeiros registros\n",
        "dados.head()"
      ],
      "metadata": {
        "colab": {
          "base_uri": "https://localhost:8080/",
          "height": 464
        },
        "id": "sfWOkvLI8Jmd",
        "outputId": "80de348d-67f0-4157-c2e3-68f31ac8ac29",
        "collapsed": true
      },
      "execution_count": null,
      "outputs": [
        {
          "output_type": "execute_result",
          "data": {
            "text/plain": [
              "  Customer ID  Gender  Age Under 30 Senior Citizen Married Dependents  \\\n",
              "0  8779-QRDMV    Male   78       No            Yes      No         No   \n",
              "1  7495-OOKFY  Female   74       No            Yes     Yes        Yes   \n",
              "2  1658-BYGOY    Male   71       No            Yes      No        Yes   \n",
              "3  4598-XLKNJ  Female   78       No            Yes     Yes        Yes   \n",
              "4  4846-WHAFZ  Female   80       No            Yes     Yes        Yes   \n",
              "\n",
              "   Number of Dependents        Country       State  ...  \\\n",
              "0                     0  United States  California  ...   \n",
              "1                     1  United States  California  ...   \n",
              "2                     3  United States  California  ...   \n",
              "3                     1  United States  California  ...   \n",
              "4                     1  United States  California  ...   \n",
              "\n",
              "  Total Extra Data Charges  Total Long Distance Charges  Total Revenue  \\\n",
              "0                       20                         0.00          59.65   \n",
              "1                        0                       390.80        1024.10   \n",
              "2                        0                       203.94        1910.88   \n",
              "3                        0                       494.00        2995.07   \n",
              "4                        0                       234.21        3102.36   \n",
              "\n",
              "   Satisfaction Score  Customer Status Churn Label Churn Score  CLTV  \\\n",
              "0                   3          Churned         Yes          91  5433   \n",
              "1                   3          Churned         Yes          69  5302   \n",
              "2                   2          Churned         Yes          81  3179   \n",
              "3                   2          Churned         Yes          88  5337   \n",
              "4                   2          Churned         Yes          67  2793   \n",
              "\n",
              "    Churn Category                  Churn Reason  \n",
              "0       Competitor  Competitor offered more data  \n",
              "1       Competitor  Competitor made better offer  \n",
              "2       Competitor  Competitor made better offer  \n",
              "3  Dissatisfaction     Limited range of services  \n",
              "4            Price            Extra data charges  \n",
              "\n",
              "[5 rows x 50 columns]"
            ],
            "text/html": [
              "\n",
              "  <div id=\"df-36601c7f-9ecd-49ed-ac98-e29e4b305715\" class=\"colab-df-container\">\n",
              "    <div>\n",
              "<style scoped>\n",
              "    .dataframe tbody tr th:only-of-type {\n",
              "        vertical-align: middle;\n",
              "    }\n",
              "\n",
              "    .dataframe tbody tr th {\n",
              "        vertical-align: top;\n",
              "    }\n",
              "\n",
              "    .dataframe thead th {\n",
              "        text-align: right;\n",
              "    }\n",
              "</style>\n",
              "<table border=\"1\" class=\"dataframe\">\n",
              "  <thead>\n",
              "    <tr style=\"text-align: right;\">\n",
              "      <th></th>\n",
              "      <th>Customer ID</th>\n",
              "      <th>Gender</th>\n",
              "      <th>Age</th>\n",
              "      <th>Under 30</th>\n",
              "      <th>Senior Citizen</th>\n",
              "      <th>Married</th>\n",
              "      <th>Dependents</th>\n",
              "      <th>Number of Dependents</th>\n",
              "      <th>Country</th>\n",
              "      <th>State</th>\n",
              "      <th>...</th>\n",
              "      <th>Total Extra Data Charges</th>\n",
              "      <th>Total Long Distance Charges</th>\n",
              "      <th>Total Revenue</th>\n",
              "      <th>Satisfaction Score</th>\n",
              "      <th>Customer Status</th>\n",
              "      <th>Churn Label</th>\n",
              "      <th>Churn Score</th>\n",
              "      <th>CLTV</th>\n",
              "      <th>Churn Category</th>\n",
              "      <th>Churn Reason</th>\n",
              "    </tr>\n",
              "  </thead>\n",
              "  <tbody>\n",
              "    <tr>\n",
              "      <th>0</th>\n",
              "      <td>8779-QRDMV</td>\n",
              "      <td>Male</td>\n",
              "      <td>78</td>\n",
              "      <td>No</td>\n",
              "      <td>Yes</td>\n",
              "      <td>No</td>\n",
              "      <td>No</td>\n",
              "      <td>0</td>\n",
              "      <td>United States</td>\n",
              "      <td>California</td>\n",
              "      <td>...</td>\n",
              "      <td>20</td>\n",
              "      <td>0.00</td>\n",
              "      <td>59.65</td>\n",
              "      <td>3</td>\n",
              "      <td>Churned</td>\n",
              "      <td>Yes</td>\n",
              "      <td>91</td>\n",
              "      <td>5433</td>\n",
              "      <td>Competitor</td>\n",
              "      <td>Competitor offered more data</td>\n",
              "    </tr>\n",
              "    <tr>\n",
              "      <th>1</th>\n",
              "      <td>7495-OOKFY</td>\n",
              "      <td>Female</td>\n",
              "      <td>74</td>\n",
              "      <td>No</td>\n",
              "      <td>Yes</td>\n",
              "      <td>Yes</td>\n",
              "      <td>Yes</td>\n",
              "      <td>1</td>\n",
              "      <td>United States</td>\n",
              "      <td>California</td>\n",
              "      <td>...</td>\n",
              "      <td>0</td>\n",
              "      <td>390.80</td>\n",
              "      <td>1024.10</td>\n",
              "      <td>3</td>\n",
              "      <td>Churned</td>\n",
              "      <td>Yes</td>\n",
              "      <td>69</td>\n",
              "      <td>5302</td>\n",
              "      <td>Competitor</td>\n",
              "      <td>Competitor made better offer</td>\n",
              "    </tr>\n",
              "    <tr>\n",
              "      <th>2</th>\n",
              "      <td>1658-BYGOY</td>\n",
              "      <td>Male</td>\n",
              "      <td>71</td>\n",
              "      <td>No</td>\n",
              "      <td>Yes</td>\n",
              "      <td>No</td>\n",
              "      <td>Yes</td>\n",
              "      <td>3</td>\n",
              "      <td>United States</td>\n",
              "      <td>California</td>\n",
              "      <td>...</td>\n",
              "      <td>0</td>\n",
              "      <td>203.94</td>\n",
              "      <td>1910.88</td>\n",
              "      <td>2</td>\n",
              "      <td>Churned</td>\n",
              "      <td>Yes</td>\n",
              "      <td>81</td>\n",
              "      <td>3179</td>\n",
              "      <td>Competitor</td>\n",
              "      <td>Competitor made better offer</td>\n",
              "    </tr>\n",
              "    <tr>\n",
              "      <th>3</th>\n",
              "      <td>4598-XLKNJ</td>\n",
              "      <td>Female</td>\n",
              "      <td>78</td>\n",
              "      <td>No</td>\n",
              "      <td>Yes</td>\n",
              "      <td>Yes</td>\n",
              "      <td>Yes</td>\n",
              "      <td>1</td>\n",
              "      <td>United States</td>\n",
              "      <td>California</td>\n",
              "      <td>...</td>\n",
              "      <td>0</td>\n",
              "      <td>494.00</td>\n",
              "      <td>2995.07</td>\n",
              "      <td>2</td>\n",
              "      <td>Churned</td>\n",
              "      <td>Yes</td>\n",
              "      <td>88</td>\n",
              "      <td>5337</td>\n",
              "      <td>Dissatisfaction</td>\n",
              "      <td>Limited range of services</td>\n",
              "    </tr>\n",
              "    <tr>\n",
              "      <th>4</th>\n",
              "      <td>4846-WHAFZ</td>\n",
              "      <td>Female</td>\n",
              "      <td>80</td>\n",
              "      <td>No</td>\n",
              "      <td>Yes</td>\n",
              "      <td>Yes</td>\n",
              "      <td>Yes</td>\n",
              "      <td>1</td>\n",
              "      <td>United States</td>\n",
              "      <td>California</td>\n",
              "      <td>...</td>\n",
              "      <td>0</td>\n",
              "      <td>234.21</td>\n",
              "      <td>3102.36</td>\n",
              "      <td>2</td>\n",
              "      <td>Churned</td>\n",
              "      <td>Yes</td>\n",
              "      <td>67</td>\n",
              "      <td>2793</td>\n",
              "      <td>Price</td>\n",
              "      <td>Extra data charges</td>\n",
              "    </tr>\n",
              "  </tbody>\n",
              "</table>\n",
              "<p>5 rows × 50 columns</p>\n",
              "</div>\n",
              "    <div class=\"colab-df-buttons\">\n",
              "\n",
              "  <div class=\"colab-df-container\">\n",
              "    <button class=\"colab-df-convert\" onclick=\"convertToInteractive('df-36601c7f-9ecd-49ed-ac98-e29e4b305715')\"\n",
              "            title=\"Convert this dataframe to an interactive table.\"\n",
              "            style=\"display:none;\">\n",
              "\n",
              "  <svg xmlns=\"http://www.w3.org/2000/svg\" height=\"24px\" viewBox=\"0 -960 960 960\">\n",
              "    <path d=\"M120-120v-720h720v720H120Zm60-500h600v-160H180v160Zm220 220h160v-160H400v160Zm0 220h160v-160H400v160ZM180-400h160v-160H180v160Zm440 0h160v-160H620v160ZM180-180h160v-160H180v160Zm440 0h160v-160H620v160Z\"/>\n",
              "  </svg>\n",
              "    </button>\n",
              "\n",
              "  <style>\n",
              "    .colab-df-container {\n",
              "      display:flex;\n",
              "      gap: 12px;\n",
              "    }\n",
              "\n",
              "    .colab-df-convert {\n",
              "      background-color: #E8F0FE;\n",
              "      border: none;\n",
              "      border-radius: 50%;\n",
              "      cursor: pointer;\n",
              "      display: none;\n",
              "      fill: #1967D2;\n",
              "      height: 32px;\n",
              "      padding: 0 0 0 0;\n",
              "      width: 32px;\n",
              "    }\n",
              "\n",
              "    .colab-df-convert:hover {\n",
              "      background-color: #E2EBFA;\n",
              "      box-shadow: 0px 1px 2px rgba(60, 64, 67, 0.3), 0px 1px 3px 1px rgba(60, 64, 67, 0.15);\n",
              "      fill: #174EA6;\n",
              "    }\n",
              "\n",
              "    .colab-df-buttons div {\n",
              "      margin-bottom: 4px;\n",
              "    }\n",
              "\n",
              "    [theme=dark] .colab-df-convert {\n",
              "      background-color: #3B4455;\n",
              "      fill: #D2E3FC;\n",
              "    }\n",
              "\n",
              "    [theme=dark] .colab-df-convert:hover {\n",
              "      background-color: #434B5C;\n",
              "      box-shadow: 0px 1px 3px 1px rgba(0, 0, 0, 0.15);\n",
              "      filter: drop-shadow(0px 1px 2px rgba(0, 0, 0, 0.3));\n",
              "      fill: #FFFFFF;\n",
              "    }\n",
              "  </style>\n",
              "\n",
              "    <script>\n",
              "      const buttonEl =\n",
              "        document.querySelector('#df-36601c7f-9ecd-49ed-ac98-e29e4b305715 button.colab-df-convert');\n",
              "      buttonEl.style.display =\n",
              "        google.colab.kernel.accessAllowed ? 'block' : 'none';\n",
              "\n",
              "      async function convertToInteractive(key) {\n",
              "        const element = document.querySelector('#df-36601c7f-9ecd-49ed-ac98-e29e4b305715');\n",
              "        const dataTable =\n",
              "          await google.colab.kernel.invokeFunction('convertToInteractive',\n",
              "                                                    [key], {});\n",
              "        if (!dataTable) return;\n",
              "\n",
              "        const docLinkHtml = 'Like what you see? Visit the ' +\n",
              "          '<a target=\"_blank\" href=https://colab.research.google.com/notebooks/data_table.ipynb>data table notebook</a>'\n",
              "          + ' to learn more about interactive tables.';\n",
              "        element.innerHTML = '';\n",
              "        dataTable['output_type'] = 'display_data';\n",
              "        await google.colab.output.renderOutput(dataTable, element);\n",
              "        const docLink = document.createElement('div');\n",
              "        docLink.innerHTML = docLinkHtml;\n",
              "        element.appendChild(docLink);\n",
              "      }\n",
              "    </script>\n",
              "  </div>\n",
              "\n",
              "\n",
              "<div id=\"df-1ad105ae-3db7-4ab2-a52e-efe4a6101d4a\">\n",
              "  <button class=\"colab-df-quickchart\" onclick=\"quickchart('df-1ad105ae-3db7-4ab2-a52e-efe4a6101d4a')\"\n",
              "            title=\"Suggest charts\"\n",
              "            style=\"display:none;\">\n",
              "\n",
              "<svg xmlns=\"http://www.w3.org/2000/svg\" height=\"24px\"viewBox=\"0 0 24 24\"\n",
              "     width=\"24px\">\n",
              "    <g>\n",
              "        <path d=\"M19 3H5c-1.1 0-2 .9-2 2v14c0 1.1.9 2 2 2h14c1.1 0 2-.9 2-2V5c0-1.1-.9-2-2-2zM9 17H7v-7h2v7zm4 0h-2V7h2v10zm4 0h-2v-4h2v4z\"/>\n",
              "    </g>\n",
              "</svg>\n",
              "  </button>\n",
              "\n",
              "<style>\n",
              "  .colab-df-quickchart {\n",
              "      --bg-color: #E8F0FE;\n",
              "      --fill-color: #1967D2;\n",
              "      --hover-bg-color: #E2EBFA;\n",
              "      --hover-fill-color: #174EA6;\n",
              "      --disabled-fill-color: #AAA;\n",
              "      --disabled-bg-color: #DDD;\n",
              "  }\n",
              "\n",
              "  [theme=dark] .colab-df-quickchart {\n",
              "      --bg-color: #3B4455;\n",
              "      --fill-color: #D2E3FC;\n",
              "      --hover-bg-color: #434B5C;\n",
              "      --hover-fill-color: #FFFFFF;\n",
              "      --disabled-bg-color: #3B4455;\n",
              "      --disabled-fill-color: #666;\n",
              "  }\n",
              "\n",
              "  .colab-df-quickchart {\n",
              "    background-color: var(--bg-color);\n",
              "    border: none;\n",
              "    border-radius: 50%;\n",
              "    cursor: pointer;\n",
              "    display: none;\n",
              "    fill: var(--fill-color);\n",
              "    height: 32px;\n",
              "    padding: 0;\n",
              "    width: 32px;\n",
              "  }\n",
              "\n",
              "  .colab-df-quickchart:hover {\n",
              "    background-color: var(--hover-bg-color);\n",
              "    box-shadow: 0 1px 2px rgba(60, 64, 67, 0.3), 0 1px 3px 1px rgba(60, 64, 67, 0.15);\n",
              "    fill: var(--button-hover-fill-color);\n",
              "  }\n",
              "\n",
              "  .colab-df-quickchart-complete:disabled,\n",
              "  .colab-df-quickchart-complete:disabled:hover {\n",
              "    background-color: var(--disabled-bg-color);\n",
              "    fill: var(--disabled-fill-color);\n",
              "    box-shadow: none;\n",
              "  }\n",
              "\n",
              "  .colab-df-spinner {\n",
              "    border: 2px solid var(--fill-color);\n",
              "    border-color: transparent;\n",
              "    border-bottom-color: var(--fill-color);\n",
              "    animation:\n",
              "      spin 1s steps(1) infinite;\n",
              "  }\n",
              "\n",
              "  @keyframes spin {\n",
              "    0% {\n",
              "      border-color: transparent;\n",
              "      border-bottom-color: var(--fill-color);\n",
              "      border-left-color: var(--fill-color);\n",
              "    }\n",
              "    20% {\n",
              "      border-color: transparent;\n",
              "      border-left-color: var(--fill-color);\n",
              "      border-top-color: var(--fill-color);\n",
              "    }\n",
              "    30% {\n",
              "      border-color: transparent;\n",
              "      border-left-color: var(--fill-color);\n",
              "      border-top-color: var(--fill-color);\n",
              "      border-right-color: var(--fill-color);\n",
              "    }\n",
              "    40% {\n",
              "      border-color: transparent;\n",
              "      border-right-color: var(--fill-color);\n",
              "      border-top-color: var(--fill-color);\n",
              "    }\n",
              "    60% {\n",
              "      border-color: transparent;\n",
              "      border-right-color: var(--fill-color);\n",
              "    }\n",
              "    80% {\n",
              "      border-color: transparent;\n",
              "      border-right-color: var(--fill-color);\n",
              "      border-bottom-color: var(--fill-color);\n",
              "    }\n",
              "    90% {\n",
              "      border-color: transparent;\n",
              "      border-bottom-color: var(--fill-color);\n",
              "    }\n",
              "  }\n",
              "</style>\n",
              "\n",
              "  <script>\n",
              "    async function quickchart(key) {\n",
              "      const quickchartButtonEl =\n",
              "        document.querySelector('#' + key + ' button');\n",
              "      quickchartButtonEl.disabled = true;  // To prevent multiple clicks.\n",
              "      quickchartButtonEl.classList.add('colab-df-spinner');\n",
              "      try {\n",
              "        const charts = await google.colab.kernel.invokeFunction(\n",
              "            'suggestCharts', [key], {});\n",
              "      } catch (error) {\n",
              "        console.error('Error during call to suggestCharts:', error);\n",
              "      }\n",
              "      quickchartButtonEl.classList.remove('colab-df-spinner');\n",
              "      quickchartButtonEl.classList.add('colab-df-quickchart-complete');\n",
              "    }\n",
              "    (() => {\n",
              "      let quickchartButtonEl =\n",
              "        document.querySelector('#df-1ad105ae-3db7-4ab2-a52e-efe4a6101d4a button');\n",
              "      quickchartButtonEl.style.display =\n",
              "        google.colab.kernel.accessAllowed ? 'block' : 'none';\n",
              "    })();\n",
              "  </script>\n",
              "</div>\n",
              "\n",
              "    </div>\n",
              "  </div>\n"
            ],
            "application/vnd.google.colaboratory.intrinsic+json": {
              "type": "dataframe",
              "variable_name": "dados"
            }
          },
          "metadata": {},
          "execution_count": 25
        }
      ]
    },
    {
      "cell_type": "code",
      "source": [
        "#Consultar a estrutura das tabelas\n",
        "dados.info()"
      ],
      "metadata": {
        "colab": {
          "base_uri": "https://localhost:8080/"
        },
        "id": "xOMohQFoBEh3",
        "outputId": "2849d046-17cf-4e2d-d019-dc6c0b575712",
        "collapsed": true
      },
      "execution_count": null,
      "outputs": [
        {
          "output_type": "stream",
          "name": "stdout",
          "text": [
            "<class 'pandas.core.frame.DataFrame'>\n",
            "RangeIndex: 7043 entries, 0 to 7042\n",
            "Data columns (total 49 columns):\n",
            " #   Column                             Non-Null Count  Dtype  \n",
            "---  ------                             --------------  -----  \n",
            " 0   Gender                             7043 non-null   object \n",
            " 1   Age                                7043 non-null   int64  \n",
            " 2   Under 30                           7043 non-null   object \n",
            " 3   Senior Citizen                     7043 non-null   object \n",
            " 4   Married                            7043 non-null   object \n",
            " 5   Dependents                         7043 non-null   object \n",
            " 6   Number of Dependents               7043 non-null   int64  \n",
            " 7   Country                            7043 non-null   object \n",
            " 8   State                              7043 non-null   object \n",
            " 9   City                               7043 non-null   object \n",
            " 10  Zip Code                           7043 non-null   int64  \n",
            " 11  Latitude                           7043 non-null   float64\n",
            " 12  Longitude                          7043 non-null   float64\n",
            " 13  Population                         7043 non-null   int64  \n",
            " 14  Quarter                            7043 non-null   object \n",
            " 15  Referred a Friend                  7043 non-null   object \n",
            " 16  Number of Referrals                7043 non-null   int64  \n",
            " 17  Tenure in Months                   7043 non-null   int64  \n",
            " 18  Offer                              3166 non-null   object \n",
            " 19  Phone Service                      7043 non-null   object \n",
            " 20  Avg Monthly Long Distance Charges  7043 non-null   float64\n",
            " 21  Multiple Lines                     7043 non-null   object \n",
            " 22  Internet Service                   7043 non-null   object \n",
            " 23  Internet Type                      5517 non-null   object \n",
            " 24  Avg Monthly GB Download            7043 non-null   int64  \n",
            " 25  Online Security                    7043 non-null   object \n",
            " 26  Online Backup                      7043 non-null   object \n",
            " 27  Device Protection Plan             7043 non-null   object \n",
            " 28  Premium Tech Support               7043 non-null   object \n",
            " 29  Streaming TV                       7043 non-null   object \n",
            " 30  Streaming Movies                   7043 non-null   object \n",
            " 31  Streaming Music                    7043 non-null   object \n",
            " 32  Unlimited Data                     7043 non-null   object \n",
            " 33  Contract                           7043 non-null   object \n",
            " 34  Paperless Billing                  7043 non-null   object \n",
            " 35  Payment Method                     7043 non-null   object \n",
            " 36  Monthly Charge                     7043 non-null   float64\n",
            " 37  Total Charges                      7043 non-null   float64\n",
            " 38  Total Refunds                      7043 non-null   float64\n",
            " 39  Total Extra Data Charges           7043 non-null   int64  \n",
            " 40  Total Long Distance Charges        7043 non-null   float64\n",
            " 41  Total Revenue                      7043 non-null   float64\n",
            " 42  Satisfaction Score                 7043 non-null   int64  \n",
            " 43  Customer Status                    7043 non-null   object \n",
            " 44  Churn Label                        7043 non-null   object \n",
            " 45  Churn Score                        7043 non-null   int64  \n",
            " 46  CLTV                               7043 non-null   int64  \n",
            " 47  Churn Category                     1869 non-null   object \n",
            " 48  Churn Reason                       1869 non-null   object \n",
            "dtypes: float64(8), int64(11), object(30)\n",
            "memory usage: 2.6+ MB\n"
          ]
        }
      ]
    },
    {
      "cell_type": "code",
      "source": [
        "print(dados.columns)"
      ],
      "metadata": {
        "colab": {
          "base_uri": "https://localhost:8080/"
        },
        "id": "mETMu1F7lXs_",
        "outputId": "cad6f052-9eea-4290-e082-107f2f389678"
      },
      "execution_count": null,
      "outputs": [
        {
          "output_type": "stream",
          "name": "stdout",
          "text": [
            "Index(['Customer ID', 'Gender', 'Age', 'Under 30', 'Senior Citizen', 'Married',\n",
            "       'Dependents', 'Number of Dependents', 'Country', 'State', 'City',\n",
            "       'Zip Code', 'Latitude', 'Longitude', 'Population', 'Quarter',\n",
            "       'Referred a Friend', 'Number of Referrals', 'Tenure in Months', 'Offer',\n",
            "       'Phone Service', 'Avg Monthly Long Distance Charges', 'Multiple Lines',\n",
            "       'Internet Service', 'Internet Type', 'Avg Monthly GB Download',\n",
            "       'Online Security', 'Online Backup', 'Device Protection Plan',\n",
            "       'Premium Tech Support', 'Streaming TV', 'Streaming Movies',\n",
            "       'Streaming Music', 'Unlimited Data', 'Contract', 'Paperless Billing',\n",
            "       'Payment Method', 'Monthly Charge', 'Total Charges', 'Total Refunds',\n",
            "       'Total Extra Data Charges', 'Total Long Distance Charges',\n",
            "       'Total Revenue', 'Satisfaction Score', 'Customer Status', 'Churn Label',\n",
            "       'Churn Score', 'CLTV', 'Churn Category', 'Churn Reason'],\n",
            "      dtype='object')\n"
          ]
        }
      ]
    },
    {
      "cell_type": "markdown",
      "source": [
        "#Limpeza dos Dados"
      ],
      "metadata": {
        "id": "BTpHS2Zq8R_G"
      }
    },
    {
      "cell_type": "code",
      "source": [
        "# Verificar se há valores ausentes\n",
        "dados.isnull().sum()"
      ],
      "metadata": {
        "colab": {
          "base_uri": "https://localhost:8080/",
          "height": 1000
        },
        "collapsed": true,
        "id": "d8465ZEB8VDd",
        "outputId": "201f11fe-e3ef-4710-dd0a-8e59fed423da"
      },
      "execution_count": null,
      "outputs": [
        {
          "output_type": "execute_result",
          "data": {
            "text/plain": [
              "Gender                                  0\n",
              "Age                                     0\n",
              "Under 30                                0\n",
              "Senior Citizen                          0\n",
              "Married                                 0\n",
              "Dependents                              0\n",
              "Number of Dependents                    0\n",
              "Country                                 0\n",
              "State                                   0\n",
              "City                                    0\n",
              "Zip Code                                0\n",
              "Latitude                                0\n",
              "Longitude                               0\n",
              "Population                              0\n",
              "Quarter                                 0\n",
              "Referred a Friend                       0\n",
              "Number of Referrals                     0\n",
              "Tenure in Months                        0\n",
              "Offer                                3877\n",
              "Phone Service                           0\n",
              "Avg Monthly Long Distance Charges       0\n",
              "Multiple Lines                          0\n",
              "Internet Service                        0\n",
              "Internet Type                        1526\n",
              "Avg Monthly GB Download                 0\n",
              "Online Security                         0\n",
              "Online Backup                           0\n",
              "Device Protection Plan                  0\n",
              "Premium Tech Support                    0\n",
              "Streaming TV                            0\n",
              "Streaming Movies                        0\n",
              "Streaming Music                         0\n",
              "Unlimited Data                          0\n",
              "Contract                                0\n",
              "Paperless Billing                       0\n",
              "Payment Method                          0\n",
              "Monthly Charge                          0\n",
              "Total Charges                           0\n",
              "Total Refunds                           0\n",
              "Total Extra Data Charges                0\n",
              "Total Long Distance Charges             0\n",
              "Total Revenue                           0\n",
              "Satisfaction Score                      0\n",
              "Customer Status                         0\n",
              "Churn Label                             0\n",
              "Churn Score                             0\n",
              "CLTV                                    0\n",
              "Churn Category                       5174\n",
              "Churn Reason                         5174\n",
              "dtype: int64"
            ],
            "text/html": [
              "<div>\n",
              "<style scoped>\n",
              "    .dataframe tbody tr th:only-of-type {\n",
              "        vertical-align: middle;\n",
              "    }\n",
              "\n",
              "    .dataframe tbody tr th {\n",
              "        vertical-align: top;\n",
              "    }\n",
              "\n",
              "    .dataframe thead th {\n",
              "        text-align: right;\n",
              "    }\n",
              "</style>\n",
              "<table border=\"1\" class=\"dataframe\">\n",
              "  <thead>\n",
              "    <tr style=\"text-align: right;\">\n",
              "      <th></th>\n",
              "      <th>0</th>\n",
              "    </tr>\n",
              "  </thead>\n",
              "  <tbody>\n",
              "    <tr>\n",
              "      <th>Gender</th>\n",
              "      <td>0</td>\n",
              "    </tr>\n",
              "    <tr>\n",
              "      <th>Age</th>\n",
              "      <td>0</td>\n",
              "    </tr>\n",
              "    <tr>\n",
              "      <th>Under 30</th>\n",
              "      <td>0</td>\n",
              "    </tr>\n",
              "    <tr>\n",
              "      <th>Senior Citizen</th>\n",
              "      <td>0</td>\n",
              "    </tr>\n",
              "    <tr>\n",
              "      <th>Married</th>\n",
              "      <td>0</td>\n",
              "    </tr>\n",
              "    <tr>\n",
              "      <th>Dependents</th>\n",
              "      <td>0</td>\n",
              "    </tr>\n",
              "    <tr>\n",
              "      <th>Number of Dependents</th>\n",
              "      <td>0</td>\n",
              "    </tr>\n",
              "    <tr>\n",
              "      <th>Country</th>\n",
              "      <td>0</td>\n",
              "    </tr>\n",
              "    <tr>\n",
              "      <th>State</th>\n",
              "      <td>0</td>\n",
              "    </tr>\n",
              "    <tr>\n",
              "      <th>City</th>\n",
              "      <td>0</td>\n",
              "    </tr>\n",
              "    <tr>\n",
              "      <th>Zip Code</th>\n",
              "      <td>0</td>\n",
              "    </tr>\n",
              "    <tr>\n",
              "      <th>Latitude</th>\n",
              "      <td>0</td>\n",
              "    </tr>\n",
              "    <tr>\n",
              "      <th>Longitude</th>\n",
              "      <td>0</td>\n",
              "    </tr>\n",
              "    <tr>\n",
              "      <th>Population</th>\n",
              "      <td>0</td>\n",
              "    </tr>\n",
              "    <tr>\n",
              "      <th>Quarter</th>\n",
              "      <td>0</td>\n",
              "    </tr>\n",
              "    <tr>\n",
              "      <th>Referred a Friend</th>\n",
              "      <td>0</td>\n",
              "    </tr>\n",
              "    <tr>\n",
              "      <th>Number of Referrals</th>\n",
              "      <td>0</td>\n",
              "    </tr>\n",
              "    <tr>\n",
              "      <th>Tenure in Months</th>\n",
              "      <td>0</td>\n",
              "    </tr>\n",
              "    <tr>\n",
              "      <th>Offer</th>\n",
              "      <td>3877</td>\n",
              "    </tr>\n",
              "    <tr>\n",
              "      <th>Phone Service</th>\n",
              "      <td>0</td>\n",
              "    </tr>\n",
              "    <tr>\n",
              "      <th>Avg Monthly Long Distance Charges</th>\n",
              "      <td>0</td>\n",
              "    </tr>\n",
              "    <tr>\n",
              "      <th>Multiple Lines</th>\n",
              "      <td>0</td>\n",
              "    </tr>\n",
              "    <tr>\n",
              "      <th>Internet Service</th>\n",
              "      <td>0</td>\n",
              "    </tr>\n",
              "    <tr>\n",
              "      <th>Internet Type</th>\n",
              "      <td>1526</td>\n",
              "    </tr>\n",
              "    <tr>\n",
              "      <th>Avg Monthly GB Download</th>\n",
              "      <td>0</td>\n",
              "    </tr>\n",
              "    <tr>\n",
              "      <th>Online Security</th>\n",
              "      <td>0</td>\n",
              "    </tr>\n",
              "    <tr>\n",
              "      <th>Online Backup</th>\n",
              "      <td>0</td>\n",
              "    </tr>\n",
              "    <tr>\n",
              "      <th>Device Protection Plan</th>\n",
              "      <td>0</td>\n",
              "    </tr>\n",
              "    <tr>\n",
              "      <th>Premium Tech Support</th>\n",
              "      <td>0</td>\n",
              "    </tr>\n",
              "    <tr>\n",
              "      <th>Streaming TV</th>\n",
              "      <td>0</td>\n",
              "    </tr>\n",
              "    <tr>\n",
              "      <th>Streaming Movies</th>\n",
              "      <td>0</td>\n",
              "    </tr>\n",
              "    <tr>\n",
              "      <th>Streaming Music</th>\n",
              "      <td>0</td>\n",
              "    </tr>\n",
              "    <tr>\n",
              "      <th>Unlimited Data</th>\n",
              "      <td>0</td>\n",
              "    </tr>\n",
              "    <tr>\n",
              "      <th>Contract</th>\n",
              "      <td>0</td>\n",
              "    </tr>\n",
              "    <tr>\n",
              "      <th>Paperless Billing</th>\n",
              "      <td>0</td>\n",
              "    </tr>\n",
              "    <tr>\n",
              "      <th>Payment Method</th>\n",
              "      <td>0</td>\n",
              "    </tr>\n",
              "    <tr>\n",
              "      <th>Monthly Charge</th>\n",
              "      <td>0</td>\n",
              "    </tr>\n",
              "    <tr>\n",
              "      <th>Total Charges</th>\n",
              "      <td>0</td>\n",
              "    </tr>\n",
              "    <tr>\n",
              "      <th>Total Refunds</th>\n",
              "      <td>0</td>\n",
              "    </tr>\n",
              "    <tr>\n",
              "      <th>Total Extra Data Charges</th>\n",
              "      <td>0</td>\n",
              "    </tr>\n",
              "    <tr>\n",
              "      <th>Total Long Distance Charges</th>\n",
              "      <td>0</td>\n",
              "    </tr>\n",
              "    <tr>\n",
              "      <th>Total Revenue</th>\n",
              "      <td>0</td>\n",
              "    </tr>\n",
              "    <tr>\n",
              "      <th>Satisfaction Score</th>\n",
              "      <td>0</td>\n",
              "    </tr>\n",
              "    <tr>\n",
              "      <th>Customer Status</th>\n",
              "      <td>0</td>\n",
              "    </tr>\n",
              "    <tr>\n",
              "      <th>Churn Label</th>\n",
              "      <td>0</td>\n",
              "    </tr>\n",
              "    <tr>\n",
              "      <th>Churn Score</th>\n",
              "      <td>0</td>\n",
              "    </tr>\n",
              "    <tr>\n",
              "      <th>CLTV</th>\n",
              "      <td>0</td>\n",
              "    </tr>\n",
              "    <tr>\n",
              "      <th>Churn Category</th>\n",
              "      <td>5174</td>\n",
              "    </tr>\n",
              "    <tr>\n",
              "      <th>Churn Reason</th>\n",
              "      <td>5174</td>\n",
              "    </tr>\n",
              "  </tbody>\n",
              "</table>\n",
              "</div><br><label><b>dtype:</b> int64</label>"
            ]
          },
          "metadata": {},
          "execution_count": 116
        }
      ]
    },
    {
      "cell_type": "code",
      "source": [
        "# Verificar valores duplicados\n",
        "dados.duplicated().sum()"
      ],
      "metadata": {
        "colab": {
          "base_uri": "https://localhost:8080/"
        },
        "id": "8Yblhqfa9uDf",
        "outputId": "762cc7a6-a65e-435c-bf86-878b126277e5"
      },
      "execution_count": null,
      "outputs": [
        {
          "output_type": "execute_result",
          "data": {
            "text/plain": [
              "0"
            ]
          },
          "metadata": {},
          "execution_count": 33
        }
      ]
    },
    {
      "cell_type": "code",
      "source": [
        "# Remover valores duplicados, se existirem\n",
        "dados.drop_duplicates(inplace=True)"
      ],
      "metadata": {
        "id": "56v3PAYQ90FZ"
      },
      "execution_count": null,
      "outputs": []
    },
    {
      "cell_type": "code",
      "source": [
        "# Resumo estatístico dos dados\n",
        "dados.describe()"
      ],
      "metadata": {
        "colab": {
          "base_uri": "https://localhost:8080/",
          "height": 390
        },
        "id": "45ZG4FYd93DP",
        "outputId": "901d07c2-c7b8-4c7f-daca-bb76e71e4c92"
      },
      "execution_count": null,
      "outputs": [
        {
          "output_type": "execute_result",
          "data": {
            "text/plain": [
              "               Age  Number of Dependents      Zip Code     Latitude  \\\n",
              "count  7043.000000           7043.000000   7043.000000  7043.000000   \n",
              "mean     46.509726              0.468692  93486.070567    36.197455   \n",
              "std      16.750352              0.962802   1856.767505     2.468929   \n",
              "min      19.000000              0.000000  90001.000000    32.555828   \n",
              "25%      32.000000              0.000000  92101.000000    33.990646   \n",
              "50%      46.000000              0.000000  93518.000000    36.205465   \n",
              "75%      60.000000              0.000000  95329.000000    38.161321   \n",
              "max      80.000000              9.000000  96150.000000    41.962127   \n",
              "\n",
              "         Longitude     Population  Number of Referrals  Tenure in Months  \\\n",
              "count  7043.000000    7043.000000          7043.000000       7043.000000   \n",
              "mean   -119.756684   22139.603294             1.951867         32.386767   \n",
              "std       2.154425   21152.392837             3.001199         24.542061   \n",
              "min    -124.301372      11.000000             0.000000          1.000000   \n",
              "25%    -121.788090    2344.000000             0.000000          9.000000   \n",
              "50%    -119.595293   17554.000000             0.000000         29.000000   \n",
              "75%    -117.969795   36125.000000             3.000000         55.000000   \n",
              "max    -114.192901  105285.000000            11.000000         72.000000   \n",
              "\n",
              "       Avg Monthly Long Distance Charges  Avg Monthly GB Download  \\\n",
              "count                        7043.000000              7043.000000   \n",
              "mean                           22.958954                20.515405   \n",
              "std                            15.448113                20.418940   \n",
              "min                             0.000000                 0.000000   \n",
              "25%                             9.210000                 3.000000   \n",
              "50%                            22.890000                17.000000   \n",
              "75%                            36.395000                27.000000   \n",
              "max                            49.990000                85.000000   \n",
              "\n",
              "       Monthly Charge  Total Charges  Total Refunds  Total Extra Data Charges  \\\n",
              "count     7043.000000    7043.000000    7043.000000               7043.000000   \n",
              "mean        64.761692    2280.381264       1.962182                  6.860713   \n",
              "std         30.090047    2266.220462       7.902614                 25.104978   \n",
              "min         18.250000      18.800000       0.000000                  0.000000   \n",
              "25%         35.500000     400.150000       0.000000                  0.000000   \n",
              "50%         70.350000    1394.550000       0.000000                  0.000000   \n",
              "75%         89.850000    3786.600000       0.000000                  0.000000   \n",
              "max        118.750000    8684.800000      49.790000                150.000000   \n",
              "\n",
              "       Total Long Distance Charges  Total Revenue  Satisfaction Score  \\\n",
              "count                  7043.000000    7043.000000         7043.000000   \n",
              "mean                    749.099262    3034.379056            3.244924   \n",
              "std                     846.660055    2865.204542            1.201657   \n",
              "min                       0.000000      21.360000            1.000000   \n",
              "25%                      70.545000     605.610000            3.000000   \n",
              "50%                     401.440000    2108.640000            3.000000   \n",
              "75%                    1191.100000    4801.145000            4.000000   \n",
              "max                    3564.720000   11979.340000            5.000000   \n",
              "\n",
              "       Churn Score         CLTV  \n",
              "count  7043.000000  7043.000000  \n",
              "mean     58.505040  4400.295755  \n",
              "std      21.170031  1183.057152  \n",
              "min       5.000000  2003.000000  \n",
              "25%      40.000000  3469.000000  \n",
              "50%      61.000000  4527.000000  \n",
              "75%      75.500000  5380.500000  \n",
              "max      96.000000  6500.000000  "
            ],
            "text/html": [
              "\n",
              "  <div id=\"df-c041de40-57be-4fe9-b02f-ba97ea556d22\" class=\"colab-df-container\">\n",
              "    <div>\n",
              "<style scoped>\n",
              "    .dataframe tbody tr th:only-of-type {\n",
              "        vertical-align: middle;\n",
              "    }\n",
              "\n",
              "    .dataframe tbody tr th {\n",
              "        vertical-align: top;\n",
              "    }\n",
              "\n",
              "    .dataframe thead th {\n",
              "        text-align: right;\n",
              "    }\n",
              "</style>\n",
              "<table border=\"1\" class=\"dataframe\">\n",
              "  <thead>\n",
              "    <tr style=\"text-align: right;\">\n",
              "      <th></th>\n",
              "      <th>Age</th>\n",
              "      <th>Number of Dependents</th>\n",
              "      <th>Zip Code</th>\n",
              "      <th>Latitude</th>\n",
              "      <th>Longitude</th>\n",
              "      <th>Population</th>\n",
              "      <th>Number of Referrals</th>\n",
              "      <th>Tenure in Months</th>\n",
              "      <th>Avg Monthly Long Distance Charges</th>\n",
              "      <th>Avg Monthly GB Download</th>\n",
              "      <th>Monthly Charge</th>\n",
              "      <th>Total Charges</th>\n",
              "      <th>Total Refunds</th>\n",
              "      <th>Total Extra Data Charges</th>\n",
              "      <th>Total Long Distance Charges</th>\n",
              "      <th>Total Revenue</th>\n",
              "      <th>Satisfaction Score</th>\n",
              "      <th>Churn Score</th>\n",
              "      <th>CLTV</th>\n",
              "    </tr>\n",
              "  </thead>\n",
              "  <tbody>\n",
              "    <tr>\n",
              "      <th>count</th>\n",
              "      <td>7043.000000</td>\n",
              "      <td>7043.000000</td>\n",
              "      <td>7043.000000</td>\n",
              "      <td>7043.000000</td>\n",
              "      <td>7043.000000</td>\n",
              "      <td>7043.000000</td>\n",
              "      <td>7043.000000</td>\n",
              "      <td>7043.000000</td>\n",
              "      <td>7043.000000</td>\n",
              "      <td>7043.000000</td>\n",
              "      <td>7043.000000</td>\n",
              "      <td>7043.000000</td>\n",
              "      <td>7043.000000</td>\n",
              "      <td>7043.000000</td>\n",
              "      <td>7043.000000</td>\n",
              "      <td>7043.000000</td>\n",
              "      <td>7043.000000</td>\n",
              "      <td>7043.000000</td>\n",
              "      <td>7043.000000</td>\n",
              "    </tr>\n",
              "    <tr>\n",
              "      <th>mean</th>\n",
              "      <td>46.509726</td>\n",
              "      <td>0.468692</td>\n",
              "      <td>93486.070567</td>\n",
              "      <td>36.197455</td>\n",
              "      <td>-119.756684</td>\n",
              "      <td>22139.603294</td>\n",
              "      <td>1.951867</td>\n",
              "      <td>32.386767</td>\n",
              "      <td>22.958954</td>\n",
              "      <td>20.515405</td>\n",
              "      <td>64.761692</td>\n",
              "      <td>2280.381264</td>\n",
              "      <td>1.962182</td>\n",
              "      <td>6.860713</td>\n",
              "      <td>749.099262</td>\n",
              "      <td>3034.379056</td>\n",
              "      <td>3.244924</td>\n",
              "      <td>58.505040</td>\n",
              "      <td>4400.295755</td>\n",
              "    </tr>\n",
              "    <tr>\n",
              "      <th>std</th>\n",
              "      <td>16.750352</td>\n",
              "      <td>0.962802</td>\n",
              "      <td>1856.767505</td>\n",
              "      <td>2.468929</td>\n",
              "      <td>2.154425</td>\n",
              "      <td>21152.392837</td>\n",
              "      <td>3.001199</td>\n",
              "      <td>24.542061</td>\n",
              "      <td>15.448113</td>\n",
              "      <td>20.418940</td>\n",
              "      <td>30.090047</td>\n",
              "      <td>2266.220462</td>\n",
              "      <td>7.902614</td>\n",
              "      <td>25.104978</td>\n",
              "      <td>846.660055</td>\n",
              "      <td>2865.204542</td>\n",
              "      <td>1.201657</td>\n",
              "      <td>21.170031</td>\n",
              "      <td>1183.057152</td>\n",
              "    </tr>\n",
              "    <tr>\n",
              "      <th>min</th>\n",
              "      <td>19.000000</td>\n",
              "      <td>0.000000</td>\n",
              "      <td>90001.000000</td>\n",
              "      <td>32.555828</td>\n",
              "      <td>-124.301372</td>\n",
              "      <td>11.000000</td>\n",
              "      <td>0.000000</td>\n",
              "      <td>1.000000</td>\n",
              "      <td>0.000000</td>\n",
              "      <td>0.000000</td>\n",
              "      <td>18.250000</td>\n",
              "      <td>18.800000</td>\n",
              "      <td>0.000000</td>\n",
              "      <td>0.000000</td>\n",
              "      <td>0.000000</td>\n",
              "      <td>21.360000</td>\n",
              "      <td>1.000000</td>\n",
              "      <td>5.000000</td>\n",
              "      <td>2003.000000</td>\n",
              "    </tr>\n",
              "    <tr>\n",
              "      <th>25%</th>\n",
              "      <td>32.000000</td>\n",
              "      <td>0.000000</td>\n",
              "      <td>92101.000000</td>\n",
              "      <td>33.990646</td>\n",
              "      <td>-121.788090</td>\n",
              "      <td>2344.000000</td>\n",
              "      <td>0.000000</td>\n",
              "      <td>9.000000</td>\n",
              "      <td>9.210000</td>\n",
              "      <td>3.000000</td>\n",
              "      <td>35.500000</td>\n",
              "      <td>400.150000</td>\n",
              "      <td>0.000000</td>\n",
              "      <td>0.000000</td>\n",
              "      <td>70.545000</td>\n",
              "      <td>605.610000</td>\n",
              "      <td>3.000000</td>\n",
              "      <td>40.000000</td>\n",
              "      <td>3469.000000</td>\n",
              "    </tr>\n",
              "    <tr>\n",
              "      <th>50%</th>\n",
              "      <td>46.000000</td>\n",
              "      <td>0.000000</td>\n",
              "      <td>93518.000000</td>\n",
              "      <td>36.205465</td>\n",
              "      <td>-119.595293</td>\n",
              "      <td>17554.000000</td>\n",
              "      <td>0.000000</td>\n",
              "      <td>29.000000</td>\n",
              "      <td>22.890000</td>\n",
              "      <td>17.000000</td>\n",
              "      <td>70.350000</td>\n",
              "      <td>1394.550000</td>\n",
              "      <td>0.000000</td>\n",
              "      <td>0.000000</td>\n",
              "      <td>401.440000</td>\n",
              "      <td>2108.640000</td>\n",
              "      <td>3.000000</td>\n",
              "      <td>61.000000</td>\n",
              "      <td>4527.000000</td>\n",
              "    </tr>\n",
              "    <tr>\n",
              "      <th>75%</th>\n",
              "      <td>60.000000</td>\n",
              "      <td>0.000000</td>\n",
              "      <td>95329.000000</td>\n",
              "      <td>38.161321</td>\n",
              "      <td>-117.969795</td>\n",
              "      <td>36125.000000</td>\n",
              "      <td>3.000000</td>\n",
              "      <td>55.000000</td>\n",
              "      <td>36.395000</td>\n",
              "      <td>27.000000</td>\n",
              "      <td>89.850000</td>\n",
              "      <td>3786.600000</td>\n",
              "      <td>0.000000</td>\n",
              "      <td>0.000000</td>\n",
              "      <td>1191.100000</td>\n",
              "      <td>4801.145000</td>\n",
              "      <td>4.000000</td>\n",
              "      <td>75.500000</td>\n",
              "      <td>5380.500000</td>\n",
              "    </tr>\n",
              "    <tr>\n",
              "      <th>max</th>\n",
              "      <td>80.000000</td>\n",
              "      <td>9.000000</td>\n",
              "      <td>96150.000000</td>\n",
              "      <td>41.962127</td>\n",
              "      <td>-114.192901</td>\n",
              "      <td>105285.000000</td>\n",
              "      <td>11.000000</td>\n",
              "      <td>72.000000</td>\n",
              "      <td>49.990000</td>\n",
              "      <td>85.000000</td>\n",
              "      <td>118.750000</td>\n",
              "      <td>8684.800000</td>\n",
              "      <td>49.790000</td>\n",
              "      <td>150.000000</td>\n",
              "      <td>3564.720000</td>\n",
              "      <td>11979.340000</td>\n",
              "      <td>5.000000</td>\n",
              "      <td>96.000000</td>\n",
              "      <td>6500.000000</td>\n",
              "    </tr>\n",
              "  </tbody>\n",
              "</table>\n",
              "</div>\n",
              "    <div class=\"colab-df-buttons\">\n",
              "\n",
              "  <div class=\"colab-df-container\">\n",
              "    <button class=\"colab-df-convert\" onclick=\"convertToInteractive('df-c041de40-57be-4fe9-b02f-ba97ea556d22')\"\n",
              "            title=\"Convert this dataframe to an interactive table.\"\n",
              "            style=\"display:none;\">\n",
              "\n",
              "  <svg xmlns=\"http://www.w3.org/2000/svg\" height=\"24px\" viewBox=\"0 -960 960 960\">\n",
              "    <path d=\"M120-120v-720h720v720H120Zm60-500h600v-160H180v160Zm220 220h160v-160H400v160Zm0 220h160v-160H400v160ZM180-400h160v-160H180v160Zm440 0h160v-160H620v160ZM180-180h160v-160H180v160Zm440 0h160v-160H620v160Z\"/>\n",
              "  </svg>\n",
              "    </button>\n",
              "\n",
              "  <style>\n",
              "    .colab-df-container {\n",
              "      display:flex;\n",
              "      gap: 12px;\n",
              "    }\n",
              "\n",
              "    .colab-df-convert {\n",
              "      background-color: #E8F0FE;\n",
              "      border: none;\n",
              "      border-radius: 50%;\n",
              "      cursor: pointer;\n",
              "      display: none;\n",
              "      fill: #1967D2;\n",
              "      height: 32px;\n",
              "      padding: 0 0 0 0;\n",
              "      width: 32px;\n",
              "    }\n",
              "\n",
              "    .colab-df-convert:hover {\n",
              "      background-color: #E2EBFA;\n",
              "      box-shadow: 0px 1px 2px rgba(60, 64, 67, 0.3), 0px 1px 3px 1px rgba(60, 64, 67, 0.15);\n",
              "      fill: #174EA6;\n",
              "    }\n",
              "\n",
              "    .colab-df-buttons div {\n",
              "      margin-bottom: 4px;\n",
              "    }\n",
              "\n",
              "    [theme=dark] .colab-df-convert {\n",
              "      background-color: #3B4455;\n",
              "      fill: #D2E3FC;\n",
              "    }\n",
              "\n",
              "    [theme=dark] .colab-df-convert:hover {\n",
              "      background-color: #434B5C;\n",
              "      box-shadow: 0px 1px 3px 1px rgba(0, 0, 0, 0.15);\n",
              "      filter: drop-shadow(0px 1px 2px rgba(0, 0, 0, 0.3));\n",
              "      fill: #FFFFFF;\n",
              "    }\n",
              "  </style>\n",
              "\n",
              "    <script>\n",
              "      const buttonEl =\n",
              "        document.querySelector('#df-c041de40-57be-4fe9-b02f-ba97ea556d22 button.colab-df-convert');\n",
              "      buttonEl.style.display =\n",
              "        google.colab.kernel.accessAllowed ? 'block' : 'none';\n",
              "\n",
              "      async function convertToInteractive(key) {\n",
              "        const element = document.querySelector('#df-c041de40-57be-4fe9-b02f-ba97ea556d22');\n",
              "        const dataTable =\n",
              "          await google.colab.kernel.invokeFunction('convertToInteractive',\n",
              "                                                    [key], {});\n",
              "        if (!dataTable) return;\n",
              "\n",
              "        const docLinkHtml = 'Like what you see? Visit the ' +\n",
              "          '<a target=\"_blank\" href=https://colab.research.google.com/notebooks/data_table.ipynb>data table notebook</a>'\n",
              "          + ' to learn more about interactive tables.';\n",
              "        element.innerHTML = '';\n",
              "        dataTable['output_type'] = 'display_data';\n",
              "        await google.colab.output.renderOutput(dataTable, element);\n",
              "        const docLink = document.createElement('div');\n",
              "        docLink.innerHTML = docLinkHtml;\n",
              "        element.appendChild(docLink);\n",
              "      }\n",
              "    </script>\n",
              "  </div>\n",
              "\n",
              "\n",
              "<div id=\"df-c5515f84-c117-49ca-a778-842e5796dd9b\">\n",
              "  <button class=\"colab-df-quickchart\" onclick=\"quickchart('df-c5515f84-c117-49ca-a778-842e5796dd9b')\"\n",
              "            title=\"Suggest charts\"\n",
              "            style=\"display:none;\">\n",
              "\n",
              "<svg xmlns=\"http://www.w3.org/2000/svg\" height=\"24px\"viewBox=\"0 0 24 24\"\n",
              "     width=\"24px\">\n",
              "    <g>\n",
              "        <path d=\"M19 3H5c-1.1 0-2 .9-2 2v14c0 1.1.9 2 2 2h14c1.1 0 2-.9 2-2V5c0-1.1-.9-2-2-2zM9 17H7v-7h2v7zm4 0h-2V7h2v10zm4 0h-2v-4h2v4z\"/>\n",
              "    </g>\n",
              "</svg>\n",
              "  </button>\n",
              "\n",
              "<style>\n",
              "  .colab-df-quickchart {\n",
              "      --bg-color: #E8F0FE;\n",
              "      --fill-color: #1967D2;\n",
              "      --hover-bg-color: #E2EBFA;\n",
              "      --hover-fill-color: #174EA6;\n",
              "      --disabled-fill-color: #AAA;\n",
              "      --disabled-bg-color: #DDD;\n",
              "  }\n",
              "\n",
              "  [theme=dark] .colab-df-quickchart {\n",
              "      --bg-color: #3B4455;\n",
              "      --fill-color: #D2E3FC;\n",
              "      --hover-bg-color: #434B5C;\n",
              "      --hover-fill-color: #FFFFFF;\n",
              "      --disabled-bg-color: #3B4455;\n",
              "      --disabled-fill-color: #666;\n",
              "  }\n",
              "\n",
              "  .colab-df-quickchart {\n",
              "    background-color: var(--bg-color);\n",
              "    border: none;\n",
              "    border-radius: 50%;\n",
              "    cursor: pointer;\n",
              "    display: none;\n",
              "    fill: var(--fill-color);\n",
              "    height: 32px;\n",
              "    padding: 0;\n",
              "    width: 32px;\n",
              "  }\n",
              "\n",
              "  .colab-df-quickchart:hover {\n",
              "    background-color: var(--hover-bg-color);\n",
              "    box-shadow: 0 1px 2px rgba(60, 64, 67, 0.3), 0 1px 3px 1px rgba(60, 64, 67, 0.15);\n",
              "    fill: var(--button-hover-fill-color);\n",
              "  }\n",
              "\n",
              "  .colab-df-quickchart-complete:disabled,\n",
              "  .colab-df-quickchart-complete:disabled:hover {\n",
              "    background-color: var(--disabled-bg-color);\n",
              "    fill: var(--disabled-fill-color);\n",
              "    box-shadow: none;\n",
              "  }\n",
              "\n",
              "  .colab-df-spinner {\n",
              "    border: 2px solid var(--fill-color);\n",
              "    border-color: transparent;\n",
              "    border-bottom-color: var(--fill-color);\n",
              "    animation:\n",
              "      spin 1s steps(1) infinite;\n",
              "  }\n",
              "\n",
              "  @keyframes spin {\n",
              "    0% {\n",
              "      border-color: transparent;\n",
              "      border-bottom-color: var(--fill-color);\n",
              "      border-left-color: var(--fill-color);\n",
              "    }\n",
              "    20% {\n",
              "      border-color: transparent;\n",
              "      border-left-color: var(--fill-color);\n",
              "      border-top-color: var(--fill-color);\n",
              "    }\n",
              "    30% {\n",
              "      border-color: transparent;\n",
              "      border-left-color: var(--fill-color);\n",
              "      border-top-color: var(--fill-color);\n",
              "      border-right-color: var(--fill-color);\n",
              "    }\n",
              "    40% {\n",
              "      border-color: transparent;\n",
              "      border-right-color: var(--fill-color);\n",
              "      border-top-color: var(--fill-color);\n",
              "    }\n",
              "    60% {\n",
              "      border-color: transparent;\n",
              "      border-right-color: var(--fill-color);\n",
              "    }\n",
              "    80% {\n",
              "      border-color: transparent;\n",
              "      border-right-color: var(--fill-color);\n",
              "      border-bottom-color: var(--fill-color);\n",
              "    }\n",
              "    90% {\n",
              "      border-color: transparent;\n",
              "      border-bottom-color: var(--fill-color);\n",
              "    }\n",
              "  }\n",
              "</style>\n",
              "\n",
              "  <script>\n",
              "    async function quickchart(key) {\n",
              "      const quickchartButtonEl =\n",
              "        document.querySelector('#' + key + ' button');\n",
              "      quickchartButtonEl.disabled = true;  // To prevent multiple clicks.\n",
              "      quickchartButtonEl.classList.add('colab-df-spinner');\n",
              "      try {\n",
              "        const charts = await google.colab.kernel.invokeFunction(\n",
              "            'suggestCharts', [key], {});\n",
              "      } catch (error) {\n",
              "        console.error('Error during call to suggestCharts:', error);\n",
              "      }\n",
              "      quickchartButtonEl.classList.remove('colab-df-spinner');\n",
              "      quickchartButtonEl.classList.add('colab-df-quickchart-complete');\n",
              "    }\n",
              "    (() => {\n",
              "      let quickchartButtonEl =\n",
              "        document.querySelector('#df-c5515f84-c117-49ca-a778-842e5796dd9b button');\n",
              "      quickchartButtonEl.style.display =\n",
              "        google.colab.kernel.accessAllowed ? 'block' : 'none';\n",
              "    })();\n",
              "  </script>\n",
              "</div>\n",
              "\n",
              "    </div>\n",
              "  </div>\n"
            ],
            "application/vnd.google.colaboratory.intrinsic+json": {
              "type": "dataframe",
              "summary": "{\n  \"name\": \"dados\",\n  \"rows\": 8,\n  \"fields\": [\n    {\n      \"column\": \"Age\",\n      \"properties\": {\n        \"dtype\": \"number\",\n        \"std\": 2474.9995716575877,\n        \"min\": 16.750351655102676,\n        \"max\": 7043.0,\n        \"num_unique_values\": 8,\n        \"samples\": [\n          46.50972596904728,\n          46.0,\n          7043.0\n        ],\n        \"semantic_type\": \"\",\n        \"description\": \"\"\n      }\n    },\n    {\n      \"column\": \"Number of Dependents\",\n      \"properties\": {\n        \"dtype\": \"number\",\n        \"std\": 2489.551570811667,\n        \"min\": 0.0,\n        \"max\": 7043.0,\n        \"num_unique_values\": 5,\n        \"samples\": [\n          0.4686923186142269,\n          9.0,\n          0.9628019509440507\n        ],\n        \"semantic_type\": \"\",\n        \"description\": \"\"\n      }\n    },\n    {\n      \"column\": \"Zip Code\",\n      \"properties\": {\n        \"dtype\": \"number\",\n        \"std\": 41256.00474449191,\n        \"min\": 1856.7675051805213,\n        \"max\": 96150.0,\n        \"num_unique_values\": 8,\n        \"samples\": [\n          93486.07056651995,\n          93518.0,\n          7043.0\n        ],\n        \"semantic_type\": \"\",\n        \"description\": \"\"\n      }\n    },\n    {\n      \"column\": \"Latitude\",\n      \"properties\": {\n        \"dtype\": \"number\",\n        \"std\": 2478.9171785736203,\n        \"min\": 2.4689286815852927,\n        \"max\": 7043.0,\n        \"num_unique_values\": 8,\n        \"samples\": [\n          36.19745482180889,\n          36.205465,\n          7043.0\n        ],\n        \"semantic_type\": \"\",\n        \"description\": \"\"\n      }\n    },\n    {\n      \"column\": \"Longitude\",\n      \"properties\": {\n        \"dtype\": \"number\",\n        \"std\": 2526.573111529776,\n        \"min\": -124.301372,\n        \"max\": 7043.0,\n        \"num_unique_values\": 8,\n        \"samples\": [\n          -119.75668367414455,\n          -119.595293,\n          7043.0\n        ],\n        \"semantic_type\": \"\",\n        \"description\": \"\"\n      }\n    },\n    {\n      \"column\": \"Population\",\n      \"properties\": {\n        \"dtype\": \"number\",\n        \"std\": 33998.10303314704,\n        \"min\": 11.0,\n        \"max\": 105285.0,\n        \"num_unique_values\": 8,\n        \"samples\": [\n          22139.60329405083,\n          17554.0,\n          7043.0\n        ],\n        \"semantic_type\": \"\",\n        \"description\": \"\"\n      }\n    },\n    {\n      \"column\": \"Number of Referrals\",\n      \"properties\": {\n        \"dtype\": \"number\",\n        \"std\": 2489.1218812486118,\n        \"min\": 0.0,\n        \"max\": 7043.0,\n        \"num_unique_values\": 6,\n        \"samples\": [\n          7043.0,\n          1.9518671020871787,\n          11.0\n        ],\n        \"semantic_type\": \"\",\n        \"description\": \"\"\n      }\n    },\n    {\n      \"column\": \"Tenure in Months\",\n      \"properties\": {\n        \"dtype\": \"number\",\n        \"std\": 2478.9230668265936,\n        \"min\": 1.0,\n        \"max\": 7043.0,\n        \"num_unique_values\": 8,\n        \"samples\": [\n          32.38676700269772,\n          29.0,\n          7043.0\n        ],\n        \"semantic_type\": \"\",\n        \"description\": \"\"\n      }\n    },\n    {\n      \"column\": \"Avg Monthly Long Distance Charges\",\n      \"properties\": {\n        \"dtype\": \"number\",\n        \"std\": 2482.2006770540856,\n        \"min\": 0.0,\n        \"max\": 7043.0,\n        \"num_unique_values\": 8,\n        \"samples\": [\n          22.958953570921484,\n          22.89,\n          7043.0\n        ],\n        \"semantic_type\": \"\",\n        \"description\": \"\"\n      }\n    },\n    {\n      \"column\": \"Avg Monthly GB Download\",\n      \"properties\": {\n        \"dtype\": \"number\",\n        \"std\": 2481.480700097526,\n        \"min\": 0.0,\n        \"max\": 7043.0,\n        \"num_unique_values\": 8,\n        \"samples\": [\n          20.515405367031093,\n          17.0,\n          7043.0\n        ],\n        \"semantic_type\": \"\",\n        \"description\": \"\"\n      }\n    },\n    {\n      \"column\": \"Monthly Charge\",\n      \"properties\": {\n        \"dtype\": \"number\",\n        \"std\": 2468.7047672837775,\n        \"min\": 18.25,\n        \"max\": 7043.0,\n        \"num_unique_values\": 8,\n        \"samples\": [\n          64.76169246059918,\n          70.35,\n          7043.0\n        ],\n        \"semantic_type\": \"\",\n        \"description\": \"\"\n      }\n    },\n    {\n      \"column\": \"Total Charges\",\n      \"properties\": {\n        \"dtype\": \"number\",\n        \"std\": 3119.588954408798,\n        \"min\": 18.8,\n        \"max\": 8684.8,\n        \"num_unique_values\": 8,\n        \"samples\": [\n          2280.3812636660514,\n          1394.55,\n          7043.0\n        ],\n        \"semantic_type\": \"\",\n        \"description\": \"\"\n      }\n    },\n    {\n      \"column\": \"Total Refunds\",\n      \"properties\": {\n        \"dtype\": \"number\",\n        \"std\": 2487.122008623336,\n        \"min\": 0.0,\n        \"max\": 7043.0,\n        \"num_unique_values\": 5,\n        \"samples\": [\n          1.9621823086752805,\n          49.79,\n          7.902614384451235\n        ],\n        \"semantic_type\": \"\",\n        \"description\": \"\"\n      }\n    },\n    {\n      \"column\": \"Total Extra Data Charges\",\n      \"properties\": {\n        \"dtype\": \"number\",\n        \"std\": 2481.4169389745875,\n        \"min\": 0.0,\n        \"max\": 7043.0,\n        \"num_unique_values\": 5,\n        \"samples\": [\n          6.860712764446968,\n          150.0,\n          25.10497799972308\n        ],\n        \"semantic_type\": \"\",\n        \"description\": \"\"\n      }\n    },\n    {\n      \"column\": \"Total Long Distance Charges\",\n      \"properties\": {\n        \"dtype\": \"number\",\n        \"std\": 2424.2439106536644,\n        \"min\": 0.0,\n        \"max\": 7043.0,\n        \"num_unique_values\": 8,\n        \"samples\": [\n          749.099261678262,\n          401.44,\n          7043.0\n        ],\n        \"semantic_type\": \"\",\n        \"description\": \"\"\n      }\n    },\n    {\n      \"column\": \"Total Revenue\",\n      \"properties\": {\n        \"dtype\": \"number\",\n        \"std\": 3904.1029297294517,\n        \"min\": 21.36,\n        \"max\": 11979.34,\n        \"num_unique_values\": 8,\n        \"samples\": [\n          3034.3790558000846,\n          2108.64,\n          7043.0\n        ],\n        \"semantic_type\": \"\",\n        \"description\": \"\"\n      }\n    },\n    {\n      \"column\": \"Satisfaction Score\",\n      \"properties\": {\n        \"dtype\": \"number\",\n        \"std\": 2489.0441731974774,\n        \"min\": 1.0,\n        \"max\": 7043.0,\n        \"num_unique_values\": 7,\n        \"samples\": [\n          7043.0,\n          3.2449240380519666,\n          4.0\n        ],\n        \"semantic_type\": \"\",\n        \"description\": \"\"\n      }\n    },\n    {\n      \"column\": \"Churn Score\",\n      \"properties\": {\n        \"dtype\": \"number\",\n        \"std\": 2472.2071796655036,\n        \"min\": 5.0,\n        \"max\": 7043.0,\n        \"num_unique_values\": 8,\n        \"samples\": [\n          58.505040465710636,\n          61.0,\n          7043.0\n        ],\n        \"semantic_type\": \"\",\n        \"description\": \"\"\n      }\n    },\n    {\n      \"column\": \"CLTV\",\n      \"properties\": {\n        \"dtype\": \"number\",\n        \"std\": 2044.9875864682836,\n        \"min\": 1183.0571519525197,\n        \"max\": 7043.0,\n        \"num_unique_values\": 8,\n        \"samples\": [\n          4400.295754650007,\n          4527.0,\n          7043.0\n        ],\n        \"semantic_type\": \"\",\n        \"description\": \"\"\n      }\n    }\n  ]\n}"
            }
          },
          "metadata": {},
          "execution_count": 38
        }
      ]
    },
    {
      "cell_type": "markdown",
      "source": [
        "# Distribuição dos dados:"
      ],
      "metadata": {
        "id": "BGXV4YP0-V-f"
      }
    },
    {
      "cell_type": "code",
      "source": [
        "# Qual é a média, mediana, moda e desvio padrão do tempo de permanência (tenure = Quanto tempo o cliente permaneceu na empresa) dos clientes?\n",
        "\n",
        "#Selecionar coluna tenure in months\n",
        "tenure = dados['Tenure in Months']\n",
        "\n",
        "#Saber qual a media de Tenure in Months\n",
        "tenure_mean = tenure.mean()\n",
        "print(\"Média de Tenure in Months:\", tenure_mean)\n",
        "\n",
        "#Saber qual a mediana de Tenure in Months\n",
        "tenure_median = tenure.median()\n",
        "print(\"Mediana de Tenure in Months:\", tenure_median)\n",
        "\n",
        "#Saber qual a moda de Tenure in Months\n",
        "tenure_mode = tenure.mode()\n",
        "print(\"Moda de Tenure in Months:\", tenure_mode)\n",
        "\n",
        "#Saber qual o desvio padrão do tempo de permanência dos clientes\n",
        "tenure_std = tenure.std()\n",
        "print(\"Desvio padrão de Tenure in Months:\", tenure_std)"
      ],
      "metadata": {
        "colab": {
          "base_uri": "https://localhost:8080/"
        },
        "id": "wi3BDcGr9rlw",
        "outputId": "c9473852-a695-4d4a-db5f-8ef29732720c"
      },
      "execution_count": null,
      "outputs": [
        {
          "output_type": "stream",
          "name": "stdout",
          "text": [
            "Média de Tenure in Months: 32.38676700269772\n",
            "Mediana de Tenure in Months: 29.0\n",
            "Moda de Tenure in Months: 0    1\n",
            "Name: Tenure in Months, dtype: int64\n",
            "Desvio padrão de Tenure in Months: 24.542061011425577\n"
          ]
        }
      ]
    },
    {
      "cell_type": "markdown",
      "source": [
        "# Análise de dispersão:\n"
      ],
      "metadata": {
        "id": "IFAHp_HL-dLA"
      }
    },
    {
      "cell_type": "markdown",
      "source": [
        "**Quartis:**"
      ],
      "metadata": {
        "id": "Dbd92aM3tUyN"
      }
    },
    {
      "cell_type": "code",
      "source": [
        "# Quais são os quartis do valor das cobranças mensais (monthly charges) e das taxas de rescisão (churn)?\n",
        "\n",
        "#Saber quais são os quartis do valor das cobranças mensais (monthly charges)\n",
        "monthly_charges_quantiles = tenure.quantile([0.25, 0.5, 0.75])\n",
        "print(\"Quantis do valor das cobranças mensais (monthly charges):\\n\", monthly_charges_quantiles)\n",
        "\n",
        "#Saber quais são os quartis do valor das taxas de rescisão mensais (churn)\n",
        "churn_quantiles = tenure.quantile([0.25, 0.5, 0.75])\n",
        "print(\"Quantis do valor das taxas de rescisão mensais (churn):\\n\", churn_quantiles)\n"
      ],
      "metadata": {
        "colab": {
          "base_uri": "https://localhost:8080/"
        },
        "id": "yrX8Fwhr-gBR",
        "outputId": "da0dba0c-029a-461f-ac56-7174fc52f09f",
        "collapsed": true
      },
      "execution_count": null,
      "outputs": [
        {
          "output_type": "stream",
          "name": "stdout",
          "text": [
            "Quantis do valor das cobranças mensais (monthly charges):\n",
            " 0.25     9.0\n",
            "0.50    29.0\n",
            "0.75    55.0\n",
            "Name: Tenure in Months, dtype: float64\n",
            "Quantis do valor das taxas de rescisão mensais (churn):\n",
            " 0.25     9.0\n",
            "0.50    29.0\n",
            "0.75    55.0\n",
            "Name: Tenure in Months, dtype: float64\n"
          ]
        }
      ]
    },
    {
      "cell_type": "markdown",
      "source": [
        "**Percentis:**"
      ],
      "metadata": {
        "id": "-6u-9J83taGL"
      }
    },
    {
      "cell_type": "code",
      "source": [
        "#Saber quais são os percentis do valor das cobranças mensais (monthly charges)\n",
        "monthly_charges_quantiles_percentil = tenure.quantile([0.1, 0.2, 0.3, 0.4, 0.5, 0.6, 0.7, 0.8, 0.9])\n",
        "print(\"Percentis do valor das cobranças mensais (monthly charges):\\n\", monthly_charges_quantiles_percentil)\n",
        "\n",
        "#Saber quais são os percentis do valor das taxas de rescisão mensais (Churn Reason)\n",
        "churn_quantiles_percentil = tenure.quantile([0.1, 0.2, 0.3, 0.4, 0.5, 0.6, 0.7, 0.8, 0.9])\n",
        "print(\"Percentis do valor das taxas de rescisão mensais (churn):\\n\", churn_quantiles_percentil)"
      ],
      "metadata": {
        "colab": {
          "base_uri": "https://localhost:8080/"
        },
        "id": "iCY5QS2lF0-J",
        "outputId": "b263fc8d-c459-4e8e-eee3-db061e5c169c",
        "collapsed": true
      },
      "execution_count": null,
      "outputs": [
        {
          "output_type": "stream",
          "name": "stdout",
          "text": [
            "Percentis do valor das cobranças mensais (monthly charges):\n",
            " 0.1     2.0\n",
            "0.2     6.0\n",
            "0.3    12.0\n",
            "0.4    20.0\n",
            "0.5    29.0\n",
            "0.6    40.0\n",
            "0.7    50.0\n",
            "0.8    60.0\n",
            "0.9    69.0\n",
            "Name: Tenure in Months, dtype: float64\n",
            "Percentis do valor das taxas de rescisão mensais (churn):\n",
            " 0.1     2.0\n",
            "0.2     6.0\n",
            "0.3    12.0\n",
            "0.4    20.0\n",
            "0.5    29.0\n",
            "0.6    40.0\n",
            "0.7    50.0\n",
            "0.8    60.0\n",
            "0.9    69.0\n",
            "Name: Tenure in Months, dtype: float64\n"
          ]
        }
      ]
    },
    {
      "cell_type": "markdown",
      "source": [
        "# Visualização\n",
        "\n",
        "Utilize gráficos como histograma e boxplot para visualizar a distribuição dos dados."
      ],
      "metadata": {
        "id": "NCrsrVdh-w1l"
      }
    },
    {
      "cell_type": "code",
      "source": [
        "# Gerar um gráficos como histograma e boxplot para visualizar a distribuição dos dados\n",
        "plt.figure(figsize=(12, 6))\n",
        "sns.histplot(tenure, bins=20, kde=True)\n",
        "plt.title('Distribuição dos dados')\n",
        "plt.xlabel('Tenure in Months')\n",
        "plt.ylabel('Número de consumidores')\n",
        "plt.show()"
      ],
      "metadata": {
        "colab": {
          "base_uri": "https://localhost:8080/",
          "height": 564
        },
        "id": "qZlXqDAs-1yl",
        "outputId": "5bc19852-2132-4de0-be09-74fab7dd4648"
      },
      "execution_count": null,
      "outputs": [
        {
          "output_type": "display_data",
          "data": {
            "text/plain": [
              "<Figure size 1200x600 with 1 Axes>"
            ],
            "image/png": "[encoded data removed]"
          },
          "metadata": {}
        }
      ]
    },
    {
      "cell_type": "code",
      "source": [
        "print(dados.columns)"
      ],
      "metadata": {
        "colab": {
          "base_uri": "https://localhost:8080/"
        },
        "id": "NJZFuUyunffY",
        "outputId": "0c3e2403-7138-441c-af5f-64b898d0e6fe"
      },
      "execution_count": null,
      "outputs": [
        {
          "output_type": "stream",
          "name": "stdout",
          "text": [
            "Index(['Customer ID', 'Gender', 'Age', 'Under 30', 'Senior Citizen', 'Married',\n",
            "       'Dependents', 'Number of Dependents', 'Country', 'State', 'City',\n",
            "       'Zip Code', 'Latitude', 'Longitude', 'Population', 'Quarter',\n",
            "       'Referred a Friend', 'Number of Referrals', 'Tenure in Months', 'Offer',\n",
            "       'Phone Service', 'Avg Monthly Long Distance Charges', 'Multiple Lines',\n",
            "       'Internet Service', 'Internet Type', 'Avg Monthly GB Download',\n",
            "       'Online Security', 'Online Backup', 'Device Protection Plan',\n",
            "       'Premium Tech Support', 'Streaming TV', 'Streaming Movies',\n",
            "       'Streaming Music', 'Unlimited Data', 'Contract', 'Paperless Billing',\n",
            "       'Payment Method', 'Monthly Charge', 'Total Charges', 'Total Refunds',\n",
            "       'Total Extra Data Charges', 'Total Long Distance Charges',\n",
            "       'Total Revenue', 'Satisfaction Score', 'Customer Status', 'Churn Label',\n",
            "       'Churn Score', 'CLTV', 'Churn Category', 'Churn Reason'],\n",
            "      dtype='object')\n"
          ]
        }
      ]
    },
    {
      "cell_type": "code",
      "source": [
        "# drop customerID -> identifier\n",
        "dados.drop(['Customer ID'], axis=1, inplace=True)"
      ],
      "metadata": {
        "id": "1azBaBvQnaVJ"
      },
      "execution_count": null,
      "outputs": []
    },
    {
      "cell_type": "code",
      "source": [
        "dados.info()"
      ],
      "metadata": {
        "colab": {
          "base_uri": "https://localhost:8080/"
        },
        "id": "XmJAVP-0nQob",
        "outputId": "ead48fac-391e-4686-811d-309ecd4d1892"
      },
      "execution_count": null,
      "outputs": [
        {
          "output_type": "stream",
          "name": "stdout",
          "text": [
            "<class 'pandas.core.frame.DataFrame'>\n",
            "RangeIndex: 7043 entries, 0 to 7042\n",
            "Data columns (total 49 columns):\n",
            " #   Column                             Non-Null Count  Dtype  \n",
            "---  ------                             --------------  -----  \n",
            " 0   Gender                             7043 non-null   object \n",
            " 1   Age                                7043 non-null   int64  \n",
            " 2   Under 30                           7043 non-null   object \n",
            " 3   Senior Citizen                     7043 non-null   object \n",
            " 4   Married                            7043 non-null   object \n",
            " 5   Dependents                         7043 non-null   object \n",
            " 6   Number of Dependents               7043 non-null   int64  \n",
            " 7   Country                            7043 non-null   object \n",
            " 8   State                              7043 non-null   object \n",
            " 9   City                               7043 non-null   object \n",
            " 10  Zip Code                           7043 non-null   int64  \n",
            " 11  Latitude                           7043 non-null   float64\n",
            " 12  Longitude                          7043 non-null   float64\n",
            " 13  Population                         7043 non-null   int64  \n",
            " 14  Quarter                            7043 non-null   object \n",
            " 15  Referred a Friend                  7043 non-null   object \n",
            " 16  Number of Referrals                7043 non-null   int64  \n",
            " 17  Tenure in Months                   7043 non-null   int64  \n",
            " 18  Offer                              3166 non-null   object \n",
            " 19  Phone Service                      7043 non-null   object \n",
            " 20  Avg Monthly Long Distance Charges  7043 non-null   float64\n",
            " 21  Multiple Lines                     7043 non-null   object \n",
            " 22  Internet Service                   7043 non-null   object \n",
            " 23  Internet Type                      5517 non-null   object \n",
            " 24  Avg Monthly GB Download            7043 non-null   int64  \n",
            " 25  Online Security                    7043 non-null   object \n",
            " 26  Online Backup                      7043 non-null   object \n",
            " 27  Device Protection Plan             7043 non-null   object \n",
            " 28  Premium Tech Support               7043 non-null   object \n",
            " 29  Streaming TV                       7043 non-null   object \n",
            " 30  Streaming Movies                   7043 non-null   object \n",
            " 31  Streaming Music                    7043 non-null   object \n",
            " 32  Unlimited Data                     7043 non-null   object \n",
            " 33  Contract                           7043 non-null   object \n",
            " 34  Paperless Billing                  7043 non-null   object \n",
            " 35  Payment Method                     7043 non-null   object \n",
            " 36  Monthly Charge                     7043 non-null   float64\n",
            " 37  Total Charges                      7043 non-null   float64\n",
            " 38  Total Refunds                      7043 non-null   float64\n",
            " 39  Total Extra Data Charges           7043 non-null   int64  \n",
            " 40  Total Long Distance Charges        7043 non-null   float64\n",
            " 41  Total Revenue                      7043 non-null   float64\n",
            " 42  Satisfaction Score                 7043 non-null   int64  \n",
            " 43  Customer Status                    7043 non-null   object \n",
            " 44  Churn Label                        7043 non-null   object \n",
            " 45  Churn Score                        7043 non-null   int64  \n",
            " 46  CLTV                               7043 non-null   int64  \n",
            " 47  Churn Category                     1869 non-null   object \n",
            " 48  Churn Reason                       1869 non-null   object \n",
            "dtypes: float64(8), int64(11), object(30)\n",
            "memory usage: 2.6+ MB\n"
          ]
        }
      ]
    },
    {
      "cell_type": "markdown",
      "source": [
        "# Probabilidade, Amostragem e Testes de Hipóteses"
      ],
      "metadata": {
        "id": "wTgiRLZ__OXw"
      }
    },
    {
      "cell_type": "code",
      "source": [
        "#Escolha uma amostra aleatória de 30% dos dados\n",
        "amostra = dados.sample(frac=0.3, random_state=42)"
      ],
      "metadata": {
        "id": "mb5sNytK_Xne"
      },
      "execution_count": null,
      "outputs": []
    },
    {
      "cell_type": "markdown",
      "source": [
        "# Probabilidade\n"
      ],
      "metadata": {
        "id": "MXhZGLyj_k4v"
      }
    },
    {
      "cell_type": "code",
      "source": [
        "# Calcular a probabilidade de um cliente encerrar o serviço (churn) com base em características como tempo de permanência (tenure) e cobranças mensais (monthly charges).\n",
        "\n",
        "#Saber a probabilidade de um cliente encerrar o serviço (churn)\n",
        "probabilidade_churn = dados['Churn Label'].value_counts(normalize=True)\n",
        "print(\"Probabilidade de um cliente encerrar o serviço (churn):\\n\", probabilidade_churn)\n"
      ],
      "metadata": {
        "colab": {
          "base_uri": "https://localhost:8080/"
        },
        "id": "Zwwlpwyv_ZEC",
        "outputId": "4712d6b4-d970-4a93-ff03-43a40d1b7cba"
      },
      "execution_count": null,
      "outputs": [
        {
          "output_type": "stream",
          "name": "stdout",
          "text": [
            "Probabilidade de um cliente encerrar o serviço (churn):\n",
            " Churn Label\n",
            "No     0.73463\n",
            "Yes    0.26537\n",
            "Name: proportion, dtype: float64\n"
          ]
        }
      ]
    },
    {
      "cell_type": "code",
      "source": [
        "dados['Churn Label'].value_counts()"
      ],
      "metadata": {
        "colab": {
          "base_uri": "https://localhost:8080/",
          "height": 178
        },
        "collapsed": true,
        "id": "EmYIqS-zonqR",
        "outputId": "1f522738-45b6-4adb-d18e-ae896263e21f"
      },
      "execution_count": null,
      "outputs": [
        {
          "output_type": "execute_result",
          "data": {
            "text/plain": [
              "Churn Label\n",
              "No     5174\n",
              "Yes    1869\n",
              "Name: count, dtype: int64"
            ],
            "text/html": [
              "<div>\n",
              "<style scoped>\n",
              "    .dataframe tbody tr th:only-of-type {\n",
              "        vertical-align: middle;\n",
              "    }\n",
              "\n",
              "    .dataframe tbody tr th {\n",
              "        vertical-align: top;\n",
              "    }\n",
              "\n",
              "    .dataframe thead th {\n",
              "        text-align: right;\n",
              "    }\n",
              "</style>\n",
              "<table border=\"1\" class=\"dataframe\">\n",
              "  <thead>\n",
              "    <tr style=\"text-align: right;\">\n",
              "      <th></th>\n",
              "      <th>count</th>\n",
              "    </tr>\n",
              "    <tr>\n",
              "      <th>Churn Label</th>\n",
              "      <th></th>\n",
              "    </tr>\n",
              "  </thead>\n",
              "  <tbody>\n",
              "    <tr>\n",
              "      <th>No</th>\n",
              "      <td>5174</td>\n",
              "    </tr>\n",
              "    <tr>\n",
              "      <th>Yes</th>\n",
              "      <td>1869</td>\n",
              "    </tr>\n",
              "  </tbody>\n",
              "</table>\n",
              "</div><br><label><b>dtype:</b> int64</label>"
            ]
          },
          "metadata": {},
          "execution_count": 57
        }
      ]
    },
    {
      "cell_type": "code",
      "source": [
        "# Churn\n",
        "sns.countplot(x='Churn Label', data=dados);"
      ],
      "metadata": {
        "colab": {
          "base_uri": "https://localhost:8080/",
          "height": 449
        },
        "id": "ROD-dBPnoCSX",
        "outputId": "56879491-d45a-447f-c2fd-b1a17a6381c8"
      },
      "execution_count": null,
      "outputs": [
        {
          "output_type": "display_data",
          "data": {
            "text/plain": [
              "<Figure size 640x480 with 1 Axes>"
            ],
            "image/png": "[encoded data removed]"
          },
          "metadata": {}
        }
      ]
    },
    {
      "cell_type": "code",
      "source": [
        "# Saber quantos clientes que desistem e não desistem por gênero.\n",
        "\n",
        "#Saber a porcentagem por genero\n",
        "df_Gender = pd.DataFrame(dados['Gender'].value_counts())\n",
        "df_Gender['Percent'] = [round(i*100/sum(df_Gender['count']), 1) for i in df_Gender['count']]\n",
        "\n",
        "df_Gender_churn = pd.DataFrame(dados.Gender[(dados['Churn Label'] == 'Yes')].value_counts())\n",
        "df_Gender['Churn Label'] = df_Gender_churn['count'].reindex(df_Gender.index).fillna(0).astype(int)\n",
        "df_Gender['Churn Label %'] = [round(i*100/sum(df_Gender_churn['count']), 1) for i in df_Gender_churn['count']]\n",
        "\n",
        "df_Gender_not_churn = pd.DataFrame(dados.Gender[(dados['Churn Label'] == 'No')].value_counts())\n",
        "df_Gender['Not Churn'] = df_Gender_not_churn['count'].reindex(df_Gender.index).fillna(0).astype(int)\n",
        "df_Gender['Not Churn %'] = [round(i*100/sum(df_Gender_not_churn['count']), 1) for i in df_Gender_not_churn['count']]\n",
        "\n",
        "print(df_Gender)\n"
      ],
      "metadata": {
        "colab": {
          "base_uri": "https://localhost:8080/"
        },
        "id": "abvz8nvoo4fO",
        "outputId": "9865a1f1-f8c1-49b5-b965-f5663fbd69a6"
      },
      "execution_count": null,
      "outputs": [
        {
          "output_type": "stream",
          "name": "stdout",
          "text": [
            "        count  Percent  Churn Label  Churn Label %  Not Churn  Not Churn %\n",
            "Gender                                                                    \n",
            "Male     3555     50.5          930           50.2       2625         50.7\n",
            "Female   3488     49.5          939           49.8       2549         49.3\n"
          ]
        }
      ]
    },
    {
      "cell_type": "code",
      "source": [
        "plt.figure(figsize=(10,4))\n",
        "ax = sns.countplot(x='Gender', hue='Churn Label', data=dados, palette='Blues')\n",
        "plt.xlabel('Gender', fontsize=13)\n",
        "plt.ylabel('Number of Customers', fontsize=13)\n",
        "plt.ylim(0, 3000)\n",
        "for p in ax.patches:\n",
        "    ax.annotate((p.get_height()), (p.get_x()+0.1, p.get_height()+200), fontsize=10)\n",
        "\n"
      ],
      "metadata": {
        "colab": {
          "base_uri": "https://localhost:8080/",
          "height": 397
        },
        "collapsed": true,
        "id": "5x-enCiZqebg",
        "outputId": "61b29bda-b01a-4f45-c439-5bcb82fca448"
      },
      "execution_count": null,
      "outputs": [
        {
          "output_type": "display_data",
          "data": {
            "text/plain": [
              "<Figure size 1000x400 with 1 Axes>"
            ],
            "image/png": "[encoded data removed]"
          },
          "metadata": {}
        }
      ]
    },
    {
      "cell_type": "markdown",
      "source": [
        "#Testes de Hipóteses:\n",
        "\n"
      ],
      "metadata": {
        "id": "An_Lkf8Y_3on"
      }
    },
    {
      "cell_type": "code",
      "source": [
        "# Escolha duas variáveis relevantes (por exemplo, churn e tipo de contrato) e formule uma hipótese nula (H0) e uma hipótese alternativa (H1).\n",
        "\n",
        "#Separar grupos\n",
        "stats.ttest_ind(dados[dados['Churn Label'] == 'Yes']['Tenure in Months'], dados[dados['Churn Label'] == 'No']['Tenure in Months'])\n",
        "\n",
        "# Teste T de duas amostras\n",
        "t_stat, p_value = stats.ttest_ind(dados[dados['Churn Label'] == 'Yes']['Tenure in Months'], dados[dados['Churn Label'] == 'No']['Tenure in Months'])\n",
        "print(\"Valor-p:\", p_value)"
      ],
      "metadata": {
        "colab": {
          "base_uri": "https://localhost:8080/"
        },
        "id": "wu5MvVkZ_5jL",
        "outputId": "53d617b7-310e-4ab8-885e-5a04d907dc95"
      },
      "execution_count": null,
      "outputs": [
        {
          "output_type": "stream",
          "name": "stdout",
          "text": [
            "Valor-p: 1.3292218159000336e-205\n"
          ]
        }
      ]
    },
    {
      "cell_type": "code",
      "source": [
        "#Interpretaçao\n",
        "\n",
        "if p_value < 0.05:\n",
        "    print(\"Rejeitamos a hipótese nula. Existem diferenças significativas entre os grupos.\")\n",
        "else:\n",
        "    print(\"Não rejeitamos a hipótese nula. Não há evidências de diferenças significativas entre os grupos.\")"
      ],
      "metadata": {
        "colab": {
          "base_uri": "https://localhost:8080/"
        },
        "id": "oae3GurBLWlj",
        "outputId": "e2cd4672-ad8e-4105-9d0e-bfcfa559abf9"
      },
      "execution_count": null,
      "outputs": [
        {
          "output_type": "stream",
          "name": "stdout",
          "text": [
            "Rejeitamos a hipótese nula. Existem diferenças significativas entre os grupos.\n"
          ]
        }
      ]
    },
    {
      "cell_type": "code",
      "source": [
        "# Realize um Teste T ou ANOVA para verificar se há diferença significativa nas cobranças mensais entre clientes que cancelam o serviço e aqueles que não cancelam.\n",
        "anova_result = stats.f_oneway(dados[dados['Churn Label'] == 'Yes']['Monthly Charge'], dados[dados['Churn Label'] == 'No']['Monthly Charge'])\n",
        "print(\"F-statistic:\", anova_result.statistic)\n",
        "print(\"P-value:\", anova_result.pvalue)\n"
      ],
      "metadata": {
        "colab": {
          "base_uri": "https://localhost:8080/"
        },
        "id": "2ejHoWAx_8bW",
        "outputId": "b6de742a-2f2d-40dd-fb8b-9bb35066485f"
      },
      "execution_count": null,
      "outputs": [
        {
          "output_type": "stream",
          "name": "stdout",
          "text": [
            "F-statistic: 273.4637042077133\n",
            "P-value: 2.7066456068950115e-60\n"
          ]
        }
      ]
    },
    {
      "cell_type": "markdown",
      "source": [
        " # Conclusão"
      ],
      "metadata": {
        "id": "jN8v7Qg2mKCf"
      }
    },
    {
      "cell_type": "markdown",
      "source": [
        "Introdução ao Contexto:"
      ],
      "metadata": {
        "id": "-l_Eo3CwmK1E"
      }
    },
    {
      "cell_type": "markdown",
      "source": [
        "Nosso objetivo com este projeto é aplicar os conceitos de Estatística Descritiva, Probabilidade, Amostragem e Testes de Hipóteses, consolidando o entendimento teórico e demonstrando a capacidade de utilizar ferramentas estatísticas em uma análise prática de dados reais.\n",
        "\n",
        "A base de dados que utilizaremos é o \"Telco Customer Churn\", que contém informações sobre a rotatividade de clientes de uma empresa de telecomunicações. A análise desse dataset nos permitirá entender o comportamento dos clientes que cancelam o serviço e identificar os fatores que influenciam essa decisão."
      ],
      "metadata": {
        "id": "PDD547ZXl1U4"
      }
    },
    {
      "cell_type": "markdown",
      "source": [
        "**Distribuição dos dados:**"
      ],
      "metadata": {
        "id": "5IAniGXZm9L7"
      }
    },
    {
      "cell_type": "markdown",
      "source": [
        "Quantos clientes abandonam e não abandonam?\n",
        "\n",
        "No gráfico abaixo, pode-se observar que a maioria dos clientes não cancela\n",
        "De 7.043 clientes, 5174 não cancelam.\n",
        "\n",
        "![image.png](data:image/png;base64,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)"
      ],
      "metadata": {
        "id": "PBi2KfQ3rac_"
      }
    }
  ]
}