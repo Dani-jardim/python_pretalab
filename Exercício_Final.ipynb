{
  "nbformat": 4,
  "nbformat_minor": 0,
  "metadata": {
    "colab": {
      "provenance": [],
      "include_colab_link": true
    },
    "kernelspec": {
      "name": "python3",
      "display_name": "Python 3"
    },
    "language_info": {
      "name": "python"
    }
  },
  "cells": [
    {
      "cell_type": "markdown",
      "metadata": {
        "id": "view-in-github",
        "colab_type": "text"
      },
      "source": [
        "<a href=\"https://colab.research.google.com/github/Dani-jardim/python_pretalab/blob/main/Exerc%C3%ADcio_Final.ipynb\" target=\"_parent\"><img src=\"https://colab.research.google.com/assets/colab-badge.svg\" alt=\"Open In Colab\"/></a>"
      ]
    },
    {
      "cell_type": "markdown",
      "source": [
        "# Contagem de Medalhas\n",
        "\n",
        "Crie um programa que receba o número de medalhas de ouro, prata e bronze de um país nas Olimpíadas e calcule o total de medalhas.\n",
        "Quando escrever 'sair', o programa deverá encerrar e mostrar na tela o ranking de medalhas no formato:"
      ],
      "metadata": {
        "id": "RQN1e5FZY6SZ"
      }
    },
    {
      "cell_type": "code",
      "source": [
        "#Ranking de medalhas:\n",
        "#Brasil: 7 medalhas\n",
        "#França: 6 medalhas\n",
        "#Argentina: 3 medalhas"
      ],
      "metadata": {
        "id": "gCq_KLHzZSzb"
      },
      "execution_count": null,
      "outputs": []
    },
    {
      "cell_type": "code",
      "execution_count": 62,
      "metadata": {
        "id": "AJJhjxiPTd5s",
        "outputId": "a3d185c1-ab6a-462b-fde3-6d80fdd7012f",
        "colab": {
          "base_uri": "https://localhost:8080/"
        }
      },
      "outputs": [
        {
          "output_type": "stream",
          "name": "stdout",
          "text": [
            "Digite o pais? (ou \"sair\" para encerrar) brasil\n",
            "Digite o número de medalhas de ouro 1\n",
            "Digite o número de medalhas de prata 2\n",
            "Digite o número de medalhas de bronze 3\n",
            "Digite o pais? (ou \"sair\" para encerrar) italia\n",
            "Digite o número de medalhas de ouro 3\n",
            "Digite o número de medalhas de prata 5\n",
            "Digite o número de medalhas de bronze 7\n",
            "Digite o pais? (ou \"sair\" para encerrar) sair\n",
            "Ranking de medalhas:\n",
            " [['brasil', 6], ['italia', 15]] medalhas \n",
            "\n"
          ]
        }
      ],
      "source": [
        "ranking = []\n",
        "pais = ''\n",
        "while pais != 0:\n",
        "  pais = input('Digite o pais? (ou \"sair\" para encerrar) ')\n",
        "  if pais.lower() == 'sair':\n",
        "\n",
        "    print(f'Ranking de medalhas:\\n {ranking} medalhas \\n')\n",
        "\n",
        "    break\n",
        "\n",
        "  medalha_ouro = int(input('Digite o número de medalhas de ouro '))\n",
        "  medalha_prata = int(input('Digite o número de medalhas de prata '))\n",
        "  medalha_bronze = int(input('Digite o número de medalhas de bronze '))\n",
        "\n",
        "  soma_de_medalhas = medalha_ouro + medalha_prata + medalha_bronze\n",
        "\n",
        "  ranking.append([pais, soma_de_medalhas])\n",
        "\n",
        "\n",
        "\n"
      ]
    }
  ]
}